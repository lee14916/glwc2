{
 "cells": [
  {
   "cell_type": "code",
   "execution_count": 15,
   "metadata": {},
   "outputs": [
    {
     "name": "stdout",
     "output_type": "stream",
     "text": [
      "494 494 496\n",
      "['a0000', 'a0002', 'a0004', 'a0006', 'a0008', 'a0010']\n",
      "[2.9333905e-10 6.3708205e-10 3.9474937e-10 2.6185060e-10]\n",
      "[2.8954972e-10 6.3409139e-10 3.9248127e-10 2.5916136e-10]\n",
      "[2.9144437e-10 6.3558669e-10 3.9361531e-10 2.6050598e-10]\n",
      "[-3.11608378e-13  6.35134174e-10  3.91448478e-10  2.60600080e-10]\n",
      "[-3.40127232e-13  6.45442123e-10  4.00432007e-10  2.67093413e-10]\n"
     ]
    }
   ],
   "source": [
    "import h5py\n",
    "import numpy as np\n",
    "\n",
    "ens='cD96'\n",
    "ensemble='cD211.054.96'\n",
    "\n",
    "cfg2new=lambda cfg: {'r0':'a','r1':'b','r2':'c','r3':'d'}[cfg[-2:]]+cfg[:4]\n",
    "cfg2old=lambda cfg: cfg[1:]+'_'+{'a':'r0','b':'r1','c':'r2','d':'r3'}[cfg[0]]\n",
    "\n",
    "path='/p/project/pines/li47/code/projectData/NST_b-discNJN/{}/data_merge/NST_b.h5_{}'.format(ensemble,ens)\n",
    "path2='/p/project/pines/li47/code/projectData/NST_b-discNJN-old/data_merge/NST_b.h5_main'\n",
    "path3='/p/project/pines/li47/code/projectData/NST_b-discNJN/connFromOthers/cD211.054.96/charges_8_20_127srcs.h5'\n",
    "path4='/p/project/pines/li47/code/projectData/NST_b-discNJN/connFromOthers/cD211.054.96/charges_22_to_26_112srcs.h5'\n",
    "outfile='dat/NST_b_{}.h5'.format(ens)\n",
    "with h5py.File(path) as f, h5py.File(outfile,'w') as fw, h5py.File(path3) as f3, h5py.File(path4) as f4:\n",
    "    cfgs1=[cfg.decode() for cfg in f['cfgs']]\n",
    "    cfgs3=[cfg2new(cfg) for cfg in f3['gS/up/dt8'].keys()]\n",
    "    cfgs=list(set(cfgs1).intersection(set(cfgs3)))\n",
    "    cfgs.sort()\n",
    "    cfgs_old=[cfg2old(cfg) for cfg in cfgs]\n",
    "    print(len(cfgs),len(cfgs1),len(cfgs3))\n",
    "    \n",
    "    dic={}\n",
    "    for i,cfg in enumerate(cfgs1):\n",
    "        dic[cfg]=i\n",
    "    cfgs1_map=[dic[cfg] for cfg in cfgs]    \n",
    "\n",
    "    key='VEV/j/data/j+'; fw.create_dataset(key,data=f[key][cfgs1_map])\n",
    "    key='VEV/j/inserts'; fw.create_dataset(key,data=f[key])\n",
    "    key='cfgs'; fw.create_dataset(key,data=cfgs)\n",
    "    key='diags/N/data/N2_N2'; fw.create_dataset(key,data=f[key][cfgs1_map])\n",
    "    key='diags/N/opabs'; fw.create_dataset(key,data=f[key])\n",
    "\n",
    "    opabs=[opab.decode() for opab in f['diags/N-j/opabs']]; dic={}\n",
    "    for i,opab in enumerate(opabs):\n",
    "        dic[opab]=i\n",
    "    opabs_new=['g;0,0,0;G1g;a;l1;N_g;0,0,0;G1g;a;l1;N','g;0,0,0;G1g;a;l2;N_g;0,0,0;G1g;a;l2;N']\n",
    "    opabs_map=[dic[opab] for opab in opabs_new]\n",
    "    \n",
    "    inserts=[insert.decode() for insert in f['diags/N-j/inserts']]; dic={}\n",
    "    for i,insert in enumerate(inserts):\n",
    "        dic[insert]=i\n",
    "    inserts_new=['id']\n",
    "    inserts_map=[dic[insert] for insert in inserts_new]\n",
    "    \n",
    "    tfs=[int(key.split('_')[-1]) for key in f['diags/N-j/data'].keys()]\n",
    "    tfs=list(set(tfs))\n",
    "    tfs.sort()\n",
    "    key='diags/N-j/opabs'; fw.create_dataset(key,data=opabs_new)\n",
    "    key='diags/N-j/inserts'; fw.create_dataset(key,data=inserts_new)\n",
    "    for tf in tfs:\n",
    "        key='diags/N-j/data/N2_j+_N2_deltat_{}'.format(tf)\n",
    "        t=f[key][:]\n",
    "        t=t[cfgs1_map]\n",
    "        t=t[:,:,opabs_map]\n",
    "        t=t[:,:,:,inserts_map]\n",
    "        fw.create_dataset(key,data=t)\n",
    "\n",
    "    for file in [f3,f4]:\n",
    "        tfs=[int(key[2:]) for key in file['gS/up'].keys()]\n",
    "        tfs=list(set(tfs))\n",
    "        tfs.sort()\n",
    "        for tf in tfs:\n",
    "            tup=np.array([file['gS/up/dt{}'.format(tf)][cfg][:] for cfg in cfgs_old])\n",
    "            tdn=np.array([file['gS/up/dt{}'.format(tf)][cfg][:] for cfg in cfgs_old])\n",
    "            \n",
    "            key='diags/NJN/data/gS_j+_deltat_{}'.format(tf)\n",
    "            tP=-(tup+tdn)\n",
    "            fw.create_dataset(key,data=tP)\n",
    "\n",
    "            key='diags/N_correlated_NJN/data/dt{}_twop'.format(tf)\n",
    "            t2pt=np.array([file['dt{}_twop'.format(tf)][cfg][()] for cfg in cfgs_old])\n",
    "            fw.create_dataset(key,data=t2pt)\n",
    "    \n",
    "    # print(cfgs[0])\n",
    "    print(cfgs[:6])\n",
    "    t1=np.real(fw['diags/N/data/N2_N2'][2,:4,0]); t2=np.real(fw['diags/N/data/N2_N2'][2,:4,1])\n",
    "    print(t1)\n",
    "    print(t2)\n",
    "    print((t1+t2)/2)\n",
    "    print(f3['twop']['0004_r0'][:4])\n",
    "    print(f4['twop']['0004_r0'][:4])"
   ]
  },
  {
   "cell_type": "code",
   "execution_count": 19,
   "metadata": {},
   "outputs": [
    {
     "name": "stdout",
     "output_type": "stream",
     "text": [
      "dict_keys(['confs', 'twop_mom0', 'twop_mom1', 'A0_mom1'])\n",
      "{'0190_r3', '0062_r3', '0036_r3', '0222_r2', '0122_r2', '0234_r0', '0220_r3', '0344_r0', '0136_r1', '0196_r3', '0148_r2', '0100_r1', '0126_r0', '0054_r2', '0004_r3', '0296_r0', '0156_r1', '0078_r3', '0038_r1', '0200_r3', '0030_r3', '0024_r3', '0168_r2', '0120_r3', '0162_r3', '0048_r1', '0024_r2', '0146_r2', '0126_r2', '0066_r2', '0260_r0', '0322_r0', '0060_r2', '0230_r0', '0282_r0', '0170_r1', '0028_r3', '0128_r2', '0310_r0', '0108_r3', '0102_r3', '0194_r3', '0050_r3', '0188_r2', '0012_r3', '0200_r2', '0104_r0', '0104_r1', '0076_r0', '0178_r3', '0006_r2', '0080_r3', '0244_r0', '0176_r0', '0142_r2', '0162_r2', '0072_r3', '0016_r3', '0050_r0', '0130_r2', '0118_r0', '0046_r2', '0284_r0', '0096_r1', '0218_r3', '0196_r1', '0192_r3', '0030_r0', '0210_r2', '0152_r3', '0138_r0', '0242_r0', '0140_r2', '0040_r3', '0064_r0', '0302_r0', '0092_r2', '0156_r3', '0106_r3', '0162_r0', '0226_r0', '0116_r2', '0124_r0', '0212_r2', '0312_r0', '0096_r0', '0018_r0', '0100_r2', '0004_r2', '0170_r3', '0072_r1', '0228_r0', '0298_r0', '0000_r2', '0050_r1', '0098_r3', '0138_r1', '0150_r3', '0212_r0', '0152_r2', '0206_r2', '0010_r0', '0092_r3', '0006_r0', '0178_r2', '0202_r0', '0084_r0', '0162_r1', '0122_r0', '0010_r2', '0132_r3', '0102_r2', '0000_r1', '0136_r0', '0096_r2', '0052_r0', '0328_r0', '0250_r0', '0160_r1', '0150_r0', '0246_r0', '0206_r0', '0308_r0', '0150_r2', '0014_r1', '0032_r0', '0002_r1', '0094_r0', '0080_r1', '0280_r0', '0110_r2', '0130_r1', '0172_r2', '0064_r1', '0164_r0', '0148_r3', '0112_r2', '0074_r1', '0042_r2', '0074_r3', '0128_r3', '0222_r0', '0034_r3', '0168_r0', '0026_r1', '0208_r2', '0264_r0', '0108_r1', '0032_r1', '0272_r0', '0166_r2', '0070_r1', '0060_r1', '0110_r0', '0016_r1', '0158_r1', '0208_r3', '0046_r3', '0184_r2', '0292_r0', '0082_r2', '0100_r0', '0200_r1', '0184_r1', '0058_r2', '0060_r3', '0224_r0', '0088_r3', '0098_r0', '0182_r3', '0158_r0', '0240_r0', '0086_r2', '0118_r3', '0072_r0', '0040_r1', '0174_r3', '0086_r3', '0258_r0', '0168_r3', '0086_r1', '0186_r1', '0294_r0', '0316_r0', '0080_r2', '0008_r2', '0120_r1', '0232_r0', '0158_r2', '0010_r1', '0018_r3', '0304_r0', '0112_r0', '0174_r1', '0290_r0', '0034_r2', '0042_r3', '0174_r2', '0144_r3', '0340_r0', '0176_r1', '0268_r0', '0072_r2', '0136_r2', '0204_r3', '0190_r1', '0142_r3', '0132_r0', '0178_r0', '0082_r0', '0046_r0', '0076_r3', '0122_r1', '0062_r1', '0148_r1', '0208_r0', '0034_r1', '0182_r0', '0078_r2', '0014_r3', '0198_r1', '0158_r3', '0278_r0', '0116_r3', '0180_r2', '0034_r0', '0002_r0', '0022_r1', '0070_r0', '0050_r2', '0134_r3', '0010_r3', '0004_r0', '0300_r0', '0078_r1', '0068_r1', '0220_r2', '0124_r1', '0188_r1', '0006_r1', '0120_r0', '0000_r3', '0028_r2', '0214_r0', '0324_r0', '0134_r2', '0276_r0', '0198_r0', '0192_r0', '0166_r1', '0032_r3', '0210_r3', '0288_r0', '0026_r0', '0164_r1', '0070_r3', '0014_r0', '0136_r3', '0142_r1', '0186_r0', '0190_r2', '0004_r1', '0154_r1', '0076_r1', '0338_r0', '0048_r0', '0170_r0', '0326_r0', '0236_r0', '0020_r1', '0038_r3', '0172_r3', '0092_r0', '0062_r0', '0014_r2', '0052_r1', '0022_r0', '0020_r3', '0216_r2', '0082_r1', '0012_r2', '0098_r2', '0092_r1', '0126_r3', '0202_r3', '0176_r2', '0146_r0', '0114_r3', '0330_r0', '0112_r1', '0054_r1', '0220_r0', '0144_r0', '0252_r0', '0026_r2', '0022_r3', '0152_r1', '0056_r3', '0212_r3', '0202_r2', '0174_r0', '0120_r2', '0012_r0', '0060_r0', '0318_r0', '0266_r0', '0152_r0', '0100_r3', '0088_r1', '0286_r0', '0130_r0', '0134_r1', '0164_r3', '0176_r3', '0166_r3', '0138_r3', '0160_r2', '0132_r1', '0062_r2', '0090_r1', '0116_r1', '0182_r1', '0206_r3', '0016_r0', '0192_r1', '0006_r3', '0256_r0', '0262_r0', '0182_r2', '0320_r0', '0046_r1', '0156_r2', '0064_r3', '0044_r0', '0188_r0', '0110_r1', '0126_r1', '0048_r3', '0196_r0', '0066_r1', '0134_r0', '0334_r0', '0160_r0', '0076_r2', '0188_r3', '0180_r3', '0058_r1', '0102_r0', '0106_r2', '0180_r1', '0150_r1', '0112_r3', '0144_r1', '0168_r1', '0030_r2', '0056_r2', '0086_r0', '0044_r2', '0038_r2', '0166_r0', '0146_r3', '0218_r2', '0274_r0', '0028_r0', '0084_r2', '0186_r3', '0198_r2', '0154_r0', '0110_r3', '0024_r1', '0090_r2', '0218_r0', '0198_r3', '0044_r1', '0078_r0', '0194_r0', '0032_r2', '0020_r0', '0196_r2', '0210_r0', '0008_r3', '0066_r0', '0164_r2', '0090_r0', '0104_r2', '0094_r3', '0194_r1', '0190_r0', '0058_r3', '0036_r0', '0040_r0', '0098_r1', '0214_r2', '0154_r2', '0128_r0', '0204_r2', '0102_r1', '0342_r0', '0094_r2', '0022_r2', '0122_r3', '0146_r1', '0132_r2', '0040_r2', '0088_r2', '0094_r1', '0160_r3', '0142_r0', '0036_r1', '0148_r0', '0066_r3', '0074_r0', '0140_r3', '0058_r0', '0170_r2', '0106_r0', '0042_r1', '0216_r3', '0000_r0', '0018_r2', '0214_r3', '0070_r2', '0204_r0', '0346_r0', '0082_r3', '0024_r0', '0054_r3', '0314_r0', '0140_r1', '0028_r1', '0088_r0', '0118_r1', '0118_r2', '0216_r0', '0002_r3', '0080_r0', '0012_r1', '0036_r2', '0008_r1', '0002_r2', '0108_r0', '0114_r2', '0186_r2', '0156_r0', '0154_r3', '0194_r2', '0144_r2', '0130_r3', '0124_r3', '0026_r3', '0084_r3', '0200_r0', '0068_r3', '0090_r3', '0138_r2', '0114_r1', '0056_r1', '0192_r2', '0184_r3', '0038_r0', '0116_r0', '0030_r1', '0124_r2', '0254_r0', '0180_r0', '0052_r3', '0018_r1', '0172_r1', '0306_r0', '0106_r1', '0332_r0', '0108_r2', '0064_r2', '0074_r2', '0114_r0', '0016_r2', '0044_r3', '0054_r0', '0020_r2', '0140_r0', '0084_r1', '0096_r3', '0056_r0', '0184_r0', '0042_r0', '0172_r0', '0238_r0', '0008_r0', '0068_r0', '0270_r0', '0128_r1', '0052_r2', '0348_r0', '0048_r2', '0248_r0', '0104_r3'}\n",
      "232\n",
      "[6.08405687e-13 6.38701259e-10 4.00503682e-10 2.63232134e-10]\n"
     ]
    }
   ],
   "source": [
    "import pickle\n",
    "path='/p/project/pines/li47/code/projectData/NST_b-discNJN/connFromOthers/cD211.054.96/D96_2pt_christos.pkl' \n",
    "with open(path,'rb') as f:\n",
    "    dat=pickle.load(f)\n",
    "print(dat.keys())\n",
    "cfgs=dat['confs']\n",
    "print(cfgs)\n",
    "dic={}\n",
    "for i,cfg in enumerate(cfgs):\n",
    "    dic[cfg]=i\n",
    "ind=dic['0004_r0']\n",
    "print(ind)\n",
    "dat['twop_mom0'].shape\n",
    "ele=dat['twop_mom0'][ind,:4]\n",
    "print(ele)\n",
    "\n",
    "# for ele in dat['twop_mom0'][:,:4]:\n",
    "#     print(ele-[2.9144437e-10, 6.3558669e-10, 3.9361531e-10, 2.6050598e-10])"
   ]
  }
 ],
 "metadata": {
  "kernelspec": {
   "display_name": "Python 3",
   "language": "python",
   "name": "python3"
  },
  "language_info": {
   "codemirror_mode": {
    "name": "ipython",
    "version": 3
   },
   "file_extension": ".py",
   "mimetype": "text/x-python",
   "name": "python",
   "nbconvert_exporter": "python",
   "pygments_lexer": "ipython3",
   "version": "3.6.8"
  }
 },
 "nbformat": 4,
 "nbformat_minor": 2
}
