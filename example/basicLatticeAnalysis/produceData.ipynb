{
 "cells": [
  {
   "cell_type": "code",
   "execution_count": null,
   "metadata": {},
   "outputs": [],
   "source": [
    "import h5py\n",
    "import numpy as np\n",
    "\n",
    "path='/p/project/pines/li47/code/projectData/NST_b-discNJN/cD211.054.96/data_merge/NST_b.h5_cD96'\n",
    "outfile='dat/NST_b.h5_cD96_2pt'\n",
    "with h5py.File(path) as f, h5py.File(outfile,'w') as fw:\n",
    "    fw.copy(f['cfgs'],fw,name='cfgs')\n",
    "    fw.copy(f['diags/N'],fw,name='diags/N')\n",
    "    print(f['diags'].keys())"
   ]
  }
 ],
 "metadata": {
  "kernelspec": {
   "display_name": "Python 3",
   "language": "python",
   "name": "python3"
  },
  "language_info": {
   "codemirror_mode": {
    "name": "ipython",
    "version": 3
   },
   "file_extension": ".py",
   "mimetype": "text/x-python",
   "name": "python",
   "nbconvert_exporter": "python",
   "pygments_lexer": "ipython3",
   "version": "3.6.8"
  }
 },
 "nbformat": 4,
 "nbformat_minor": 2
}
