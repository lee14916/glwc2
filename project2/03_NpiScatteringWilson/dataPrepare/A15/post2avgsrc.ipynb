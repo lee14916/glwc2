{
 "cells": [
  {
   "cell_type": "code",
   "execution_count": 24,
   "id": "124b5cd5",
   "metadata": {},
   "outputs": [
    {
     "name": "stdout",
     "output_type": "stream",
     "text": [
      "flag_cfg_done: a0001\n"
     ]
    }
   ],
   "source": [
    "'''\n",
    "cat data_aux/cfgs_run | xargs -I @ -P 10 python3 -u post2avgsrc.py -c @ > log/post2avgsrc.out & \n",
    "'''\n",
    "import os, click, h5py, re\n",
    "import numpy as np\n",
    "\n",
    "pathBase='/capstor/store/cscs/userlab/s1174/lyan/code/projectData2/03_NpiScatteringWilson/A15/'\n",
    "\n",
    "def run(cfg):\n",
    "    inpath=f'{pathBase}data_post/'+cfg+'/'\n",
    "    outpath=f'{pathBase}data_avgsrc/'+cfg+'/'\n",
    "    os.makedirs(outpath,exist_ok=True)\n",
    "    files=os.listdir(inpath)\n",
    "    \n",
    "    outfile=outpath+'NPBWZM.h5'\n",
    "    outfile_flag=outfile+'_flag'\n",
    "    if (not os.path.isfile(outfile)) or os.path.isfile(outfile_flag):\n",
    "        with open(outfile_flag,'w') as f:\n",
    "            pass\n",
    "        with h5py.File(outfile,'w') as fw, h5py.File(f'{inpath}N.h5_0mom') as fN, h5py.File(f'{inpath}P.h5_0mom') as fP, h5py.File(f'{inpath}BWZ.h5_0mom') as fBWZ:\n",
    "            t=np.mean([fN['data'][src]['N_a'] for src in fN['data'].keys()],axis=0)\n",
    "            fw.create_dataset('data/N',data=t)\n",
    "            fw.create_dataset('momsN',data=fN['moms'][:])\n",
    "            \n",
    "            t=np.mean([fP['data'][src]['a_a'] for src in fP['data'].keys()],axis=0)\n",
    "            fw.create_dataset('data/P',data=t)\n",
    "            t1=np.mean([fP['data'][src]['p+a_p+a'] for src in fP['data'].keys()],axis=0)\n",
    "            t2=np.mean([fP['data'][src]['p-a_p-a'] for src in fP['data'].keys()],axis=0)\n",
    "            t=np.concatenate([t1,t2],axis=0)\n",
    "            fw.create_dataset('data/P_hybrid',data=t)\n",
    "            fw.create_dataset('momsP',data=fP['moms'][:])\n",
    "            \n",
    "            src=list(fBWZ['data'].keys())[0]\n",
    "            flas=fBWZ[f'data/{src}'].keys()\n",
    "            for fla in flas:\n",
    "                t=np.mean([fBWZ['data'][src][fla] for src in fBWZ['data'].keys()],axis=0)\n",
    "                fw.create_dataset(f'data/{fla}',data=t)\n",
    "            fw.create_dataset('momsBWZ',data=fBWZ['moms'][:])\n",
    "            \n",
    "            t=[]\n",
    "            imom=16; \n",
    "            assert(np.all(fN['moms'][imom]==[0,0,0]))\n",
    "            for src in fN['data'].keys():\n",
    "                (sx,sy,sz,st)=re.search('sx([0-9]*)sy([0-9]*)sz([0-9]*)st([0-9]*)',src).groups()\n",
    "                (sx,sy,sz,st)=(int(sx),int(sy),int(sz),int(st))\n",
    "                src_new='st{:03d}'.format(st)\n",
    "                tN=fN[f'data/{src}/N_a'][:,imom,:]\n",
    "                tP=fP[f'data/{src_new}/a_a'][:,0]\n",
    "                tM=tN*tP[:,None]\n",
    "                tM=tM[:,None,:,None]\n",
    "                t.append(tM)\n",
    "            t=np.mean(t,axis=0)\n",
    "            fw.create_dataset(f'data/M',data=t)\n",
    "\n",
    "        os.remove(outfile_flag)\n",
    "    print('flag_cfg_done: '+cfg)\n",
    "    \n",
    "run('a0001')"
   ]
  }
 ],
 "metadata": {
  "kernelspec": {
   "display_name": ".venv",
   "language": "python",
   "name": "python3"
  },
  "language_info": {
   "codemirror_mode": {
    "name": "ipython",
    "version": 3
   },
   "file_extension": ".py",
   "mimetype": "text/x-python",
   "name": "python",
   "nbconvert_exporter": "python",
   "pygments_lexer": "ipython3",
   "version": "3.11.10"
  }
 },
 "nbformat": 4,
 "nbformat_minor": 5
}
