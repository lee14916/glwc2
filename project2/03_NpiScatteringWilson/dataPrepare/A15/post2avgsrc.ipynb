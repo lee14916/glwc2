{
 "cells": [
  {
   "cell_type": "code",
   "execution_count": 4,
   "id": "124b5cd5",
   "metadata": {},
   "outputs": [
    {
     "name": "stdout",
     "output_type": "stream",
     "text": [
      "['BWZ.h5_0mom', 'N.h5_0mom', 'P.h5_0mom']\n"
     ]
    }
   ],
   "source": [
    "'''\n",
    "cat data_aux/cfgs_run | xargs -I @ -P 10 python3 -u post2avgsrc.py -c @ > log/post2avgsrc.out & \n",
    "'''\n",
    "import os, click, h5py, re\n",
    "import numpy as np\n",
    "from pandas import read_pickle\n",
    "\n",
    "pathBase='/capstor/store/cscs/userlab/s1174/lyan/code/projectData2/03_NpiScatteringWilson/A15/'\n",
    "fileP='P.h5_0mom'\n",
    "\n",
    "def run(cfg):\n",
    "    inpath=f'{pathBase}data_post/'+cfg+'/'\n",
    "    outpath=f'{pathBase}data_avgsrc/'+cfg+'/'\n",
    "    os.makedirs(outpath,exist_ok=True)\n",
    "    files=os.listdir(inpath)\n",
    "    print(files)\n",
    "    \n",
    "run('a0050')"
   ]
  }
 ],
 "metadata": {
  "kernelspec": {
   "display_name": ".venv",
   "language": "python",
   "name": "python3"
  },
  "language_info": {
   "codemirror_mode": {
    "name": "ipython",
    "version": 3
   },
   "file_extension": ".py",
   "mimetype": "text/x-python",
   "name": "python",
   "nbconvert_exporter": "python",
   "pygments_lexer": "ipython3",
   "version": "3.11.10"
  }
 },
 "nbformat": 4,
 "nbformat_minor": 5
}
