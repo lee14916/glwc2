{
 "cells": [
  {
   "cell_type": "code",
   "execution_count": 3,
   "id": "9399b537",
   "metadata": {},
   "outputs": [
    {
     "name": "stdout",
     "output_type": "stream",
     "text": [
      "flag_cfg_done: a0050\n"
     ]
    }
   ],
   "source": [
    "'''\n",
    "cat data_aux/cfgs_run | xargs -I @ -P 10 python3 -u run2post_pion2pt.py -c @ > log/run2post_pion2pt.out & \n",
    "'''\n",
    "import os, click, h5py, re, pickle\n",
    "import numpy as np\n",
    "\n",
    "postcode='0mom'\n",
    "runPath='/capstor/store/cscs/userlab/s1174/lyan/code/scratch/run/03_NpiScatteringWilson/A15/'\n",
    "basePath='/capstor/store/cscs/userlab/s1174/lyan/code/projectData2/03_NpiScatteringWilson/A15/'\n",
    "\n",
    "lat_L,lat_T=48,48\n",
    "\n",
    "def key2mom(mom_key):\n",
    "    t1,t2=mom_key.split('=')\n",
    "    x,y,z=t2.split('_')\n",
    "    x,y,z=int(x),int(y),int(z)\n",
    "    return [x,y,z]\n",
    "\n",
    "def run(cfg):\n",
    "    inpath=f'{runPath}run/{cfg}/'\n",
    "    outpath=f'{basePath}data_post/{cfg}/'\n",
    "    os.makedirs(outpath,exist_ok=True)\n",
    "    \n",
    "    files=[file for file in os.listdir(inpath) if file.endswith('.h5')]\n",
    "    \n",
    "    for file in files:\n",
    "        if file.endswith('P.h5'):\n",
    "            infile=f'{inpath}{file}'\n",
    "            outfile=f'{outpath}P.h5_{postcode}'\n",
    "            outfile_flag=outfile+'_flag'\n",
    "            if (not os.path.isfile(outfile)) or os.path.isfile(outfile_flag):\n",
    "                with open(outfile_flag,'w') as f:\n",
    "                    pass\n",
    "                with h5py.File(outfile,'w') as fw, h5py.File(infile) as f:\n",
    "                    fw.create_dataset('notes',data=['tf,mom','mom=pi2,pf2'])\n",
    "                    srcs=list(f.keys()); srcs.sort(); src=srcs[0]\n",
    "                    pi2s_key=[pi2 for pi2 in f[f'{src}/PhiPhi'].keys() if pi2.startswith('pi2=')]; pi2s_key.sort(); pi2_key=pi2s_key[0]\n",
    "                    pi2s=[key2mom(pi2) for pi2 in pi2s_key]\n",
    "                    pf2s=[list(mom) for mom in np.atleast_2d(f[f'{src}/PhiPhi/mvec'])]\n",
    "                    moms=[pi2+pf2 for pi2 in pi2s for pf2 in pf2s]\n",
    "                    fw.create_dataset('moms',data=moms)\n",
    "                    pi2Map=[pi2s.index(mom[:3]) for mom in moms]\n",
    "                    pf2Map=[pf2s.index(mom[3:6]) for mom in moms]\n",
    "                    \n",
    "                    tps=list(f[f'{src}/PhiPhi/{pi2_key}'].keys()); tps.sort()\n",
    "                    \n",
    "                    for src in f.keys():\n",
    "                        (sx,sy,sz,st)=re.search('sx([0-9]*)sy([0-9]*)sz([0-9]*)st([0-9]*)',src).groups()\n",
    "                        (sx,sy,sz,st)=(int(sx),int(sy),int(sz),int(st))\n",
    "                        src_new='st{:03d}'.format(st)\n",
    "                        for tp in tps:\n",
    "                            t=np.array([f[f'{src}/PhiPhi/{pi2_key}/{tp}'][:,:,0] for pi2_key in pi2s_key])\n",
    "                            t=t[...,0]+1j*t[...,1]\n",
    "                            t=t[pi2Map,:,pf2Map]\n",
    "                            t=np.transpose(t,[1,0])\n",
    "                            fw.create_dataset(f'data/{src_new}/{tp}',data=t)\n",
    "                os.remove(outfile_flag)\n",
    "        \n",
    "    print('flag_cfg_done: '+cfg)\n",
    "    \n",
    "run('a0050')"
   ]
  }
 ],
 "metadata": {
  "kernelspec": {
   "display_name": ".venv",
   "language": "python",
   "name": "python3"
  },
  "language_info": {
   "codemirror_mode": {
    "name": "ipython",
    "version": 3
   },
   "file_extension": ".py",
   "mimetype": "text/x-python",
   "name": "python",
   "nbconvert_exporter": "python",
   "pygments_lexer": "ipython3",
   "version": "3.11.10"
  }
 },
 "nbformat": 4,
 "nbformat_minor": 5
}
