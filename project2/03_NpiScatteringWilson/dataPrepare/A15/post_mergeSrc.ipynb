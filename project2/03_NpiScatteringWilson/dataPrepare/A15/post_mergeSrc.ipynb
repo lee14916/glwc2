{
 "cells": [
  {
   "cell_type": "code",
   "execution_count": 1,
   "id": "297d037b",
   "metadata": {},
   "outputs": [],
   "source": [
    "import os, click, h5py, re\n",
    "import numpy as np\n",
    "\n",
    "def run(cfg):\n",
    "    path=f'/capstor/store/cscs/userlab/s1174/lyan/code/projectData2/03_NpiScatteringWilson/A15/data_post/{cfg}/'\n",
    "    \n",
    "    outfile='N.h5_0mom'\n",
    "    files=[file for file in os.listdir(path) if file.startswith(outfile) and file!=outfile]\n",
    "    with h5py.File(path+outfile,'w') as fw:\n",
    "        flag=True\n",
    "        for file in files:\n",
    "            with h5py.File(path+file) as f:\n",
    "                if flag:\n",
    "                    for key in f.keys():\n",
    "                        fw.copy(f[key],fw)\n",
    "                    flag=False\n",
    "                else:\n",
    "                    for src in f['data'].keys():\n",
    "                        fw.copy(f['data'][src],fw['data'])\n",
    "                        \n",
    "    outfile='BWZ.h5_0mom'\n",
    "    files=[file for file in os.listdir(path) if file.startswith(outfile) and file!=outfile]\n",
    "    with h5py.File(path+outfile,'w') as fw:\n",
    "        flag=True\n",
    "        for file in files:\n",
    "            with h5py.File(path+file) as f:\n",
    "                if flag:\n",
    "                    for key in f.keys():\n",
    "                        fw.copy(f[key],fw)\n",
    "                    flag=False\n",
    "                else:\n",
    "                    for src in f['data'].keys():\n",
    "                        fw.copy(f['data'][src],fw['data'])\n",
    "                        \n",
    "path='data_aux/cfgs_run'\n",
    "with open(path,'r') as f:\n",
    "    cfgs=f.read().split('\\n')\n",
    "    \n",
    "# for cfg in cfgs:\n",
    "#     print(cfg, end='            \\r')\n",
    "#     run(cfg)\n",
    "#     # break\n",
    "run('b0117')"
   ]
  }
 ],
 "metadata": {
  "kernelspec": {
   "display_name": ".venv",
   "language": "python",
   "name": "python3"
  },
  "language_info": {
   "codemirror_mode": {
    "name": "ipython",
    "version": 3
   },
   "file_extension": ".py",
   "mimetype": "text/x-python",
   "name": "python",
   "nbconvert_exporter": "python",
   "pygments_lexer": "ipython3",
   "version": "3.11.10"
  }
 },
 "nbformat": 4,
 "nbformat_minor": 5
}
