{
 "cells": [
  {
   "cell_type": "code",
   "execution_count": 15,
   "id": "eca110cc",
   "metadata": {},
   "outputs": [
    {
     "name": "stdout",
     "output_type": "stream",
     "text": [
      "<KeysViewHDF5 ['sx00sy00sz00st10']>\n",
      "0.12951052\n",
      "1.6391277e-07\n"
     ]
    }
   ],
   "source": [
    "import h5py\n",
    "import numpy as np\n",
    "\n",
    "path='/capstor/store/cscs/userlab/s1174/lyan/code/scratch/run/03_NpiScatteringWilson/run/a0050/Diagram0050_sx000sy006sz031st010_NpiScatteringWilson.h5'\n",
    "with h5py.File(path) as f:\n",
    "    print(f.keys())\n",
    "    \n",
    "    ky1='sx00sy00sz00st10/V3B2/pi2=0_0_0/i_stoc=0'\n",
    "    ky2='sx00sy00sz00st10/V3B3/i_stoc=0'\n",
    "    \n",
    "    t1=f[ky1][:,0,0,:,:,:]\n",
    "    t2=f[ky2][:,0,0,:,:,:]\n",
    "    dt=t1-t2\n",
    "    print(np.max(np.abs(t1)))\n",
    "    print(np.max(np.abs(dt)))\n",
    "    # print(t1[:,0,0,0])\n",
    "    # print(t2[:,0,0,0])\n",
    "    # print(dt[:,0,0,0])\n",
    "    # print(dt[0])"
   ]
  }
 ],
 "metadata": {
  "kernelspec": {
   "display_name": ".venv",
   "language": "python",
   "name": "python3"
  },
  "language_info": {
   "codemirror_mode": {
    "name": "ipython",
    "version": 3
   },
   "file_extension": ".py",
   "mimetype": "text/x-python",
   "name": "python",
   "nbconvert_exporter": "python",
   "pygments_lexer": "ipython3",
   "version": "3.11.10"
  }
 },
 "nbformat": 4,
 "nbformat_minor": 5
}
