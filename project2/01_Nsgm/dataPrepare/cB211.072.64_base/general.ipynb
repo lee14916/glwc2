{
 "cells": [
  {
   "cell_type": "code",
   "execution_count": 8,
   "id": "6eeaefeb",
   "metadata": {},
   "outputs": [
    {
     "name": "stdout",
     "output_type": "stream",
     "text": [
      "640\n"
     ]
    }
   ],
   "source": [
    "import os,h5py\n",
    "import numpy as np\n",
    "\n",
    "with open('/capstor/store/cscs/userlab/s1174/lyan/code/glwc2/project2/02_discNJN_1D/dataPrepare/cB211.072.64/data_aux/cfgs_N=200,85,64_jlsc') as f:\n",
    "    cfgs_Nj=f.read().splitlines()\n",
    "\n",
    "path='/capstor/store/cscs/userlab/s1174/lyan/code/scratch/run/Nsgm/cB211.072.64/jPP/runAux/cfgs_run1'\n",
    "with open(path) as f:\n",
    "    cfgs_jPP=f.read().splitlines()\n",
    "    \n",
    "path='/capstor/store/cscs/userlab/s1174/lyan/code/scratch/run/Nsgm/cB211.072.64/loop/runAux/cfgs_run1'\n",
    "with open(path) as f:\n",
    "    cfgs_loop=f.read().splitlines()\n",
    "    \n",
    "path='/capstor/store/cscs/userlab/s1174/fpittler/runs/njnsigma_physical_point_64/'\n",
    "pathb='/capstor/store/cscs/userlab/s1174/fpittler/runs/njnsigma_physical_point_64_b/'\n",
    "cfgs_njnsgm=['a'+cfg for cfg in os.listdir(path)]+['b'+cfg for cfg in os.listdir(pathb)]\n",
    "\n",
    "# path='/capstor/store/cscs/userlab/s1174/fpittler/runs/njn_physical_point_64/'\n",
    "# pathb='/capstor/store/cscs/userlab/s1174/fpittler/runs/njn_physical_point_64_b/'\n",
    "# cfgs_njn=['a'+cfg for cfg in os.listdir(path)]+['b'+cfg for cfg in os.listdir(pathb)]\n",
    "\n",
    "path='/capstor/store/cscs/userlab/s1174/fpittler/runs/njn_physical_point_64/'\n",
    "pathb='/capstor/scratch/cscs/fpittler/run/run_64_NJN_b/'\n",
    "cfgs_njn=['a'+cfg for cfg in os.listdir(path)]+['b'+file[7:11] for file in os.listdir(pathb) if 'dt20_protondn.h5' in file]\n",
    "\n",
    "cfgs=(set(cfgs_Nj)-set(cfgs_jPP)-set(cfgs_loop)).intersection(cfgs_njnsgm).intersection(cfgs_njn)\n",
    "cfgs=list(cfgs)\n",
    "cfgs.sort()\n",
    "\n",
    "print(len(cfgs))\n",
    "\n",
    "with open('data_aux/cfgs_run_todo','w') as f:\n",
    "    f.write('\\n'.join(cfgs))"
   ]
  },
  {
   "cell_type": "code",
   "execution_count": 59,
   "id": "151c0130",
   "metadata": {},
   "outputs": [],
   "source": [
    "import os,h5py\n",
    "import numpy as np\n",
    "\n",
    "cfg2old=lambda cfg: cfg[1:]+'_r'+{'a':'0','b':'1','c':'2','d':'3'}[cfg[0]]\n",
    "cfg2new=lambda cfg: {'0':'a','1':'b','2':'c','3':'d'}[cfg[-1]] + cfg[:4]\n",
    "\n",
    "\n",
    "path='/p/project/ngff/li47/code/projectData2/01_Nsgm/cB211.072.64_base/data_pre_NJN'\n",
    "cfgs=[cfg2new(cfg) for cfg in os.listdir(path)]\n",
    "cfgs.sort()\n",
    "with open('data_aux/cfgs_NJN_pre','w') as f:\n",
    "    f.write('\\n'.join(cfgs))"
   ]
  },
  {
   "cell_type": "code",
   "execution_count": 80,
   "id": "40f8bf6e",
   "metadata": {},
   "outputs": [
    {
     "name": "stdout",
     "output_type": "stream",
     "text": [
      "750 751               \r"
     ]
    }
   ],
   "source": [
    "import os,h5py\n",
    "import numpy as np\n",
    "\n",
    "path='/p/project/ngff/li47/code/glwc2/project2/01_Nsgm/dataPrepare/cB211.072.64_base/data_aux/cfgs_NJN_pre'\n",
    "with open(path,'r') as f:\n",
    "    cfgs=f.read().splitlines()\n",
    "\n",
    "dat={}    \n",
    "\n",
    "path='/p/project/ngff/li47/code/projectData2/01_Nsgm/cB211.072.64_base/data_out_NJN/'\n",
    "for i,cfg in enumerate(cfgs):\n",
    "    print(i,len(cfgs),end='               \\r')\n",
    "    with h5py.File(f'{path}{cfg}/NJN.h5') as f:\n",
    "        moms=[list(mom) for mom in f['moms']]\n",
    "        ind=moms.index([0,0,0])\n",
    "        for dt in f.keys():\n",
    "            if not dt.startswith('dt'):\n",
    "                continue\n",
    "            for fla in f[dt].keys():\n",
    "                if (dt,fla) not in dat.keys():\n",
    "                    dat[(dt,fla)]=[]\n",
    "                for src in f[f'{dt}/{fla}/Local/P4'].keys():\n",
    "                    t=f[f'{dt}/{fla}/Local/P4/{src}'][:]\n",
    "                    t=t[:,ind]\n",
    "                    dat[(dt,fla)].append(t)\n",
    "    # break\n",
    "for ky in dat.keys():\n",
    "    dat[ky]=np.mean(dat[ky],axis=0)"
   ]
  },
  {
   "cell_type": "code",
   "execution_count": 90,
   "id": "47115034",
   "metadata": {},
   "outputs": [
    {
     "name": "stdout",
     "output_type": "stream",
     "text": [
      "12\n",
      "[1.35123388e-09 1.96450816e-09 2.19924784e-09 2.35646953e-09\n",
      " 2.45794896e-09 2.51443327e-09 2.53983409e-09 2.52150993e-09\n",
      " 2.44944658e-09 2.33221265e-09 2.16769940e-09 1.92965393e-09\n",
      " 1.32306587e-09]\n",
      "[0.74678933 0.82457202 0.84725126 0.86039802 0.86809337 0.87565501\n",
      " 0.87867741 0.88012754 0.88327236 0.88393153 0.88611689 0.88789233\n",
      " 0.86740662]\n",
      "14\n",
      "[6.94708932e-10 9.87570252e-10 1.10467439e-09 1.18298305e-09\n",
      " 1.23988023e-09 1.28034811e-09 1.30666300e-09 1.31737348e-09\n",
      " 1.30824130e-09 1.28339487e-09 1.24299099e-09 1.18612095e-09\n",
      " 1.10449709e-09 9.87803620e-10 6.92964113e-10]\n",
      "[1.01407174 1.01144094 1.01113752 1.01112341 1.01089787 1.01205118\n",
      " 1.01113806 1.00632046 1.00301096 1.00313567 1.00694814 1.01047409\n",
      " 1.00961325 1.00626883 0.99695356]\n",
      "16\n",
      "[3.24172620e-10 4.58719696e-10 5.13125815e-10 5.50645426e-10\n",
      " 5.78323274e-10 5.99941760e-10 6.15706437e-10 6.26438925e-10\n",
      " 6.28999513e-10 6.25556921e-10 6.16293960e-10 6.01146169e-10\n",
      " 5.78296472e-10 5.45868875e-10 5.02831293e-10 4.44501287e-10\n",
      " 3.07951463e-10]\n",
      "[1.03440325 1.02710268 1.02499954 1.02318915 1.02263033 1.02203471\n",
      " 1.02213047 1.02317726 1.02241135 1.02084423 1.01847306 1.01614209\n",
      " 1.01545835 1.01474272 1.01528987 1.01678464 1.0218106 ]\n",
      "18\n",
      "[1.52327678e-10 2.16589799e-10 2.44091164e-10 2.63190674e-10\n",
      " 2.77316052e-10 2.88423806e-10 2.96353221e-10 3.02084919e-10\n",
      " 3.05248476e-10 3.07339567e-10 3.07328921e-10 3.05291820e-10\n",
      " 3.00094884e-10 2.91097646e-10 2.78708027e-10 2.62711054e-10\n",
      " 2.42354191e-10 2.15586749e-10 1.52107594e-10]\n",
      "[1.00935356 1.00988042 1.00925996 1.00896305 1.00864529 1.00824681\n",
      " 1.00902245 1.01019444 1.01135767 1.01237995 1.01239073 1.01181603\n",
      " 1.01193874 1.01288266 1.01510898 1.01877102 1.02376437 1.02931712\n",
      " 1.04095511]\n",
      "20\n",
      "[7.81254024e-11 1.07973817e-10 1.20960036e-10 1.30325958e-10\n",
      " 1.37283735e-10 1.43129724e-10 1.47453500e-10 1.50413848e-10\n",
      " 1.52386643e-10 1.53865334e-10 1.54566004e-10 1.54470756e-10\n",
      " 1.53066876e-10 1.50158226e-10 1.46178995e-10 1.41111460e-10\n",
      " 1.34988624e-10 1.27340481e-10 1.17560549e-10 1.04234912e-10\n",
      " 7.39915515e-11]\n",
      "[0.97804967 0.98171731 0.98569459 0.98891096 0.9892878  0.99177904\n",
      " 0.99672377 1.00207022 1.0066338  1.00840018 1.00668396 1.0033163\n",
      " 1.00321871 1.00406537 1.00768461 1.01203372 1.01645166 1.01765486\n",
      " 1.01362435 1.01041538 1.01878138]\n"
     ]
    }
   ],
   "source": [
    "import os,h5py\n",
    "import numpy as np\n",
    "\n",
    "\n",
    "path='/p/project/ngff/li47/code/projectData/01_Nsgm/thrp-conn.h5'\n",
    "\n",
    "with h5py.File(path) as f:\n",
    "    for tf in [12,14,16,18,20][:]:\n",
    "        print(tf)\n",
    "        t=np.mean([f[f'gS/up/dt{tf}/{cfg}'][:]+f[f'gS/dn/dt{tf}/{cfg}'][:] for cfg in f[f'gS/up/dt{tf}'].keys()],axis=0)\n",
    "        \n",
    "        t2=dat[(f'dt{tf}','up')]+dat[(f'dt{tf}','dn')]\n",
    "        t2=np.real(t2[:,0])\n",
    "        print(t)\n",
    "        print(t2/t)"
   ]
  }
 ],
 "metadata": {
  "kernelspec": {
   "display_name": ".venv",
   "language": "python",
   "name": "python3"
  },
  "language_info": {
   "codemirror_mode": {
    "name": "ipython",
    "version": 3
   },
   "file_extension": ".py",
   "mimetype": "text/x-python",
   "name": "python",
   "nbconvert_exporter": "python",
   "pygments_lexer": "ipython3",
   "version": "3.9.21"
  }
 },
 "nbformat": 4,
 "nbformat_minor": 5
}
