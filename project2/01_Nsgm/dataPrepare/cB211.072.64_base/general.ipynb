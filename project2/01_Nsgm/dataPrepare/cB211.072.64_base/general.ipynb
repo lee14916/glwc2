{
 "cells": [
  {
   "cell_type": "code",
   "execution_count": 11,
   "id": "6eeaefeb",
   "metadata": {},
   "outputs": [
    {
     "name": "stdout",
     "output_type": "stream",
     "text": [
      "735\n"
     ]
    }
   ],
   "source": [
    "import os,h5py\n",
    "import numpy as np\n",
    "\n",
    "with open('/capstor/store/cscs/userlab/s1174/lyan/code/glwc2/project2/02_discNJN_1D/dataPrepare/cB211.072.64/data_aux/cfgs_N=200,85,64_jlsc') as f:\n",
    "    cfgs_Nj=f.read().splitlines()\n",
    "\n",
    "path='/capstor/store/cscs/userlab/s1174/lyan/code/scratch/run/Nsgm/cB211.072.64/jPP/runAux/cfgs_run1'\n",
    "with open(path) as f:\n",
    "    cfgs_jPP=f.read().splitlines()\n",
    "    \n",
    "path='/capstor/store/cscs/userlab/s1174/lyan/code/scratch/run/Nsgm/cB211.072.64/loop/runAux/cfgs_run1'\n",
    "with open(path) as f:\n",
    "    cfgs_loop=f.read().splitlines()\n",
    "    \n",
    "path='/capstor/store/cscs/userlab/s1174/fpittler/runs/njnsigma_physical_point_64/'\n",
    "pathb='/capstor/store/cscs/userlab/s1174/fpittler/runs/njnsigma_physical_point_64_b/'\n",
    "cfgs_njnsgm=['a'+cfg for cfg in os.listdir(path)]+['b'+cfg for cfg in os.listdir(pathb)]\n",
    "\n",
    "# path='/capstor/store/cscs/userlab/s1174/fpittler/runs/njn_physical_point_64/'\n",
    "# pathb='/capstor/store/cscs/userlab/s1174/fpittler/runs/njn_physical_point_64_b/'\n",
    "# cfgs_njn=['a'+cfg for cfg in os.listdir(path)]+['b'+cfg for cfg in os.listdir(pathb)]\n",
    "\n",
    "path='/capstor/store/cscs/userlab/s1174/fpittler/runs/njn_physical_point_64/'\n",
    "# pathb='/capstor/scratch/cscs/fpittler/run/run_64_NJN_b/'\n",
    "# cfgs_njn_run=['a'+cfg for cfg in os.listdir(path)]+['b'+file[7:11] for file in os.listdir(pathb) if 'dt20_protondn.h5' in file]\n",
    "pathb='/capstor/store/cscs/userlab/s1174/fpittler/runs/njn_physical_point_64_b/'\n",
    "cfgs_njn=['a'+cfg for cfg in os.listdir(path)]+['b'+cfg for cfg in os.listdir(pathb)]\n",
    "\n",
    "cfgs=(set(cfgs_Nj)-set(cfgs_jPP)-set(cfgs_loop)).intersection(cfgs_njnsgm).intersection(cfgs_njn)\n",
    "cfgs=list(cfgs)\n",
    "cfgs.sort()\n",
    "\n",
    "print(len(cfgs))\n",
    "\n",
    "with open('data_aux/cfgs_run_todo','w') as f:\n",
    "    f.write('\\n'.join(cfgs))"
   ]
  },
  {
   "cell_type": "code",
   "execution_count": 59,
   "id": "151c0130",
   "metadata": {},
   "outputs": [],
   "source": [
    "import os,h5py\n",
    "import numpy as np\n",
    "\n",
    "cfg2old=lambda cfg: cfg[1:]+'_r'+{'a':'0','b':'1','c':'2','d':'3'}[cfg[0]]\n",
    "cfg2new=lambda cfg: {'0':'a','1':'b','2':'c','3':'d'}[cfg[-1]] + cfg[:4]\n",
    "\n",
    "\n",
    "path='/p/project/ngff/li47/code/projectData2/01_Nsgm/cB211.072.64_base/data_pre_NJN'\n",
    "cfgs=[cfg2new(cfg) for cfg in os.listdir(path)]\n",
    "cfgs.sort()\n",
    "with open('data_aux/cfgs_NJN_pre','w') as f:\n",
    "    f.write('\\n'.join(cfgs))"
   ]
  },
  {
   "cell_type": "code",
   "execution_count": 80,
   "id": "40f8bf6e",
   "metadata": {},
   "outputs": [
    {
     "name": "stdout",
     "output_type": "stream",
     "text": [
      "750 751               \r"
     ]
    }
   ],
   "source": [
    "import os,h5py\n",
    "import numpy as np\n",
    "\n",
    "path='/p/project/ngff/li47/code/glwc2/project2/01_Nsgm/dataPrepare/cB211.072.64_base/data_aux/cfgs_NJN_pre'\n",
    "with open(path,'r') as f:\n",
    "    cfgs=f.read().splitlines()\n",
    "\n",
    "dat={}    \n",
    "\n",
    "path='/p/project/ngff/li47/code/projectData2/01_Nsgm/cB211.072.64_base/data_out_NJN/'\n",
    "for i,cfg in enumerate(cfgs):\n",
    "    print(i,len(cfgs),end='               \\r')\n",
    "    with h5py.File(f'{path}{cfg}/NJN.h5') as f:\n",
    "        moms=[list(mom) for mom in f['moms']]\n",
    "        ind=moms.index([0,0,0])\n",
    "        for dt in f.keys():\n",
    "            if not dt.startswith('dt'):\n",
    "                continue\n",
    "            for fla in f[dt].keys():\n",
    "                if (dt,fla) not in dat.keys():\n",
    "                    dat[(dt,fla)]=[]\n",
    "                for src in f[f'{dt}/{fla}/Local/P4'].keys():\n",
    "                    t=f[f'{dt}/{fla}/Local/P4/{src}'][:]\n",
    "                    t=t[:,ind]\n",
    "                    dat[(dt,fla)].append(t)\n",
    "    # break\n",
    "for ky in dat.keys():\n",
    "    dat[ky]=np.mean(dat[ky],axis=0)"
   ]
  },
  {
   "cell_type": "code",
   "execution_count": null,
   "id": "47115034",
   "metadata": {},
   "outputs": [],
   "source": [
    "import os,h5py\n",
    "import numpy as np\n",
    "\n",
    "\n",
    "path='/p/project/ngff/li47/code/projectData/01_Nsgm/thrp-conn.h5'\n",
    "\n",
    "with h5py.File(path) as f:\n",
    "    for tf in [12,14,16,18,20][:]:\n",
    "        print(tf)\n",
    "        t=np.mean([f[f'gS/up/dt{tf}/{cfg}'][:]+f[f'gS/dn/dt{tf}/{cfg}'][:] for cfg in f[f'gS/up/dt{tf}'].keys()],axis=0)\n",
    "        \n",
    "        t2=dat[(f'dt{tf}','up')]+dat[(f'dt{tf}','dn')]\n",
    "        t2=np.real(t2[:,0])\n",
    "        print(t)\n",
    "        print(t2/t)"
   ]
  }
 ],
 "metadata": {
  "kernelspec": {
   "display_name": ".venv",
   "language": "python",
   "name": "python3"
  },
  "language_info": {
   "codemirror_mode": {
    "name": "ipython",
    "version": 3
   },
   "file_extension": ".py",
   "mimetype": "text/x-python",
   "name": "python",
   "nbconvert_exporter": "python",
   "pygments_lexer": "ipython3",
   "version": "3.11.10"
  }
 },
 "nbformat": 4,
 "nbformat_minor": 5
}
