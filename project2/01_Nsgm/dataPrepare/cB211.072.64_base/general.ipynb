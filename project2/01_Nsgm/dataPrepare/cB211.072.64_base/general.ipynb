{
 "cells": [
  {
   "cell_type": "code",
   "execution_count": 12,
   "id": "6eeaefeb",
   "metadata": {},
   "outputs": [
    {
     "name": "stdout",
     "output_type": "stream",
     "text": [
      "673\n"
     ]
    }
   ],
   "source": [
    "import os,h5py\n",
    "import numpy as np\n",
    "\n",
    "with open('/capstor/store/cscs/userlab/s1174/lyan/code/glwc2/project2/02_discNJN_1D/dataPrepare/cB211.072.64/data_aux/cfgs_N=200,85,64_jlsc') as f:\n",
    "    cfgs_Nj=f.read().splitlines()\n",
    "\n",
    "path='/capstor/store/cscs/userlab/s1174/lyan/code/scratch/run/Nsgm/cB211.072.64/jPP/runAux/cfgs_run1'\n",
    "with open(path) as f:\n",
    "    cfgs_jPP=f.read().splitlines()\n",
    "    \n",
    "path='/capstor/store/cscs/userlab/s1174/lyan/code/scratch/run/Nsgm/cB211.072.64/loop/runAux/cfgs_run1'\n",
    "with open(path) as f:\n",
    "    cfgs_loop=f.read().splitlines()\n",
    "\n",
    "cfgs=set(cfgs_Nj)-set(cfgs_jPP)-set(cfgs_loop)\n",
    "print(len(cfgs))\n",
    "\n"
   ]
  }
 ],
 "metadata": {
  "kernelspec": {
   "display_name": ".venv",
   "language": "python",
   "name": "python3"
  },
  "language_info": {
   "codemirror_mode": {
    "name": "ipython",
    "version": 3
   },
   "file_extension": ".py",
   "mimetype": "text/x-python",
   "name": "python",
   "nbconvert_exporter": "python",
   "pygments_lexer": "ipython3",
   "version": "3.11.10"
  }
 },
 "nbformat": 4,
 "nbformat_minor": 5
}
