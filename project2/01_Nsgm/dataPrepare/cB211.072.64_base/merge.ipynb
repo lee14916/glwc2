{
 "cells": [
  {
   "cell_type": "code",
   "execution_count": 28,
   "metadata": {},
   "outputs": [],
   "source": [
    "import h5py,os\n",
    "import numpy as np\n",
    "\n",
    "mergecode='/capstor/store/cscs/userlab/s1174/lyan/code/projectData2/01_Nsgm/cB211.072.64_base/data_merge/Nsgm.h5'\n",
    "\n",
    "basepath='/capstor/store/cscs/userlab/s1174/lyan/code/projectData2/01_Nsgm/cB211.072.64_base_'\n",
    "tfs=['8,10,12,14,16,18,20']\n",
    "\n",
    "NJNpath='/capstor/store/cscs/userlab/s1174/lyan/code/projectData2/01_Nsgm/cB211.072.64_base/data_from_others/thrp-conn.h5'\n",
    "\n",
    "cfg2old=lambda cfg: cfg[1:]+'_r'+{'a':'0','b':'1','c':'2','d':'3'}[cfg[0]]\n",
    "cfg2new=lambda cfg: {'0':'a','1':'b','2':'c','3':'d'}[cfg[-1]] + cfg[:4]\n",
    "with open('data_aux/cfgs_run','r') as f:\n",
    "    cfgs=f.read().splitlines()\n",
    "cfgs_old=[cfg2old(cfg) for cfg in cfgs]\n",
    "\n",
    "flag=True\n",
    "with h5py.File(mergecode,'w') as fw, h5py.File(NJNpath) as fnjn:    \n",
    "    \n",
    "    for tf in tfs[:1]:\n",
    "        files=[file for file in os.listdir(basepath+tf+'/data_merge/') if '.h5' in file]\n",
    "        assert(len(files)==1)\n",
    "        with h5py.File(basepath+tf+'/data_merge/'+files[0]) as fr:\n",
    "            cfgs0=[cfg.decode() for cfg in fr['cfgs']]\n",
    "            assert(np.all(cfgs==cfgs0))\n",
    "            for key in fr.keys():       \n",
    "                if key=='diags':\n",
    "                    continue             \n",
    "                fw.copy(fr[key],fw,name=key)\n",
    "            for diag in fr['diags'].keys():\n",
    "                if diag.split('-')[0] in ['NJN','B3pt','W3pt','Z3pt'] or\\\n",
    "                    'j' in diag.split('-') or 'jPi' in diag.split('-') or 'jPf' in diag.split('-'):\n",
    "                    for ky in fr['diags'][diag].keys():\n",
    "                        if ky in ['data']:\n",
    "                            continue\n",
    "                        fw.copy(fr['diags'][diag][ky],fw,name=f'diags/{diag}/{ky}')\n",
    "                    continue\n",
    "                fw.copy(fr['diags'][diag],fw,name=f'diags/{diag}')\n",
    "            \n",
    "            \n",
    "    for tf in tfs[:]:\n",
    "        files=[file for file in os.listdir(basepath+tf+'/data_merge/') if '.h5' in file]\n",
    "        assert(len(files)==1)\n",
    "        with h5py.File(basepath+tf+'/data_merge/'+files[0]) as fr:\n",
    "            cfgs0=[cfg.decode() for cfg in fr['cfgs']]\n",
    "            assert(np.all(cfgs==cfgs0))\n",
    "            for diag in fr['diags'].keys():\n",
    "                if diag == 'NJN':\n",
    "                    # print(fr['diags'][diag]['opabs'][:])\n",
    "                    for fla in fr['diags'][diag]['data'].keys():\n",
    "                        tf=int(fla.split('_')[-1])\n",
    "                        t=np.array([fnjn[f'gS/up/dt{tf}/{cfg}'][:]+fnjn[f'gS/dn/dt{tf}/{cfg}']  for cfg in cfgs_old])\n",
    "                        t=t[:,:,None,None]/2\n",
    "                        t=t[:,:,[0]*4]\n",
    "                        t=t[:,:,:,[0]*16]\n",
    "                        fw.create_dataset(f'diags/{diag}/data/{fla}',data=fr[f'diags/{diag}/data/{fla}'])\n",
    "                    continue\n",
    "                \n",
    "                if diag.split('-')[0] in ['NJN','B3pt','W3pt','Z3pt'] or\\\n",
    "                    'j' in diag.split('-') or 'jPi' in diag.split('-') or 'jPf' in diag.split('-'):\n",
    "                    for fla in fr['diags'][diag]['data'].keys():\n",
    "                        fw.create_dataset(f'diags/{diag}/data/{fla}',data=fr[f'diags/{diag}/data/{fla}'])\n",
    "                    for src in fr['diags'][diag]['srcs'].keys():\n",
    "                        if src not in fw['diags'][diag]['srcs'].keys():\n",
    "                            fw.create_dataset(f'diags/{diag}/scrs/{src}',data=fr['diags'][diag]['srcs'][src])\n"
   ]
  },
  {
   "cell_type": "code",
   "execution_count": null,
   "metadata": {},
   "outputs": [
    {
     "name": "stdout",
     "output_type": "stream",
     "text": [
      "<HDF5 dataset \"0004_r1\": shape (9,), type \"<f8\">\n"
     ]
    }
   ],
   "source": [
    "path='/capstor/store/cscs/userlab/s1174/lyan/code/projectData2/01_Nsgm/cB211.072.64_base/data_from_others/thrp-conn.h5'\n",
    "with h5py.File(path) as f:\n",
    "    print(f['gS/up/dt8/0004_r1'])\n",
    "    t=f['gS/up']\n",
    "    "
   ]
  }
 ],
 "metadata": {
  "kernelspec": {
   "display_name": ".venv",
   "language": "python",
   "name": "python3"
  },
  "language_info": {
   "codemirror_mode": {
    "name": "ipython",
    "version": 3
   },
   "file_extension": ".py",
   "mimetype": "text/x-python",
   "name": "python",
   "nbconvert_exporter": "python",
   "pygments_lexer": "ipython3",
   "version": "3.11.10"
  }
 },
 "nbformat": 4,
 "nbformat_minor": 2
}
