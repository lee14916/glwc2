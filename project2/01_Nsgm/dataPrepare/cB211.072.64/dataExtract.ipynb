{
 "cells": [
  {
   "cell_type": "code",
   "execution_count": 22,
   "metadata": {},
   "outputs": [
    {
     "name": "stdout",
     "output_type": "stream",
     "text": [
      "<KeysViewHDF5 ['dt20', 'dt20_twop', 'mvec']>\n",
      "<KeysViewHDF5 ['dt20', 'dt20_twop', 'mvec']>\n",
      "<KeysViewHDF5 ['sx00sy02sz40st115', 'sx06sy62sz46st60', 'sx07sy06sz09st47', 'sx07sy21sz08st41', 'sx07sy52sz37st58', 'sx08sy09sz18st106', 'sx08sy41sz02st35', 'sx08sy49sz25st107', 'sx09sy41sz27st31', 'sx12sy51sz50st22', 'sx13sy21sz31st92', 'sx14sy46sz63st96', 'sx14sy55sz06st48', 'sx15sy53sz02st73', 'sx16sy52sz38st91', 'sx16sy56sz10st67', 'sx17sy05sz14st118', 'sx19sy10sz13st01', 'sx19sy28sz38st74', 'sx19sy54sz23st73', 'sx20sy51sz59st11', 'sx21sy37sz44st107', 'sx23sy42sz12st40', 'sx23sy50sz37st72', 'sx24sy20sz31st71', 'sx24sy39sz15st24', 'sx25sy59sz40st112', 'sx26sy15sz04st87', 'sx27sy09sz05st68', 'sx27sy28sz29st53', 'sx28sy18sz06st113', 'sx29sy47sz57st119', 'sx29sy53sz14st63', 'sx30sy07sz15st46', 'sx30sy18sz57st70', 'sx31sy34sz37st52', 'sx32sy43sz05st53', 'sx33sy58sz48st26', 'sx35sy02sz46st56', 'sx35sy36sz09st11', 'sx35sy55sz60st85', 'sx37sy23sz42st84', 'sx37sy33sz48st32', 'sx37sy56sz34st62', 'sx39sy38sz18st91', 'sx39sy51sz43st123', 'sx40sy11sz33st29', 'sx41sy46sz60st111', 'sx42sy28sz13st82', 'sx43sy16sz26st28', 'sx43sy26sz27st50', 'sx44sy17sz37st11', 'sx44sy20sz22st123', 'sx48sy36sz29st30', 'sx49sy03sz15st109', 'sx50sy41sz49st56', 'sx50sy48sz48st58', 'sx52sy19sz22st80', 'sx55sy33sz06st81', 'sx55sy59sz50st90', 'sx57sy29sz42st12', 'sx60sy31sz12st20', 'sx61sy58sz59st23', 'sx63sy36sz22st126']>\n",
      "64\n"
     ]
    }
   ],
   "source": [
    "'''\n",
    "2pt:\n",
    "/p/arch1/hch02/hch02b/cB211.072.64/twop_threep_dt20_64srcs/twop_${cfg}.h5: Nsrc~64\n",
    "/p/arch1/hch02/hch02b/cB211.072.64/twop_threep_2/twop_${cfg}.h5: Nsrc~85\n",
    "/p/arch1/hch02/hch02k/cB2.072.64_Nf211/twop/${cfg}.tar: Nsrc~200\n",
    "total~349\n",
    "There is also Nsrc=64 data but with srcs averaged\n",
    "\n",
    "3pt:\n",
    "/p/arch1/hch02/hch02b/cB211.072.64/twop_threep_2/threep_${cfg}.h5\n",
    "dt12: Nsrc=1\n",
    "dt14: Nsrc=4\n",
    "dt16: Nsrc=16\n",
    "dt18: Nsrc=64\n",
    "/p/arch1/hch02/hch02b/cB211.072.64/twop_threep_dt20_64srcs/threep_${cfg}.h5\n",
    "dt20: Nsrc=64\n",
    "\n",
    "First plan:\n",
    "N: backed up\n",
    "T,B,W,Z,: from Ferenc\n",
    "P,J: from myself\n",
    "NJN: generate 1src for each dt (ask Ferenc) to build discs, but use all for NJN conn\n",
    "'''\n",
    "\n",
    "\n",
    "import h5py,os,re,click\n",
    "import numpy as np\n",
    "path='/p/arch1/hch02/hch02b/cB211.072.64/twop_threep_dt20_64srcs/threep_0500_r0.h5'\n",
    "with h5py.File(path) as f:\n",
    "    print(f.keys())\n",
    "    print(f.keys())\n",
    "    for dt in [20]:\n",
    "        t=f[f'dt{dt}/up/Local/P4']\n",
    "        print(f[f'dt{dt}/up/Local/P4'].keys())\n",
    "        print(len(f[f'dt{dt}/up/Local/P4']))\n",
    "    # print(f['mvec'])"
   ]
  },
  {
   "cell_type": "code",
   "execution_count": 13,
   "metadata": {},
   "outputs": [
    {
     "name": "stdout",
     "output_type": "stream",
     "text": [
      "<KeysViewHDF5 ['data', 'moms']>\n",
      "<KeysViewHDF5 ['sx63sy56sz19st30']>\n",
      "[1.1464089e-08+7.3180506e-10j 2.4641526e-08+3.9140340e-09j\n",
      " 1.6731223e-08+5.5170285e-10j 6.7726837e-09+2.6099289e-11j]\n",
      "[1.1464093e-08+7.3180551e-10j 2.4641533e-08+3.9140344e-09j\n",
      " 1.6731221e-08+5.5170274e-10j 6.7726837e-09+2.6099359e-11j]\n",
      "\n",
      "[1.3235052e-08+4.6708175e-09j 2.5769724e-08+5.6796035e-09j\n",
      " 1.7942831e-08+2.4178268e-09j 8.1899856e-09+1.0734321e-09j]\n",
      "[1.3235050e-08+4.6708188e-09j 2.5769713e-08+5.6796039e-09j\n",
      " 1.7942835e-08+2.4178268e-09j 8.1899829e-09+1.0734321e-09j]\n"
     ]
    }
   ],
   "source": [
    "import h5py,os,re,click\n",
    "import numpy as np\n",
    "\n",
    "path1='/capstor/store/cscs/userlab/s1174/lyan/code/projectData/fromBooster/projectDataMigrating/NST_b-discNJN/cB211.072.64/data_post/a1000/N.h5_loops-a'\n",
    "path2='/capstor/store/cscs/userlab/s1174/lyan/code/scratch/run/testYan/run/a1000/Diagram_N_1000_sx63sy56sz19st030.h5'\n",
    "with h5py.File(path1) as f1, h5py.File(path2) as f2:\n",
    "    print(f1.keys())\n",
    "    print(f2.keys())\n",
    "    \n",
    "    print(f1['data/sx063sy056sz019st030/N1_N1'][:4,3,0])\n",
    "    t2=f2['sx63sy56sz19st30/NP'][:]\n",
    "    t2=t2[...,0]+1j*t2[...,1]\n",
    "    print(t2[:4,3,0,0])\n",
    "    \n",
    "    print()\n",
    "    \n",
    "    print(f1['data/sx063sy056sz019st030/N2_N2'][:4,3,0])\n",
    "    t2=f2['sx63sy56sz19st30/N0'][:]\n",
    "    t2=t2[...,0]+1j*t2[...,1]\n",
    "    print(t2[:4,3,0,0])"
   ]
  },
  {
   "cell_type": "code",
   "execution_count": 1,
   "metadata": {},
   "outputs": [
    {
     "ename": "ValueError",
     "evalue": "Illegal slicing argument for scalar dataspace",
     "output_type": "error",
     "traceback": [
      "\u001b[0;31m---------------------------------------------------------------------------\u001b[0m",
      "\u001b[0;31mValueError\u001b[0m                                Traceback (most recent call last)",
      "Cell \u001b[0;32mIn[1], line 6\u001b[0m\n\u001b[1;32m      4\u001b[0m path\u001b[38;5;241m=\u001b[39m\u001b[38;5;124m'\u001b[39m\u001b[38;5;124mthrp-conn.h5\u001b[39m\u001b[38;5;124m'\u001b[39m\n\u001b[1;32m      5\u001b[0m \u001b[38;5;28;01mwith\u001b[39;00m h5py\u001b[38;5;241m.\u001b[39mFile(path) \u001b[38;5;28;01mas\u001b[39;00m f:\n\u001b[0;32m----> 6\u001b[0m     \u001b[38;5;28mprint\u001b[39m(\u001b[43mf\u001b[49m\u001b[43m[\u001b[49m\u001b[38;5;124;43m'\u001b[39;49m\u001b[38;5;124;43mdt20_twop/0004_r1\u001b[39;49m\u001b[38;5;124;43m'\u001b[39;49m\u001b[43m]\u001b[49m\u001b[43m[\u001b[49m\u001b[43m:\u001b[49m\u001b[43m]\u001b[49m)\n\u001b[1;32m      7\u001b[0m     \u001b[38;5;28mprint\u001b[39m(f[\u001b[38;5;124m'\u001b[39m\u001b[38;5;124mgS/up/dt20/0004_r1\u001b[39m\u001b[38;5;124m'\u001b[39m])\n",
      "File \u001b[0;32mh5py/_objects.pyx:54\u001b[0m, in \u001b[0;36mh5py._objects.with_phil.wrapper\u001b[0;34m()\u001b[0m\n",
      "File \u001b[0;32mh5py/_objects.pyx:55\u001b[0m, in \u001b[0;36mh5py._objects.with_phil.wrapper\u001b[0;34m()\u001b[0m\n",
      "File \u001b[0;32m/capstor/store/cscs/userlab/s1174/lyan/code/.venv/lib64/python3.11/site-packages/h5py/_hl/dataset.py:840\u001b[0m, in \u001b[0;36mDataset.__getitem__\u001b[0;34m(self, args, new_dtype)\u001b[0m\n\u001b[1;32m    838\u001b[0m \u001b[38;5;28;01mif\u001b[39;00m \u001b[38;5;28mself\u001b[39m\u001b[38;5;241m.\u001b[39mshape \u001b[38;5;241m==\u001b[39m ():\n\u001b[1;32m    839\u001b[0m     fspace \u001b[38;5;241m=\u001b[39m \u001b[38;5;28mself\u001b[39m\u001b[38;5;241m.\u001b[39mid\u001b[38;5;241m.\u001b[39mget_space()\n\u001b[0;32m--> 840\u001b[0m     selection \u001b[38;5;241m=\u001b[39m \u001b[43msel2\u001b[49m\u001b[38;5;241;43m.\u001b[39;49m\u001b[43mselect_read\u001b[49m\u001b[43m(\u001b[49m\u001b[43mfspace\u001b[49m\u001b[43m,\u001b[49m\u001b[43m \u001b[49m\u001b[43margs\u001b[49m\u001b[43m)\u001b[49m\n\u001b[1;32m    841\u001b[0m     \u001b[38;5;28;01mif\u001b[39;00m selection\u001b[38;5;241m.\u001b[39mmshape \u001b[38;5;129;01mis\u001b[39;00m \u001b[38;5;28;01mNone\u001b[39;00m:\n\u001b[1;32m    842\u001b[0m         arr \u001b[38;5;241m=\u001b[39m numpy\u001b[38;5;241m.\u001b[39mzeros((), dtype\u001b[38;5;241m=\u001b[39mnew_dtype)\n",
      "File \u001b[0;32m/capstor/store/cscs/userlab/s1174/lyan/code/.venv/lib64/python3.11/site-packages/h5py/_hl/selections2.py:101\u001b[0m, in \u001b[0;36mselect_read\u001b[0;34m(fspace, args)\u001b[0m\n\u001b[1;32m     96\u001b[0m \u001b[38;5;250m\u001b[39m\u001b[38;5;124;03m\"\"\" Top-level dispatch function for reading.\u001b[39;00m\n\u001b[1;32m     97\u001b[0m \n\u001b[1;32m     98\u001b[0m \u001b[38;5;124;03mAt the moment, only supports reading from scalar datasets.\u001b[39;00m\n\u001b[1;32m     99\u001b[0m \u001b[38;5;124;03m\"\"\"\u001b[39;00m\n\u001b[1;32m    100\u001b[0m \u001b[38;5;28;01mif\u001b[39;00m fspace\u001b[38;5;241m.\u001b[39mshape \u001b[38;5;241m==\u001b[39m ():\n\u001b[0;32m--> 101\u001b[0m     \u001b[38;5;28;01mreturn\u001b[39;00m \u001b[43mScalarReadSelection\u001b[49m\u001b[43m(\u001b[49m\u001b[43mfspace\u001b[49m\u001b[43m,\u001b[49m\u001b[43m \u001b[49m\u001b[43margs\u001b[49m\u001b[43m)\u001b[49m\n\u001b[1;32m    103\u001b[0m \u001b[38;5;28;01mraise\u001b[39;00m \u001b[38;5;167;01mNotImplementedError\u001b[39;00m()\n",
      "File \u001b[0;32m/capstor/store/cscs/userlab/s1174/lyan/code/.venv/lib64/python3.11/site-packages/h5py/_hl/selections2.py:86\u001b[0m, in \u001b[0;36mScalarReadSelection.__init__\u001b[0;34m(self, fspace, args)\u001b[0m\n\u001b[1;32m     84\u001b[0m     \u001b[38;5;28mself\u001b[39m\u001b[38;5;241m.\u001b[39mmshape \u001b[38;5;241m=\u001b[39m ()\n\u001b[1;32m     85\u001b[0m \u001b[38;5;28;01melse\u001b[39;00m:\n\u001b[0;32m---> 86\u001b[0m     \u001b[38;5;28;01mraise\u001b[39;00m \u001b[38;5;167;01mValueError\u001b[39;00m(\u001b[38;5;124m\"\u001b[39m\u001b[38;5;124mIllegal slicing argument for scalar dataspace\u001b[39m\u001b[38;5;124m\"\u001b[39m)\n\u001b[1;32m     88\u001b[0m \u001b[38;5;28mself\u001b[39m\u001b[38;5;241m.\u001b[39mmspace \u001b[38;5;241m=\u001b[39m h5s\u001b[38;5;241m.\u001b[39mcreate(h5s\u001b[38;5;241m.\u001b[39mSCALAR)\n\u001b[1;32m     89\u001b[0m \u001b[38;5;28mself\u001b[39m\u001b[38;5;241m.\u001b[39mfspace \u001b[38;5;241m=\u001b[39m fspace\n",
      "\u001b[0;31mValueError\u001b[0m: Illegal slicing argument for scalar dataspace"
     ]
    }
   ],
   "source": [
    "import h5py,os,re,click\n",
    "import numpy as np\n",
    "\n",
    "path='thrp-conn.h5'\n",
    "with h5py.File(path) as f:\n",
    "    print(f['dt20_twop/0004_r1'][:])\n",
    "    print(f['gS/up/dt20/0004_r1'])"
   ]
  }
 ],
 "metadata": {
  "kernelspec": {
   "display_name": ".venv",
   "language": "python",
   "name": "python3"
  },
  "language_info": {
   "codemirror_mode": {
    "name": "ipython",
    "version": 3
   },
   "file_extension": ".py",
   "mimetype": "text/x-python",
   "name": "python",
   "nbconvert_exporter": "python",
   "pygments_lexer": "ipython3",
   "version": "3.11.10"
  }
 },
 "nbformat": 4,
 "nbformat_minor": 2
}
