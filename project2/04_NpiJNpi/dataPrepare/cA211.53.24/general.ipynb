{
 "cells": [
  {
   "cell_type": "code",
   "execution_count": 20,
   "id": "0e292ce9",
   "metadata": {},
   "outputs": [
    {
     "name": "stdout",
     "output_type": "stream",
     "text": [
      "(48, 4, 4, 4, 3, 2) (48, 4, 4, 4, 3, 2)\n",
      "1.928624e-08\n"
     ]
    }
   ],
   "source": [
    "import numpy as np\n",
    "import h5py\n",
    "\n",
    "path1='/capstor/store/cscs/userlab/s1174/lyan/code/scratch/run/04_NpiJNpi/cA211.53.24/run/a0000/Diagram_Bm_0000_sx00sy00sz00st000.h5'\n",
    "path2='/capstor/store/cscs/userlab/s1174/lyan/code/scratch/run/04_NpiJNpi/cA211.53.24/fromCyclon/threept0000_V20_0.h5'\n",
    "with h5py.File(path1) as f1, h5py.File(path2) as f2:\n",
    "    src='sx00sy00sz00st00'\n",
    "    t1=f1[src]['V24']['V2']['dt=10'][:,3,0]\n",
    "    t2=f2[src]['group_v2']['dataset_v2'][:,0,0]\n",
    "    print(t1.shape,t2.shape)\n",
    "    dt=t1-t2\n",
    "    print(dt[10,0,0,0,0,0])"
   ]
  }
 ],
 "metadata": {
  "kernelspec": {
   "display_name": ".venv",
   "language": "python",
   "name": "python3"
  },
  "language_info": {
   "codemirror_mode": {
    "name": "ipython",
    "version": 3
   },
   "file_extension": ".py",
   "mimetype": "text/x-python",
   "name": "python",
   "nbconvert_exporter": "python",
   "pygments_lexer": "ipython3",
   "version": "3.11.10"
  }
 },
 "nbformat": 4,
 "nbformat_minor": 5
}
