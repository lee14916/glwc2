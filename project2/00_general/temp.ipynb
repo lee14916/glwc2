{
 "cells": [
  {
   "cell_type": "code",
   "execution_count": null,
   "id": "1be92a10",
   "metadata": {},
   "outputs": [],
   "source": [
    "import numpy as np\n",
    "\n",
    "\n"
   ]
  }
 ],
 "metadata": {
  "language_info": {
   "name": "python"
  }
 },
 "nbformat": 4,
 "nbformat_minor": 5
}
