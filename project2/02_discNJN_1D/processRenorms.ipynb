{
 "cells": [
  {
   "cell_type": "code",
   "execution_count": 1,
   "id": "e40cd439",
   "metadata": {},
   "outputs": [],
   "source": [
    "%load_ext autoreload\n",
    "%autoreload 2\n",
    "\n",
    "import os,sys,warnings\n",
    "import h5py, pandas\n",
    "import numpy as np\n",
    "np.seterr(invalid=['ignore','warn'][0])\n",
    "np.set_printoptions(legacy='1.25')\n",
    "import math,cmath,pickle\n",
    "from matplotlib.backends.backend_pdf import PdfPages\n",
    "from scipy.optimize import curve_fit,fsolve\n",
    "import matplotlib as mpl\n",
    "import matplotlib.pyplot as plt\n",
    "mpl.style.use('default')\n",
    "mpl.rcParams['figure.facecolor'] = 'white'\n",
    "mpl.rcParams['figure.titlesize'] = 20\n",
    "mpl.rcParams['figure.figsize'] = [6.4*1.2,4.8*1.2]\n",
    "mpl.rcParams['axes.labelsize'] = 24\n",
    "mpl.rcParams['axes.titlesize'] = 24\n",
    "mpl.rcParams['lines.marker'] = 's'\n",
    "mpl.rcParams['lines.linestyle'] = ''\n",
    "mpl.rcParams['lines.markersize'] = 6\n",
    "mpl.rcParams['errorbar.capsize'] = 6\n",
    "mpl.rcParams['xtick.labelsize'] = mpl.rcParams['ytick.labelsize'] = 22\n",
    "mpl.rcParams['xtick.major.size'] = mpl.rcParams['ytick.major.size'] = 10\n",
    "mpl.rcParams['xtick.top']=mpl.rcParams['ytick.right']=True\n",
    "mpl.rcParams['xtick.direction']=mpl.rcParams['ytick.direction']='in'\n",
    "mpl.rcParams['legend.fontsize'] = 24\n",
    "plt.rcParams[\"font.family\"] = \"serif\"\n",
    "plt.rcParams[\"mathtext.fontset\"] = \"dejavuserif\"\n",
    "\n",
    "# mpl.rcParams.update({\"axes.grid\" : True})\n",
    "import util as yu\n",
    "yu.flag_fast=False\n",
    "\n",
    "enss=['b','c','d','e']\n",
    "enss=['b','c','d']\n",
    "ens2full={'a24':'cA211.53.24','a':'cA2.09.48','b':'cB211.072.64','c':'cC211.060.80','d':'cD211.054.96','e':'cE211.044.112'}\n",
    "ens2label={'a24':'A24','a':'A48','b':'B64','c':'C80','d':'D96','e':'E112'}\n",
    "ens2a={'a24':0.0908,'a':0.0938,'b':0.07957,'c':0.06821,'d':0.05692,'e':0.04892} # fm\n",
    "ens2N={'a24':24,'a':48,'b':64,'c':80,'d':96,'e':112}\n",
    "ens2N_T={'a24':24*2,'a':48*2,'b':64*2,'c':80*2,'d':96*2,'e':112*2}\n",
    "\n",
    "ens2Z_1d_V={'b':1.1262,'c':1.1573,'d':1.1930,'e':1.2175}\n",
    "\n",
    "# ens2mN={'a':931}\n",
    "# ens2mpiC={'a':131}\n",
    "# ens2mpi0={'a':111}\n",
    "\n",
    "ens2amu={'a24':0.0053,'a':0.0009,'b':0.00072}\n",
    "ens2amus={'b':0.0186}\n",
    "ens2amuc={'b':0.249}\n",
    "ens2ZP={'a24':(0.4670,0.0046),'a':(0.500,0.030)}\n",
    "\n",
    "hbarc = 1/197.3\n",
    "ens2aInv={ens:1/(ens2a[ens]*hbarc) for ens in enss} # MeV\n",
    "\n",
    "ens2tfs={'b':range(2,22+1),'c':range(2,26+1),'d':range(2,30+1),'e':range(2,32+1)}\n",
    "\n",
    "def fsolve2(func,x0):\n",
    "    with warnings.catch_warnings():\n",
    "        warnings.simplefilter(\"ignore\")\n",
    "        res=fsolve(func, x0)[0]\n",
    "    return res if res!=x0 else np.NaN\n",
    "\n",
    "# ens='b'\n",
    "# ens2a[ens]*hbarc*1000\n",
    "\n",
    "def find_t_cloest(ens,t):\n",
    "    return round(t/ens2a[ens])"
   ]
  },
  {
   "cell_type": "code",
   "execution_count": 4,
   "id": "a1823fae",
   "metadata": {},
   "outputs": [],
   "source": [
    "ens2RCs={ens:{} for ens in enss}\n",
    "\n",
    "path='/p/project1/ngff/li47/code/glwc2/project2/02_discNJN_1D/data_aux/paperRenorms.txt'\n",
    "with open(path,'r') as f:\n",
    "    rcs=f.read().splitlines()\n",
    "\n",
    "Zs=['Zqq(mu=nu)','Zqq(mu!=nu)','Zqq^s(mu=nu)','Zqq^s(mu!=nu)','Zqg(mu!=nu)','Zgq(mu=nu)','Zgq(mu!=nu)']\n",
    "for iZ,Z in enumerate(Zs):\n",
    "    for iens,ens in enumerate(enss):\n",
    "        t=rcs[iZ*4+iens]\n",
    "        if '(' not in t:\n",
    "            ens2RCs[ens][Z] = float(t)\n",
    "            ens2RCs[ens][Z+'_err'] = 0\n",
    "        else:\n",
    "            ind_dot=t.find('.')\n",
    "            ind_b=t.find('(')\n",
    "            ind_k=t.find(')')\n",
    "            ens2RCs[ens][Z] = float(t[:ind_b])\n",
    "            ens2RCs[ens][Z+'_err'] = float(t[ind_b+1:ind_k]) * 10**(-(ind_b-ind_dot)+1)\n",
    "\n",
    "for ens,ensL in zip(['b','c','d'],['cB64','cC80','cD96']):\n",
    "    path=f'/p/project1/ngff/li47/code/glwc2/project2/02_discNJN_1D/data_aux/Zgg_c{ens.upper()}4.txt'\n",
    "    with open(path,'r') as f:\n",
    "        t=f.read().splitlines()\n",
    "        for i,row in enumerate(t):\n",
    "            # if i==0:\n",
    "            #     continue\n",
    "            nstout,mean,err=[float(ele) for ele in row.split('\\t')]\n",
    "            nstout=int(nstout)\n",
    "            assert(nstout==i)\n",
    "            ens2RCs[ens][f'Zgg^{i}(mu!=nu)']=mean\n",
    "            ens2RCs[ens][f'Zgg^{i}(mu!=nu)_err']=err\n",
    "            \n",
    "path='data_aux/RCs.pkl'\n",
    "with open(path,'wb') as f:\n",
    "    pickle.dump(ens2RCs,f)"
   ]
  },
  {
   "cell_type": "code",
   "execution_count": 3,
   "id": "9667d65d",
   "metadata": {},
   "outputs": [
    {
     "name": "stdout",
     "output_type": "stream",
     "text": [
      "Zqq(mu=nu) ['1.1167(4)', '1.1460(2)', '1.1807(2)']\n",
      "Zqq(mu!=nu) ['1.1262(4)', '1.1573(3)', '1.1930(2)']\n",
      "Zqq^s(mu=nu) ['1.075(13)', '1.124(23)', '1.178(15)']\n",
      "Zqq^s(mu!=nu) ['1.134(8)', '1.155(8)', '1.205(5)']\n",
      "Zqg(mu!=nu) [-0.0424, -0.058, -0.0752]\n",
      "Zgq(mu=nu) ['0.0658(206)', '0.0410(199)', '0.0139(192)']\n",
      "Zgq(mu!=nu) ['0.0772(171)', '0.0521(166)', '0.0246(160)']\n",
      "Zgg^5(mu!=nu) ['0.723(9)', '0.724(27)', '0.776(44)']\n",
      "Zgg^6(mu!=nu) ['0.743(9)', '0.756(26)', '0.799(41)']\n",
      "Zgg^7(mu!=nu) ['0.764(9)', '0.784(25)', '0.821(39)']\n",
      "Zgg^8(mu!=nu) ['0.782(8)', '0.807(25)', '0.839(37)']\n",
      "Zgg^9(mu!=nu) ['0.798(8)', '0.826(24)', '0.855(36)']\n",
      "Zgg^10(mu!=nu) ['0.811(8)', '0.841(23)', '0.867(34)']\n"
     ]
    }
   ],
   "source": [
    "ens2RCs={}\n",
    "path='data_aux/RCs.pkl'\n",
    "with open(path,'rb') as f:\n",
    "    ens2RCs=pickle.load(f)\n",
    "\n",
    "precisions=[1,1,2,1,0,3,3]\n",
    "for iZ,Z in enumerate(Zs):\n",
    "    print(Z,[yu.un2str(ens2RCs[ens][Z],ens2RCs[ens][Z+'_err'],precisions[iZ]) if ens2RCs[ens][Z+'_err']!=0 else ens2RCs[ens][Z] for ens in enss])\n",
    "for stout in range(5,10+1):\n",
    "    Z=f'Zgg^{stout}(mu!=nu)'\n",
    "    print(Z,[yu.un2str(ens2RCs[ens][Z],ens2RCs[ens][Z+'_err'],1 if ens=='b' else 2) for ens in enss])"
   ]
  },
  {
   "cell_type": "code",
   "execution_count": 22,
   "id": "2721fdc6",
   "metadata": {},
   "outputs": [
    {
     "name": "stdout",
     "output_type": "stream",
     "text": [
      "731 743 725\n"
     ]
    }
   ],
   "source": [
    "cfg2old=lambda cfg: cfg[1:]+'_r'+{'a':'0','b':'1','c':'2','d':'3'}[cfg[0]]\n",
    "cfg2new=lambda cfg: {'0':'a','1':'b','2':'c','3':'d'}[cfg[-1]] + cfg[:4]\n",
    "\n",
    "path='/p/project1/ngff/li47/code/glwc2/project2/02_discNJN_1D/data_aux/cfgs_conn/B_confs'\n",
    "with open(path,'r') as f:\n",
    "    cfgs=f.read().splitlines()\n",
    "    cfgs_conn=[cfg2new(cfg) for cfg in cfgs]\n",
    "    \n",
    "path='/p/project1/ngff/li47/code/glwc2/project2/02_discNJN_1D/dataPrepare/cB211.072.64/data_aux/cfgs_N=200,85,64_jlscg'\n",
    "with open(path,'r') as f:\n",
    "    cfgs_disc=f.read().splitlines()\n",
    "\n",
    "cfgs=list(set(cfgs_conn).intersection(cfgs_disc))\n",
    "cfgs.sort()\n",
    "\n",
    "print(len(cfgs_conn),len(cfgs_disc),len(cfgs))\n",
    "\n",
    "path='/p/project1/ngff/li47/code/glwc2/project2/02_discNJN_1D/dataPrepare/cB211.072.64/data_aux'"
   ]
  },
  {
   "cell_type": "code",
   "execution_count": 24,
   "id": "b897cf3e",
   "metadata": {},
   "outputs": [
    {
     "name": "stdout",
     "output_type": "stream",
     "text": [
      "401 400 400\n"
     ]
    }
   ],
   "source": [
    "cfg2old=lambda cfg: cfg[1:]+'_r'+{'a':'0','b':'1','c':'2','d':'3'}[cfg[0]]\n",
    "cfg2new=lambda cfg: {'0':'a','1':'b','2':'c','3':'d'}[cfg[-1]] + cfg[:4]\n",
    "\n",
    "path='/p/project1/ngff/li47/code/glwc2/project2/02_discNJN_1D/data_aux/cfgs_conn/configs_cC80_Christian.txt'\n",
    "with open(path,'r') as f:\n",
    "    cfgs=f.read().split(\"'\")\n",
    "    cfgs=[cfg for cfg in cfgs if len(cfg)==7 and '_r' in cfg]\n",
    "    cfgs_conn=[cfg2new(cfg) for cfg in cfgs]\n",
    "    \n",
    "path='/p/project1/ngff/li47/code/glwc2/project2/02_discNJN_1D/dataPrepare/cC211.060.80/data_aux/cfgs_N=650_jlscg'\n",
    "with open(path,'r') as f:\n",
    "    cfgs_disc=f.read().splitlines()\n",
    "\n",
    "cfgs=list(set(cfgs_conn).intersection(cfgs_disc))\n",
    "cfgs.sort()\n",
    "\n",
    "print(len(cfgs_conn),len(cfgs_disc),len(cfgs))"
   ]
  },
  {
   "cell_type": "code",
   "execution_count": 25,
   "id": "3b26dca8",
   "metadata": {},
   "outputs": [
    {
     "name": "stdout",
     "output_type": "stream",
     "text": [
      "496 494 494\n"
     ]
    }
   ],
   "source": [
    "cfg2old=lambda cfg: cfg[1:]+'_r'+{'a':'0','b':'1','c':'2','d':'3'}[cfg[0]]\n",
    "cfg2new=lambda cfg: {'0':'a','1':'b','2':'c','3':'d'}[cfg[-1]] + cfg[:4]\n",
    "\n",
    "path='/p/project1/ngff/li47/code/glwc2/project2/02_discNJN_1D/data_aux/cfgs_conn/configs_cD96_Christian.txt'\n",
    "with open(path,'r') as f:\n",
    "    cfgs=f.read().split(\"'\")\n",
    "    cfgs=[cfg for cfg in cfgs if len(cfg)==7 and '_r' in cfg]\n",
    "    cfgs_conn=[cfg2new(cfg) for cfg in cfgs]\n",
    "    \n",
    "path='/p/project1/ngff/li47/code/glwc2/project2/02_discNJN_1D/dataPrepare/cD211.054.96/data_aux/cfgs_N=256,112_jlscg'\n",
    "with open(path,'r') as f:\n",
    "    cfgs_disc=f.read().splitlines()\n",
    "\n",
    "cfgs=list(set(cfgs_conn).intersection(cfgs_disc))\n",
    "cfgs.sort()\n",
    "\n",
    "print(len(cfgs_conn),len(cfgs_disc),len(cfgs))"
   ]
  }
 ],
 "metadata": {
  "kernelspec": {
   "display_name": ".venv",
   "language": "python",
   "name": "python3"
  },
  "language_info": {
   "codemirror_mode": {
    "name": "ipython",
    "version": 3
   },
   "file_extension": ".py",
   "mimetype": "text/x-python",
   "name": "python",
   "nbconvert_exporter": "python",
   "pygments_lexer": "ipython3",
   "version": "3.9.21"
  }
 },
 "nbformat": 4,
 "nbformat_minor": 5
}
