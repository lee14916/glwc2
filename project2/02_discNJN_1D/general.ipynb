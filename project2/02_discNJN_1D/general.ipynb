{
 "cells": [
  {
   "cell_type": "code",
   "execution_count": 15,
   "id": "817f9b31",
   "metadata": {},
   "outputs": [],
   "source": [
    "# cfgs_j\n",
    "\n",
    "import os\n",
    "import h5py\n",
    "import numpy as np\n",
    "\n",
    "cfg2old=lambda cfg: cfg[1:]+'_r'+{'a':'0','b':'1','c':'2','d':'3'}[cfg[0]]\n",
    "cfg2new=lambda cfg: {'0':'a','1':'b','2':'c','3':'d'}[cfg[-1]] + cfg[:4]\n",
    "\n",
    "# cfgs\n",
    "\n",
    "path='/nvme/h/cy22yl1/projectData/02_discNJN_1D/cB211.072.64/data_pre_j/'\n",
    "cfgs=[cfg2new(cfg) for cfg in os.listdir(path)]; cfgs.sort()\n",
    "\n",
    "with open('data_aux/cfgs_all_j','w') as f:\n",
    "    f.write('\\n'.join(cfgs))"
   ]
  },
  {
   "cell_type": "code",
   "execution_count": null,
   "id": "6e9b4b32",
   "metadata": {},
   "outputs": [],
   "source": [
    "# Q2 range\n",
    "\n",
    "import numpy as np \n",
    "\n",
    "enss=['b']\n",
    "ens2full={'a24':'cA211.53.24','a':'cA2.09.48','b':'B64','c':'C80','d':'D96'}\n",
    "ens2label={'a24':'A24','a':'A48','b':'B64','c':'C80','d':'D96'}\n",
    "ens2a={'a24':0.0908,'a':0.0938,'b':0.07957,'c':0.06821,'d':0.05692} # fm\n",
    "ens2N={'a24':24,'a':48,'b':64,'c':80,'d':96}\n",
    "ens2N_T={'a24':24*2,'a':48*2,'b':64*2,'c':80*2,'d':96*2}\n",
    "\n",
    "# ens2mN={'a':931}\n",
    "# ens2mpiC={'a':131}\n",
    "# ens2mpi0={'a':111}\n",
    "\n",
    "ens2amu={'a24':0.0053,'a':0.0009,'b':0.00072}\n",
    "ens2ZP={'a24':(0.4670,0.0046),'a':(0.500,0.030)}\n",
    "\n",
    "hbarc = 1/197.3\n",
    "ens2aInv={ens:1/(ens2a[ens]*hbarc) for ens in enss} # MeV\n",
    "\n",
    "ens='b'\n",
    "\n",
    "for n2 in np.arange(23+1):\n",
    "    mN=0.938\n",
    "    q2=(2*np.pi/(ens2N[ens])*ens2aInv[ens]/1000)**2 * n2\n",
    "    EN=np.sqrt(mN**2+q2)\n",
    "    Q2=q2 - (EN-mN)**2\n",
    "    print(n2,Q2)"
   ]
  }
 ],
 "metadata": {
  "kernelspec": {
   "display_name": "Python 3",
   "language": "python",
   "name": "python3"
  },
  "language_info": {
   "codemirror_mode": {
    "name": "ipython",
    "version": 3
   },
   "file_extension": ".py",
   "mimetype": "text/x-python",
   "name": "python",
   "nbconvert_exporter": "python",
   "pygments_lexer": "ipython3",
   "version": "3.6.8"
  }
 },
 "nbformat": 4,
 "nbformat_minor": 5
}
