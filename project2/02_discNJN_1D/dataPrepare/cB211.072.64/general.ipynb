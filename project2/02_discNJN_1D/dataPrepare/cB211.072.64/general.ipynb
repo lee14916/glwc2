{
 "cells": [
  {
   "cell_type": "code",
   "execution_count": null,
   "id": "817f9b31",
   "metadata": {},
   "outputs": [],
   "source": [
    "# cyclone\n",
    "\n",
    "import os\n",
    "import h5py\n",
    "import numpy as np\n",
    "\n",
    "cfg2old=lambda cfg: cfg[1:]+'_r'+{'a':'0','b':'1','c':'2','d':'3'}[cfg[0]]\n",
    "cfg2new=lambda cfg: {'0':'a','1':'b','2':'c','3':'d'}[cfg[-1]] + cfg[:4]\n",
    "\n",
    "# cfgs\n",
    "\n",
    "path='/nvme/h/cy22yl1/projectData/02_discNJN_1D/cB211.072.64/data_pre_j/'\n",
    "cfgs=[cfg2new(cfg) for cfg in os.listdir(path)]; cfgs.sort()\n",
    "\n",
    "with open('data_aux/cfgs_all_j','w') as f:\n",
    "    f.write('\\n'.join(cfgs))"
   ]
  },
  {
   "cell_type": "code",
   "execution_count": 104,
   "id": "3763cc3a",
   "metadata": {},
   "outputs": [],
   "source": [
    "import os\n",
    "import h5py\n",
    "import numpy as np\n",
    "\n",
    "cfg2old=lambda cfg: cfg[1:]+'_r'+{'a':'0','b':'1','c':'2','d':'3'}[cfg[0]]\n",
    "cfg2new=lambda cfg: {'0':'a','1':'b','2':'c','3':'d'}[cfg[-1]] + cfg[:4]\n",
    "\n",
    "path='/p/project/ngff/li47/code/projectData/02_discNJN_1D/cB211.072.64/data_pre_N'\n",
    "cfgs=[cfg2new(cfg) for cfg in os.listdir(path)]; cfgs.sort()\n",
    "\n",
    "with open('data_aux/cfgs_all_N','w') as f:\n",
    "    f.write('\\n'.join(cfgs))"
   ]
  },
  {
   "cell_type": "code",
   "execution_count": 106,
   "id": "313d4fd4",
   "metadata": {},
   "outputs": [
    {
     "data": {
      "text/plain": [
       "55.35546875"
      ]
     },
     "execution_count": 106,
     "metadata": {},
     "output_type": "execute_result"
    }
   ],
   "source": [
    "(53+21)*766/1024"
   ]
  },
  {
   "cell_type": "code",
   "execution_count": null,
   "id": "6e9b4b32",
   "metadata": {},
   "outputs": [],
   "source": [
    "# Q2 range\n",
    "\n",
    "import numpy as np \n",
    "\n",
    "enss=['b']\n",
    "ens2full={'a24':'cA211.53.24','a':'cA2.09.48','b':'B64','c':'C80','d':'D96'}\n",
    "ens2label={'a24':'A24','a':'A48','b':'B64','c':'C80','d':'D96'}\n",
    "ens2a={'a24':0.0908,'a':0.0938,'b':0.07957,'c':0.06821,'d':0.05692} # fm\n",
    "ens2N={'a24':24,'a':48,'b':64,'c':80,'d':96}\n",
    "ens2N_T={'a24':24*2,'a':48*2,'b':64*2,'c':80*2,'d':96*2}\n",
    "\n",
    "# ens2mN={'a':931}\n",
    "# ens2mpiC={'a':131}\n",
    "# ens2mpi0={'a':111}\n",
    "\n",
    "ens2amu={'a24':0.0053,'a':0.0009,'b':0.00072}\n",
    "ens2ZP={'a24':(0.4670,0.0046),'a':(0.500,0.030)}\n",
    "\n",
    "hbarc = 1/197.3\n",
    "ens2aInv={ens:1/(ens2a[ens]*hbarc) for ens in enss} # MeV\n",
    "\n",
    "ens='b'\n",
    "\n",
    "for n2 in np.arange(23+1):\n",
    "    mN=0.938\n",
    "    q2=(2*np.pi/(ens2N[ens])*ens2aInv[ens]/1000)**2 * n2\n",
    "    EN=np.sqrt(mN**2+q2)\n",
    "    Q2=q2 - (EN-mN)**2\n",
    "    print(n2,Q2)"
   ]
  },
  {
   "cell_type": "code",
   "execution_count": 29,
   "id": "eae34b87",
   "metadata": {},
   "outputs": [
    {
     "name": "stdout",
     "output_type": "stream",
     "text": [
      "1.0805156823142814e-14\n"
     ]
    }
   ],
   "source": [
    "import os\n",
    "import h5py\n",
    "import numpy as np\n",
    "\n",
    "path='/p/project/ngff/li47/code/projectData/02_discNJN_1D/cB211.072.64/data_post/a0500/j.h5'\n",
    "path2='/p/project/ngff/li47/code/projectData/NST_f_discBCD/cB211.072.64/data_post/a0500/j.h5'\n",
    "with h5py.File(path) as f1, h5py.File(path2) as f2:\n",
    "    m1=f1['moms'][:]\n",
    "    m2=f2['moms'][:]\n",
    "    # m1=[list(ele) for ele in m1]\n",
    "    # m2=[list(ele) for ele in m2]\n",
    "    # m1.sort()\n",
    "    # m2.sort()\n",
    "    # print(np.all(m1==m2))\n",
    "    \n",
    "    dic1={}\n",
    "    for i,mom in enumerate(m1):\n",
    "        dic1[tuple(mom)]=i\n",
    "    dic2={}\n",
    "    for i,mom in enumerate(m2):\n",
    "        dic2[tuple(mom)]=i\n",
    "    \n",
    "    mom=(0,0,1)\n",
    "    \n",
    "    t1=f1['data/j+_g{m,Dn}_tl'][:,dic1[mom],:]\n",
    "\n",
    "    t2=f2['data/j'][:,dic2[mom],:]\n",
    "    print(np.max(np.abs(t1-t2)))\n",
    "    \n"
   ]
  },
  {
   "cell_type": "code",
   "execution_count": 103,
   "id": "f27f729c",
   "metadata": {},
   "outputs": [
    {
     "name": "stdout",
     "output_type": "stream",
     "text": [
      "(37, 33, 2)\n",
      "0.0\n",
      "0.0\n"
     ]
    }
   ],
   "source": [
    "import os\n",
    "import h5py\n",
    "import numpy as np\n",
    "\n",
    "# path1='/p/project/ngff/li47/code/projectData/02_discNJN_1D/cB211.072.64/data_post/a0500/j_1.h5'\n",
    "# path2='/p/project/ngff/li47/code/projectData/02_discNJN_1D/cB211.072.64/data_post/a0500/j_2.h5'\n",
    "# with h5py.File(path1) as f1,h5py.File(path2) as f2:\n",
    "#     print(f1['data'].keys())\n",
    "#     t1=f1['data/j+_SGM[m{n],Dr}_tl'][:]\n",
    "#     t2=f2['data/j+_SGM[m{n],Dr}_tl'][:]\n",
    "#     print(np.abs(t1-t2))\n",
    "\n",
    "# path1='/p/project/ngff/li47/code/projectData/02_discNJN_1D/cB211.072.64/data_avgsrc/a0500/N-j.h5'\n",
    "# path2='/p/project/ngff/li47/code/projectData/NST_f_discBCD/cB211.072.64/data_avgsrc/a0500/N-j.h5'\n",
    "# with h5py.File(path1) as f1, h5py.File(path2) as f2:\n",
    "#     print(f1['data'].keys())\n",
    "#     print(f2['data'].keys())\n",
    "    \n",
    "#     ky1='N_N_j+_g{m,Dn}_tl_11'\n",
    "#     ky2='N_N_j_11'\n",
    "#     t1=f1[f'data/{ky1}'][:]\n",
    "#     t2=f2[f'data/{ky2}'][:]\n",
    "#     print(np.max(np.abs(t1-t2)))\n",
    "    \n",
    "#     ky1='N_N_j+_g{m,Dn}_tl_11'\n",
    "#     ky2='N_N_j_11'\n",
    "#     t1=f1[f'data_bw/{ky1}'][:]\n",
    "#     t2=f2[f'data_bw/{ky2}'][:]\n",
    "#     print(np.max(np.abs(t1-t2)))\n",
    "\n",
    "# file='N.h5_hch02k_twop'\n",
    "# file='N.h5_twop_threep_2'\n",
    "# file='N.h5_twop_threep_dt20_64srcs'\n",
    "# path1=f'/p/project/ngff/li47/code/projectData/02_discNJN_1D/cB211.072.64/data_post_hold/a0500/{file}'\n",
    "# path2=f'/p/project/ngff/li47/code/projectData/02_discNJN_1D/cB211.072.64/data_N_fullmom/a0500/{file}'\n",
    "# with h5py.File(path1) as f1, h5py.File(path2) as f2:\n",
    "    \n",
    "#     fla='N1_N1'; dat='data'\n",
    "    \n",
    "#     moms1=[list(mom) for mom in f1['moms']]\n",
    "#     moms2=[list(mom) for mom in f2['moms']]\n",
    "#     momMap=[moms2.index(mom) for mom in moms1]\n",
    "#     srcs=list(f1[dat].keys())\n",
    "#     t1=0\n",
    "#     for src in srcs:\n",
    "#         t1+=f1[f'{dat}/{src}/{fla}'][:,:,[0,3]]\n",
    "#     t1/=len(srcs)\n",
    "    \n",
    "#     t2=f2[f'{dat}/{fla}'][:]\n",
    "#     t2=t2[:,momMap]\n",
    "    \n",
    "#     print(t1.shape)\n",
    "#     print(np.max(np.abs((t1-t2)/t1)))\n",
    "#     print(np.max(np.abs(t1-t2)))\n",
    "    "
   ]
  }
 ],
 "metadata": {
  "kernelspec": {
   "display_name": ".venv",
   "language": "python",
   "name": "python3"
  },
  "language_info": {
   "codemirror_mode": {
    "name": "ipython",
    "version": 3
   },
   "file_extension": ".py",
   "mimetype": "text/x-python",
   "name": "python",
   "nbconvert_exporter": "python",
   "pygments_lexer": "ipython3",
   "version": "3.9.21"
  }
 },
 "nbformat": 4,
 "nbformat_minor": 5
}
