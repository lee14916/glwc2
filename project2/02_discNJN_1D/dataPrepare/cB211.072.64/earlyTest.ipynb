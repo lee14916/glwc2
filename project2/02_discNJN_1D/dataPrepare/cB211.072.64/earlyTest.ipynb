{
 "cells": [
  {
   "cell_type": "code",
   "execution_count": 21,
   "id": "3b72772e",
   "metadata": {},
   "outputs": [
    {
     "name": "stdout",
     "output_type": "stream",
     "text": [
      "<KeysViewHDF5 ['N_mom0', 'N_mom1', 'j+', 'j-', 'jc', 'jg;stout0', 'jg;stout1', 'jg;stout10', 'jg;stout11', 'jg;stout12', 'jg;stout13', 'jg;stout14', 'jg;stout15', 'jg;stout16', 'jg;stout17', 'jg;stout18', 'jg;stout19', 'jg;stout2', 'jg;stout20', 'jg;stout21', 'jg;stout22', 'jg;stout23', 'jg;stout24', 'jg;stout25', 'jg;stout26', 'jg;stout27', 'jg;stout28', 'jg;stout29', 'jg;stout3', 'jg;stout30', 'jg;stout31', 'jg;stout32', 'jg;stout33', 'jg;stout34', 'jg;stout35', 'jg;stout36', 'jg;stout37', 'jg;stout38', 'jg;stout39', 'jg;stout4', 'jg;stout40', 'jg;stout5', 'jg;stout6', 'jg;stout7', 'jg;stout8', 'jg;stout9', 'js']>\n",
      "<KeysViewHDF5 ['P44(G0,0,0)', 'P44(G0,0,0)_vev', 'P4i(G0,pi,pi)']>\n",
      "<KeysViewHDF5 ['10', '11', '12', '13', '14', '15', '16', '17', '18', '19', '2', '20', '21', '22', '3', '4', '5', '6', '7', '8', '9']>\n",
      "8.985483349470844e-11 3.907583966483196e-26\n"
     ]
    }
   ],
   "source": [
    "import h5py,os,re,click\n",
    "import numpy as np\n",
    "\n",
    "path1='/p/project1/ngff/li47/code/projectData/02_discNJN_1D/cB211.072.64/data_earlytest/test2.h5'\n",
    "path2='/p/project1/ngff/li47/code/projectData/02_discNJN_1D/cB211.072.64/data_earlytest/test2_backup.h5'\n",
    "\n",
    "with h5py.File(path1) as f1, h5py.File(path2) as f2:\n",
    "    print(f1.keys())\n",
    "    print(f1['j+'].keys())\n",
    "    print(f1['j+/P4i(G0,pi,pi)'].keys())\n",
    "    \n",
    "    # key='N_mom1'\n",
    "    key='jg;stout0/P4i(G0,pi,pi)/22'\n",
    "    # key='j+/P44(G0,0,0)/22'\n",
    "    t1=f1[key][:,:]\n",
    "    t2=f2[key][:,:]\n",
    "    dt=t1-t2\n",
    "    # print(dt)\n",
    "    print(np.max(np.abs(t1)),np.max(np.abs(dt)))"
   ]
  }
 ],
 "metadata": {
  "kernelspec": {
   "display_name": ".venv",
   "language": "python",
   "name": "python3"
  },
  "language_info": {
   "codemirror_mode": {
    "name": "ipython",
    "version": 3
   },
   "file_extension": ".py",
   "mimetype": "text/x-python",
   "name": "python",
   "nbconvert_exporter": "python",
   "pygments_lexer": "ipython3",
   "version": "3.9.21"
  }
 },
 "nbformat": 4,
 "nbformat_minor": 5
}
