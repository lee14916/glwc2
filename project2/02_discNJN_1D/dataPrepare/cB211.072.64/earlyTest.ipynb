{
 "cells": [
  {
   "cell_type": "code",
   "execution_count": null,
   "id": "7aebc944",
   "metadata": {},
   "outputs": [
    {
     "name": "stdout",
     "output_type": "stream",
     "text": [
      "(3, 7, 10)\n"
     ]
    }
   ],
   "source": [
    "import h5py,os,re,click\n",
    "import numpy as np\n",
    "\n",
    "basePath='/p/project/ngff/li47/code/projectData/02_discNJN_1D/cB211.072.64/'\n",
    "\n",
    "lat_L=64\n",
    "def src2ints(src):\n",
    "    (sx,sy,sz,st)=re.search('sx([0-9]*)sy([0-9]*)sz([0-9]*)st([0-9]*)',src).groups()\n",
    "    (sx,sy,sz,st)=(int(sx),int(sy),int(sz),int(st))\n",
    "    return (sx,sy,sz,st)\n",
    "def get_phase(src_int,mom):\n",
    "    (sx,sy,sz,st)=src_int\n",
    "    return np.exp(1j*(2*np.pi/lat_L)*(np.array([sx,sy,sz])@mom))\n",
    "\n",
    "stout=10\n",
    "tfs=range(2,26+1)\n",
    "tfmax=tfs[-1]\n",
    "\n",
    "flag=True\n",
    "for cfg in ['a0500']:\n",
    "    path_j=f'/p/project/ngff/li47/code/projectData/02_discNJN_1D/cB211.072.64/loop_cyclone/{cfg}/'\n",
    "    path=f'/p/project/ngff/li47/code/projectData/02_discNJN_1D/cB211.072.64/data_post/{cfg}/'\n",
    "    with h5py.File(f'{path_j}jg.h5') as fj, h5py.File(f'{path}N.h5_hch02k_twop') as f1, h5py.File(f'{path}N.h5_twop_threep_2') as f2, h5py.File(f'{path}N.h5_twop_threep_dt20_64srcs') as f3:\n",
    "        if flag:\n",
    "            moms=[tuple(mom) for mom in fj['moms']]\n",
    "            i_momj=moms.index((0,0,0))\n",
    "            \n",
    "            moms=[tuple(mom) for mom in f1['moms']]\n",
    "            i_momNs=[moms.index(mom) for mom in [(0,0,0),(1,0,0),(-1,0,0),(0,1,0),(0,-1,0),(0,0,1),(0,0,-1)]]\n",
    "            flag=False        \n",
    "        tj=fj[f'data/jg;stout{stout}'][:,i_momj]\n",
    "        w\n",
    "        \n",
    "        for tf in tfs:\n",
    "            t=[np.array(f[f'data/{src}/N_N'])[tf,i_momNs,0][None,:,None] * np.roll(tj,-src2ints(src)[-1])[:tf+1,None,:] for f in [f1,f2,f3] for src in f['data'].keys()]\n",
    "            tt=np.mean(t,axis=0)\n",
    "            print(np.array(tt).shape)\n",
    "            \n",
    "            t=tt[:,0,0] # mom=0; insert=tt\n",
    "            break\n",
    "        # t=np.mean(t,axis=)\n",
    "        # print(np.array(t).shape)\n",
    "        # t=\n",
    "    \n",
    "    # i_mom=moms.index((0,-1,0))\n",
    "    # tres=[]\n",
    "    # for f in [f1,f2,f3][:1]:\n",
    "    #     for src in f['data'].keys():\n",
    "    #         src_int=src2ints(src)\n",
    "    #         t=f[f'data/{src}/N_N'][tf,i_mom,0]\n",
    "    #         tj_temp=np.roll(tj,-src_int[-1])[:tf+1]\n",
    "    #         # tres.append(t*tj_temp)\n",
    "    #         tres.append(np.imag(t)*np.real(tj_temp))\n",
    "    #         # tres.append(np.real(t)*np.imag(tj_temp))\n",
    "    #         # break\n",
    "    #     # break\n",
    "    # print(len(tres))\n",
    "    # t=np.mean(tres,axis=0)*2\n",
    "    #     print(tj.shape)\n"
   ]
  }
 ],
 "metadata": {
  "kernelspec": {
   "display_name": ".venv",
   "language": "python",
   "name": "python3"
  },
  "language_info": {
   "codemirror_mode": {
    "name": "ipython",
    "version": 3
   },
   "file_extension": ".py",
   "mimetype": "text/x-python",
   "name": "python",
   "nbconvert_exporter": "python",
   "pygments_lexer": "ipython3",
   "version": "3.9.21"
  }
 },
 "nbformat": 4,
 "nbformat_minor": 5
}
