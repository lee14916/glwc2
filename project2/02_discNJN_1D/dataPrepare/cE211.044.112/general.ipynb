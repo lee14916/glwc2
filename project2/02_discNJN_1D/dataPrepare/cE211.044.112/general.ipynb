{
 "cells": [
  {
   "cell_type": "code",
   "execution_count": 12,
   "id": "4c308810",
   "metadata": {},
   "outputs": [],
   "source": [
    "# cfgs_all_N\n",
    "\n",
    "import os,pickle\n",
    "import h5py\n",
    "import numpy as np\n",
    "\n",
    "ens='cE211.044.112'\n",
    "\n",
    "cfg2old=lambda cfg: cfg[1:]+'_r'+{'a':'0','b':'1','c':'2','d':'3'}[cfg[0]]\n",
    "cfg2new=lambda cfg: {'0':'a','1':'b','2':'c','3':'d'}[cfg[-1]] + cfg[:4]\n",
    "\n",
    "path='/p/arch1/hch02/iona1/E112/twop/'\n",
    "cfgs=[cfg2new(cfg) for cfg in os.listdir(path) if not cfg.endswith('.tar')]\n",
    "cfgs.sort()\n",
    "\n",
    "for cfg in cfgs:\n",
    "    files=os.listdir(f'{path}{cfg2old(cfg)}')\n",
    "    assert(len(files)==100)\n",
    "    for file in files:\n",
    "        assert(file.startswith('twop') and file.endswith('.h5'))\n",
    "        \n",
    "with open('data_aux/cfgs_N','w') as f:\n",
    "    f.write('\\n'.join(cfgs))"
   ]
  },
  {
   "cell_type": "code",
   "execution_count": 8,
   "id": "65496169",
   "metadata": {},
   "outputs": [
    {
     "name": "stdout",
     "output_type": "stream",
     "text": [
      "True\n"
     ]
    }
   ],
   "source": [
    "# cfgs_all_js\n",
    "\n",
    "import os,pickle\n",
    "import h5py\n",
    "import numpy as np\n",
    "\n",
    "ens='cE211.044.112'\n",
    "\n",
    "cfg2old=lambda cfg: cfg[1:]+'_r'+{'a':'0','b':'1','c':'2','d':'3'}[cfg[0]]\n",
    "cfg2new=lambda cfg: {'0':'a','1':'b','2':'c','3':'d'}[cfg[-1]] + cfg[:4]\n",
    "\n",
    "path='/p/arch1/hch02/iona1/E112/strange_loops/src1/'\n",
    "cfgs=[cfg2new(cfg) for cfg in os.listdir(path) if not cfg.endswith('.tar')]\n",
    "cfgs.sort()\n",
    "\n",
    "path='/p/arch1/hch02/iona1/E112/strange_loops/src2/'\n",
    "cfgs2a=[cfg2new(cfg) for cfg in os.listdir(path) if not cfg.endswith('.tar')]\n",
    "cfgs2a.sort()\n",
    "\n",
    "path='/p/project/ngff/li47/code/projectData/02_discNJN_1D/cE211.044.112/js_dalps/'\n",
    "cfgs2b=[cfg2new(cfg) for cfg in os.listdir(path)]\n",
    "cfgs2b.sort()\n",
    "\n",
    "cfgs2=list(set(cfgs2a+cfgs2b))\n",
    "cfgs2.sort()\n",
    "print(np.all(cfgs==cfgs2))\n",
    "\n",
    "with open('data_aux/cfgs_js','w') as f:\n",
    "    f.write('\\n'.join(cfgs))"
   ]
  },
  {
   "cell_type": "code",
   "execution_count": null,
   "id": "894bba03",
   "metadata": {},
   "outputs": [],
   "source": [
    "# cfgs\n",
    "\n",
    "path='data_aux/cfgs_N=100'\n",
    "with open(path,'r') as f:\n",
    "    cfgs_N=f.read().splitlines()\n",
    "    \n",
    "path='data_aux/cfgs_js'\n",
    "with open(path,'r') as f:\n",
    "    cfgs_js=f.read().splitlines()\n",
    "\n",
    "cfgs=set(cfgs_N+cfgs_js)\n",
    "cfgs=list(cfgs); cfgs.sort() \n",
    "\n",
    "with open('data_aux/cfgs_N=100_js','w') as f:\n",
    "    f.write('\\n'.join(cfgs))"
   ]
  }
 ],
 "metadata": {
  "kernelspec": {
   "display_name": ".venv",
   "language": "python",
   "name": "python3"
  },
  "language_info": {
   "codemirror_mode": {
    "name": "ipython",
    "version": 3
   },
   "file_extension": ".py",
   "mimetype": "text/x-python",
   "name": "python",
   "nbconvert_exporter": "python",
   "pygments_lexer": "ipython3",
   "version": "3.9.18"
  }
 },
 "nbformat": 4,
 "nbformat_minor": 5
}
