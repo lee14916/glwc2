{
 "cells": [
  {
   "cell_type": "code",
   "execution_count": 22,
   "metadata": {},
   "outputs": [
    {
     "name": "stdout",
     "output_type": "stream",
     "text": [
      "<KeysViewHDF5 ['dt20', 'dt20_twop', 'mvec']>\n",
      "<KeysViewHDF5 ['dt20', 'dt20_twop', 'mvec']>\n",
      "<KeysViewHDF5 ['sx00sy02sz40st115', 'sx06sy62sz46st60', 'sx07sy06sz09st47', 'sx07sy21sz08st41', 'sx07sy52sz37st58', 'sx08sy09sz18st106', 'sx08sy41sz02st35', 'sx08sy49sz25st107', 'sx09sy41sz27st31', 'sx12sy51sz50st22', 'sx13sy21sz31st92', 'sx14sy46sz63st96', 'sx14sy55sz06st48', 'sx15sy53sz02st73', 'sx16sy52sz38st91', 'sx16sy56sz10st67', 'sx17sy05sz14st118', 'sx19sy10sz13st01', 'sx19sy28sz38st74', 'sx19sy54sz23st73', 'sx20sy51sz59st11', 'sx21sy37sz44st107', 'sx23sy42sz12st40', 'sx23sy50sz37st72', 'sx24sy20sz31st71', 'sx24sy39sz15st24', 'sx25sy59sz40st112', 'sx26sy15sz04st87', 'sx27sy09sz05st68', 'sx27sy28sz29st53', 'sx28sy18sz06st113', 'sx29sy47sz57st119', 'sx29sy53sz14st63', 'sx30sy07sz15st46', 'sx30sy18sz57st70', 'sx31sy34sz37st52', 'sx32sy43sz05st53', 'sx33sy58sz48st26', 'sx35sy02sz46st56', 'sx35sy36sz09st11', 'sx35sy55sz60st85', 'sx37sy23sz42st84', 'sx37sy33sz48st32', 'sx37sy56sz34st62', 'sx39sy38sz18st91', 'sx39sy51sz43st123', 'sx40sy11sz33st29', 'sx41sy46sz60st111', 'sx42sy28sz13st82', 'sx43sy16sz26st28', 'sx43sy26sz27st50', 'sx44sy17sz37st11', 'sx44sy20sz22st123', 'sx48sy36sz29st30', 'sx49sy03sz15st109', 'sx50sy41sz49st56', 'sx50sy48sz48st58', 'sx52sy19sz22st80', 'sx55sy33sz06st81', 'sx55sy59sz50st90', 'sx57sy29sz42st12', 'sx60sy31sz12st20', 'sx61sy58sz59st23', 'sx63sy36sz22st126']>\n",
      "64\n"
     ]
    }
   ],
   "source": [
    "'''\n",
    "2pt:\n",
    "/p/arch1/hch02/hch02b/cB211.072.64/twop_threep_dt20_64srcs/twop_${cfg}.h5: Nsrc~64\n",
    "/p/arch1/hch02/hch02b/cB211.072.64/twop_threep_2/twop_${cfg}.h5: Nsrc~85\n",
    "/p/arch1/hch02/hch02k/cB2.072.64_Nf211/twop/${cfg}.tar: Nsrc~200\n",
    "total~349\n",
    "There is also Nsrc=64 data but with srcs averaged\n",
    "\n",
    "3pt:\n",
    "/p/arch1/hch02/hch02b/cB211.072.64/twop_threep_2/threep_${cfg}.h5\n",
    "dt12: Nsrc=1\n",
    "dt14: Nsrc=4\n",
    "dt16: Nsrc=16\n",
    "dt18: Nsrc=64\n",
    "/p/arch1/hch02/hch02b/cB211.072.64/twop_threep_dt20_64srcs/threep_${cfg}.h5\n",
    "dt20: Nsrc=64\n",
    "\n",
    "First plan:\n",
    "N: backed up\n",
    "T,B,W,Z,: from Ferenc\n",
    "P,J: from myself\n",
    "NJN: generate 1src for each dt (ask Ferenc) to build discs, but use all for NJN conn\n",
    "'''\n",
    "\n",
    "\n",
    "import h5py,os,re,click\n",
    "import numpy as np\n",
    "path='/p/arch1/hch02/hch02b/cB211.072.64/twop_threep_dt20_64srcs/threep_0500_r0.h5'\n",
    "with h5py.File(path) as f:\n",
    "    print(f.keys())\n",
    "    print(f.keys())\n",
    "    for dt in [20]:\n",
    "        t=f[f'dt{dt}/up/Local/P4']\n",
    "        print(f[f'dt{dt}/up/Local/P4'].keys())\n",
    "        print(len(f[f'dt{dt}/up/Local/P4']))\n",
    "    # print(f['mvec'])"
   ]
  }
 ],
 "metadata": {
  "kernelspec": {
   "display_name": ".venv",
   "language": "python",
   "name": "python3"
  },
  "language_info": {
   "codemirror_mode": {
    "name": "ipython",
    "version": 3
   },
   "file_extension": ".py",
   "mimetype": "text/x-python",
   "name": "python",
   "nbconvert_exporter": "python",
   "pygments_lexer": "ipython3",
   "version": "3.9.21"
  }
 },
 "nbformat": 4,
 "nbformat_minor": 2
}
