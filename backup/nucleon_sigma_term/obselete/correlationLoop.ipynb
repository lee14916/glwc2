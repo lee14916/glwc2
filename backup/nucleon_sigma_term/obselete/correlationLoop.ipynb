{
 "cells": [
  {
   "cell_type": "code",
   "execution_count": 1,
   "metadata": {},
   "outputs": [],
   "source": [
    "import os,sys\n",
    "import h5py  \n",
    "import numpy as np\n",
    "import math,cmath\n",
    "from matplotlib.backends.backend_pdf import PdfPages\n",
    "from scipy.optimize import curve_fit, fsolve\n",
    "import matplotlib as mpl\n",
    "import matplotlib.pyplot as plt\n",
    "mpl.rcParams['figure.facecolor'] = 'white'\n",
    "\n",
    "if not os.path.abspath('../util') in sys.path:\n",
    "    sys.path.append(os.path.abspath('../util'))\n",
    "import util as yu\n",
    "\n",
    "ens='cA211.53.24'\n",
    "lat=yu.LatticeEnsemble(ens)"
   ]
  },
  {
   "cell_type": "code",
   "execution_count": 12,
   "metadata": {},
   "outputs": [
    {
     "name": "stdout",
     "output_type": "stream",
     "text": [
      "311\n"
     ]
    }
   ],
   "source": [
    "basePath='/p/project/pines/li47/code/projectData/nucleon_sigma_term/cA211.53.24/pion2pt/avg/P.h5'\n",
    "with h5py.File(basePath) as f:\n",
    "    cfgList=list(f.keys())\n",
    "basePath='/p/project/pines/li47/code/projectData/nucleon_sigma_term/cA211.53.24/pion2pt/avg/pi0DoubleLoop.h5'\n",
    "with h5py.File(basePath) as f:\n",
    "    cfgList=list(set(cfgList)&set(f.keys()))\n",
    "\n",
    "Ncfg=len(cfgList)\n",
    "print(Ncfg)\n",
    "\n",
    "data={}\n",
    "\n",
    "basePath='/p/project/pines/li47/code/projectData/nucleon_sigma_term/cA211.53.24/pion2pt/avg/P.h5'\n",
    "with h5py.File(basePath) as f:\n",
    "    momList=f['0000/mvec'][()]\n",
    "    # for ky in ['P0DN','P0UP','PPDN','PPUP']:\n",
    "    #     data[ky]=np.array([f[cfg][ky][:,:,0,0]+1j*f[cfg][ky][:,:,0,1] for cfg in cfgList])\n",
    "\n",
    "# basePath='/p/project/pines/li47/code/projectData/nucleon_sigma_term/cA211.53.24/pion2pt/avg/pi0DoubleLoop.h5'\n",
    "# with h5py.File(basePath) as f:\n",
    "#     for ky in ['pi0DoubleLoop']:\n",
    "#         data[ky]=np.array([f[cfg][ky] for cfg in cfgList])\n",
    "\n",
    "basePath='/p/project/pines/li47/code/projectData/nucleon_sigma_term/cA211.53.24/pion2pt/avg/pi0Loop.h5'\n",
    "with h5py.File(basePath) as f:\n",
    "    for ky in ['pi0Loop','pi0Loop_g5_vev']:\n",
    "        data[ky]=np.array([f[cfg][ky][()] for cfg in cfgList])\n",
    "\n",
    "momDic={}\n",
    "for i in range(len(momList)):\n",
    "    momDic[tuple(momList[i])]=i\n",
    "\n",
    "t_total=48"
   ]
  },
  {
   "cell_type": "code",
   "execution_count": null,
   "metadata": {},
   "outputs": [],
   "source": [
    "i_mom=momDic[(0,0,0)]\n",
    "dat=np.array([[data['pi0Loop'][cfg,:,i_mom,0],data['pi0Loop_g5_vev'][cfg]] for cfg in range(len(cfgList))],dtype=object)\n",
    "\n",
    "def tFunc(dat):\n",
    "    t=np.mean(dat,axis=0)\n",
    "    tDat=np.vstack(dat[:,0])\n",
    "    tDat=tDat-t[1]\n",
    "\n",
    "    t2pt=np.transpose([np.mean(np.roll(tDat,-tf,axis=1)*tDat,axis=1) for tf in range(t_total)])\n",
    "\n",
    "    # t=tDat[0]*tDat[0]*tDat*tDat\n",
    "    # t=np.mean(t,axis=0)\n",
    "    # tSub=tDat[0]*tDat\n",
    "    # tSub=np.mean(tSub,axis=0)\n",
    "\n",
    "    shift=24\n",
    "\n",
    "    t=np.roll(t2pt,-shift,axis=1)*t2pt\n",
    "    t=np.mean(t,axis=0)\n",
    "    tSub=t2pt\n",
    "    tSub=np.mean(tSub,axis=0)\n",
    "\n",
    "    return (t-np.roll(tSub,-shift,axis=0)*tSub)/len(dat)\n",
    "\n",
    "(mean,cov,err)=yu.jackknife(dat,tFunc)\n",
    "print(mean)\n",
    "print()\n",
    "print(err)"
   ]
  }
 ],
 "metadata": {
  "kernelspec": {
   "display_name": "Python 3",
   "language": "python",
   "name": "python3"
  },
  "language_info": {
   "codemirror_mode": {
    "name": "ipython",
    "version": 3
   },
   "file_extension": ".py",
   "mimetype": "text/x-python",
   "name": "python",
   "nbconvert_exporter": "python",
   "pygments_lexer": "ipython3",
   "version": "3.6.8"
  },
  "orig_nbformat": 4
 },
 "nbformat": 4,
 "nbformat_minor": 2
}
