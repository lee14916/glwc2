{
 "cells": [
  {
   "cell_type": "code",
   "execution_count": null,
   "metadata": {},
   "outputs": [],
   "source": [
    "import os,sys\n",
    "import h5py  \n",
    "import numpy as np\n",
    "import math,cmath\n",
    "from matplotlib.backends.backend_pdf import PdfPages\n",
    "from scipy.optimize import curve_fit\n",
    "import matplotlib as mpl\n",
    "import matplotlib.pyplot as plt\n",
    "mpl.rcParams['figure.facecolor'] = 'white'\n",
    "mpl.rcParams.update({\"axes.grid\" : True})\n",
    "font = {'size': 22}\n",
    "mpl.rc('font', **font)\n",
    "\n",
    "if not os.path.abspath('../util') in sys.path:\n",
    "    sys.path.append(os.path.abspath('../util'))\n",
    "import util as yu\n",
    "\n",
    "ens='cA211.53.24'\n",
    "lat=yu.LatticeEnsemble(ens)"
   ]
  },
  {
   "cell_type": "code",
   "execution_count": null,
   "metadata": {},
   "outputs": [],
   "source": [
    "path='/project/s1174/lyan/code/projectData/nucleon_sigma_term/cA211.53.24/test_NJNpi_GEVP_noPost/templateFiles/templateMomList.h5'\n",
    "with h5py.File(path) as f:\n",
    "    momList=f['B'][()]\n",
    "    for i,mom in enumerate(momList):\n",
    "        print(i,mom)"
   ]
  },
  {
   "cell_type": "code",
   "execution_count": null,
   "metadata": {},
   "outputs": [],
   "source": [
    "path='/project/s1174/lyan/code/projectData/nucleon_sigma_term/cA211.53.24/test_NJNpi_GEVP_noPost/avg-merge_backup/'\n",
    "pi2Str='pi2=0_0_1'; mom=13; ab=0\n",
    "\n",
    "data={}\n",
    "for pat in ['B','W','Z']:\n",
    "    with h5py.File(path+pat+'.h5') as f:\n",
    "        for cont in f['0000/12'][pi2Str].keys():\n",
    "            if cont.endswith('mvec'):\n",
    "                continue\n",
    "            data[cont]=np.array([f[cfg]['12'][pi2Str][cont][:,mom,:,ab] for cfg in f.keys()])\n",
    "            print(cont)"
   ]
  },
  {
   "cell_type": "code",
   "execution_count": null,
   "metadata": {},
   "outputs": [],
   "source": [
    "tfList=[10,12,14]\n",
    "\n",
    "def run(conts,Gc,preFactor=1):\n",
    "    fig,axs=yu.getFigAxs(1,1,Lrow=4*2,Lcol=5*2)\n",
    "\n",
    "    def tFunc(dat):\n",
    "        t=np.mean(dat,axis=0)\n",
    "        return t\n",
    "\n",
    "    for cont in conts:\n",
    "        dat=np.array([np.array([np.real(preFactor*data[cont+'_deltat_'+str(tf)][cfg,1:tf,Gc]) for tf in tfList],dtype=object) for cfg in range(300)])\n",
    "        (mean,cov,err)=yu.jackknife(dat,tFunc)\n",
    "        for i_tf in range(len(tfList)):\n",
    "            tf=tfList[i_tf]\n",
    "            tMean=mean[i_tf];tErr=err[i_tf]\n",
    "            irow=0; icol=0\n",
    "            axs[irow,icol].errorbar(np.arange(1 - tf//2,tf//2),tMean,tErr,fmt='o',elinewidth=2,capsize=6,mfc='white')\n",
    "\n",
    "for num in range(3,12+1):\n",
    "    run(['B'+str(num)],4,-1j)"
   ]
  },
  {
   "cell_type": "code",
   "execution_count": null,
   "metadata": {},
   "outputs": [],
   "source": [
    "for num in range(5,24+1):\n",
    "    run(['W'+str(num)],4,-1j)"
   ]
  },
  {
   "cell_type": "code",
   "execution_count": null,
   "metadata": {},
   "outputs": [],
   "source": [
    "for num in range(5,14+1):\n",
    "    run(['Z'+str(num)],5,1)"
   ]
  },
  {
   "cell_type": "code",
   "execution_count": null,
   "metadata": {},
   "outputs": [],
   "source": [
    "for num in range(3,12+1):\n",
    "    run(['B'+str(num)],5,1)"
   ]
  }
 ],
 "metadata": {
  "kernelspec": {
   "display_name": "Python 3",
   "language": "python",
   "name": "python3"
  },
  "language_info": {
   "codemirror_mode": {
    "name": "ipython",
    "version": 3
   },
   "file_extension": ".py",
   "mimetype": "text/x-python",
   "name": "python",
   "nbconvert_exporter": "python",
   "pygments_lexer": "ipython3",
   "version": "3.6.15"
  },
  "orig_nbformat": 4
 },
 "nbformat": 4,
 "nbformat_minor": 2
}
