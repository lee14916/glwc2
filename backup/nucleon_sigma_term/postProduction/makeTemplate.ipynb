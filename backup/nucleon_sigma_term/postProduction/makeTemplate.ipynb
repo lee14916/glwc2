{
 "cells": [
  {
   "cell_type": "code",
   "execution_count": 1,
   "metadata": {},
   "outputs": [],
   "source": [
    "import h5py, os\n",
    "import numpy as np\n",
    "\n",
    "patterns=['P_2pt','N_2pt','T','D1ii','B_2pt','W_2pt','Z_2pt','M_correct_2pt','B','W','Z',\\\n",
    "          'NJN',\\\n",
    "            'pi0Insert','sigmaInsert','pi0Loop','sigmaLoop','insertLoop']\n",
    "\n",
    "patternsMom=['N_2pt','T','D1ii','B_2pt','B','NJN','pi0Loop','sigmaLoop','insertLoop','pi0Insert','sigmaInsert']"
   ]
  },
  {
   "cell_type": "code",
   "execution_count": 2,
   "metadata": {},
   "outputs": [],
   "source": [
    "# reduceTemplateSize\n",
    "\n",
    "def dataQ(dataset):\n",
    "    return not dataset.endswith('mvec')\n",
    "\n",
    "for file in os.listdir('./'):\n",
    "    if not file.endswith('.h5'):\n",
    "        continue\n",
    "    datasetDic={}\n",
    "    with h5py.File(file,'r') as f:\n",
    "        def visitor_func(name, node):\n",
    "            if isinstance(node, h5py.Dataset):\n",
    "                # print(name,node)\n",
    "                if dataQ(name):\n",
    "                    datasetDic[name]=0\n",
    "                else:\n",
    "                    datasetDic[name]=node[()]\n",
    "        f.visititems(visitor_func)\n",
    "    with h5py.File(file,'w') as f:\n",
    "        for dataset in datasetDic:\n",
    "            f.create_dataset(dataset,data=datasetDic[dataset])\n"
   ]
  },
  {
   "cell_type": "code",
   "execution_count": 3,
   "metadata": {},
   "outputs": [
    {
     "name": "stdout",
     "output_type": "stream",
     "text": [
      "Diagram0000_sx00sy01sz18st039_NJN.h5 NJN\n"
     ]
    }
   ],
   "source": [
    "# modify filenames\n",
    "\n",
    "for file in os.listdir('./'):\n",
    "    if not file.endswith('.h5'):\n",
    "        continue\n",
    "    if (not file.startswith('Diagram')) and (not file.startswith('threept')):\n",
    "        continue\n",
    "    for pat in patterns:\n",
    "        if file.endswith(pat+'.h5'):\n",
    "            print(file,pat)\n",
    "            os.rename(file,pat+'.h5')"
   ]
  },
  {
   "cell_type": "code",
   "execution_count": 4,
   "metadata": {},
   "outputs": [
    {
     "name": "stdout",
     "output_type": "stream",
     "text": [
      "N_2pt                \t <HDF5 dataset \"N_2pt\": shape (27, 3), type \"<i4\">\n",
      "NpiJN                \t <HDF5 dataset \"NpiJN\": shape (729, 12), type \"<i8\">\n",
      "T                    \t <HDF5 dataset \"T\": shape (27, 6), type \"<i4\">\n",
      "D1ii                 \t <HDF5 dataset \"D1ii\": shape (343, 9), type \"<i4\">\n",
      "B_2pt                \t <HDF5 dataset \"B_2pt\": shape (343, 9), type \"<i4\">\n",
      "B                    \t <HDF5 dataset \"B\": shape (27, 12), type \"<i4\">\n",
      "NJN                  \t <HDF5 dataset \"NJN\": shape (27, 12), type \"<i4\">\n",
      "pi0Loop              \t <HDF5 dataset \"pi0Loop\": shape (27, 3), type \"<i4\">\n",
      "sigmaLoop            \t <HDF5 dataset \"sigmaLoop\": shape (27, 3), type \"<i4\">\n",
      "insertLoop           \t <HDF5 dataset \"insertLoop\": shape (27, 3), type \"<i4\">\n",
      "pi0Insert            \t <HDF5 dataset \"pi0Insert\": shape (27, 3), type \"<i4\">\n",
      "sigmaInsert          \t <HDF5 dataset \"sigmaInsert\": shape (27, 3), type \"<i4\">\n"
     ]
    }
   ],
   "source": [
    "with h5py.File('templateMomList.h5','w') as fw:\n",
    "    for pat in patternsMom:\n",
    "        with h5py.File(pat+'.h5') as fr:\n",
    "            dataset=None\n",
    "            def visitor_func(name, node):\n",
    "                if isinstance(node, h5py.Dataset):\n",
    "                    if name.endswith('mvec'):\n",
    "                        global dataset\n",
    "                        dataset = name\n",
    "\n",
    "            fr.visititems(visitor_func)\n",
    "            fw.create_dataset(pat,data=fr[dataset])\n",
    "            print(\"{0:20}\".format(pat),\"\\t\",fw[pat])\n",
    "\n",
    "            if pat == 'N_2pt':\n",
    "                t=[[0,0,0]+list(ele1)+list(-np.array(ele1))+list(ele2) for ele1 in fr[dataset] for ele2 in fr[dataset]]\n",
    "                t.sort()\n",
    "                t=np.array(t)\n",
    "                fw.create_dataset('NpiJN',data=t)\n",
    "                print(\"{0:20}\".format('NpiJN'),\"\\t\",fw['NpiJN'])"
   ]
  }
 ],
 "metadata": {
  "kernelspec": {
   "display_name": "Python 3",
   "language": "python",
   "name": "python3"
  },
  "language_info": {
   "codemirror_mode": {
    "name": "ipython",
    "version": 3
   },
   "file_extension": ".py",
   "mimetype": "text/x-python",
   "name": "python",
   "nbconvert_exporter": "python",
   "pygments_lexer": "ipython3",
   "version": "3.6.15"
  },
  "orig_nbformat": 4
 },
 "nbformat": 4,
 "nbformat_minor": 2
}
