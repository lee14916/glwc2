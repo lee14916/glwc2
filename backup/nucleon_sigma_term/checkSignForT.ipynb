{
 "cells": [
  {
   "cell_type": "code",
   "execution_count": null,
   "metadata": {},
   "outputs": [],
   "source": [
    "import os,sys\n",
    "import h5py  \n",
    "import numpy as np\n",
    "import math,cmath\n",
    "from matplotlib.backends.backend_pdf import PdfPages\n",
    "from scipy.optimize import curve_fit\n",
    "import matplotlib as mpl\n",
    "import matplotlib.pyplot as plt\n",
    "mpl.rcParams['figure.facecolor'] = 'white'\n",
    "\n",
    "if not os.path.abspath('../util') in sys.path:\n",
    "    sys.path.append(os.path.abspath('../util'))\n",
    "import util as yu\n",
    "\n",
    "ens='cA211.53.24'\n",
    "lat=yu.LatticeEnsemble(ens)"
   ]
  },
  {
   "cell_type": "code",
   "execution_count": null,
   "metadata": {},
   "outputs": [],
   "source": [
    "path='/p/project/pines/li47/code/projectData/nucleon_sigma_term/cA211.53.24/NJNpi_GEVP/templateFiles/templateMomList.h5'\n",
    "with h5py.File(path) as f:\n",
    "    momList=f['T'][:,3:6]\n",
    "\n",
    "momDic={}\n",
    "for i in range(len(momList)):\n",
    "    momDic[tuple(momList[i])]=i"
   ]
  },
  {
   "attachments": {},
   "cell_type": "markdown",
   "metadata": {},
   "source": [
    "# T"
   ]
  },
  {
   "cell_type": "code",
   "execution_count": null,
   "metadata": {},
   "outputs": [],
   "source": [
    "cont='p_n&pi+'; cont ='p_p&pi0'\n",
    "path='/p/project/pines/li47/code/projectData/nucleon_sigma_term/cA211.53.24/NJNpi_GEVP/avg-post/T.h5'\n",
    "with h5py.File(path) as f:\n",
    "    pi2Str='pi2=0_0_1'; pf1=(0,0,0)\n",
    "    (a,b)=(0,0)\n",
    "\n",
    "    dat = [f[cfg+'/12/'+pi2Str+'/'+cont][:6,momDic[pf1],0,a*4+b] for cfg in f.keys()]\n",
    "    t=np.mean(dat,axis=0)\n",
    "    print(t)\n",
    "    print()\n",
    "\n",
    "    (a,b)=(1,1)\n",
    "    dat = [f[cfg+'/12/'+pi2Str+'/'+cont][:6,momDic[pf1],0,a*4+b] for cfg in f.keys()]\n",
    "    t=np.mean(dat,axis=0)\n",
    "    print(t)"
   ]
  },
  {
   "cell_type": "code",
   "execution_count": null,
   "metadata": {},
   "outputs": [],
   "source": [
    "path='/p/project/pines/li47/code/projectData/nucleon_sigma_term/cA211.53.24/NJNpi_GEVP/avg-post/T.h5'\n",
    "with h5py.File(path) as f:\n",
    "    pi2Str='pi2=1_0_0'; pf1=(0,0,0)\n",
    "    (a,b)=(0,1)\n",
    "\n",
    "    dat = [f[cfg+'/12/'+pi2Str+'/'+cont][:6,momDic[pf1],0,a*4+b] for cfg in f.keys()]\n",
    "    t=np.mean(dat,axis=0)\n",
    "    print(t)\n",
    "    print()\n",
    "\n",
    "    (a,b)=(1,0)\n",
    "    dat = [f[cfg+'/12/'+pi2Str+'/'+cont][:6,momDic[pf1],0,a*4+b] for cfg in f.keys()]\n",
    "    t=np.mean(dat,axis=0)\n",
    "    print(t)"
   ]
  },
  {
   "cell_type": "code",
   "execution_count": null,
   "metadata": {},
   "outputs": [],
   "source": [
    "path='/p/project/pines/li47/code/projectData/nucleon_sigma_term/cA211.53.24/NJNpi_GEVP/avg-post/T.h5'\n",
    "with h5py.File(path) as f:\n",
    "    pi2Str='pi2=0_0_0'; pf1=(0,0,1)\n",
    "    (a,b)=(0,0)\n",
    "\n",
    "    dat = [f[cfg+'/12/'+pi2Str+'/'+cont][:6,momDic[pf1],0,a*4+b] for cfg in f.keys()]\n",
    "    t=np.mean(dat,axis=0)\n",
    "    print(t)\n",
    "    print()\n",
    "\n",
    "    (a,b)=(1,1)\n",
    "    dat = [f[cfg+'/12/'+pi2Str+'/'+cont][:6,momDic[pf1],0,a*4+b] for cfg in f.keys()]\n",
    "    t=np.mean(dat,axis=0)\n",
    "    print(t)"
   ]
  },
  {
   "attachments": {},
   "cell_type": "markdown",
   "metadata": {},
   "source": [
    "# N_2pt-pi0i"
   ]
  },
  {
   "cell_type": "code",
   "execution_count": null,
   "metadata": {},
   "outputs": [],
   "source": [
    "cont='p_p'\n",
    "path='/p/project/pines/li47/code/projectData/nucleon_sigma_term/cA211.53.24/NJNpi_GEVP/avg-post/N_2pt-pi0i.h5'\n",
    "with h5py.File(path) as f:\n",
    "    pi2Str='pi2=0_0_0'; pf1=(0,0,1)\n",
    "    (a,b)=(0,0)\n",
    "\n",
    "    dat = [f[cfg+'/12/'+pi2Str+'/'+cont][:6,momDic[pf1],0,a*4+b] for cfg in f.keys()]\n",
    "    t=np.mean(dat,axis=0)\n",
    "    print(t)\n",
    "    print()\n",
    "\n",
    "    (a,b)=(1,1)\n",
    "    dat = [f[cfg+'/12/'+pi2Str+'/'+cont][:6,momDic[pf1],0,a*4+b] for cfg in f.keys()]\n",
    "    t=np.mean(dat,axis=0)\n",
    "    print(t)"
   ]
  }
 ],
 "metadata": {
  "kernelspec": {
   "display_name": "Python 3",
   "language": "python",
   "name": "python3"
  },
  "language_info": {
   "codemirror_mode": {
    "name": "ipython",
    "version": 3
   },
   "file_extension": ".py",
   "mimetype": "text/x-python",
   "name": "python",
   "nbconvert_exporter": "python",
   "pygments_lexer": "ipython3",
   "version": "3.6.8"
  },
  "orig_nbformat": 4
 },
 "nbformat": 4,
 "nbformat_minor": 2
}
