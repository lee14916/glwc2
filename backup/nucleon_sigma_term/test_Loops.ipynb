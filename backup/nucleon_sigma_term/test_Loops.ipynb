{
 "cells": [
  {
   "cell_type": "code",
   "execution_count": null,
   "metadata": {},
   "outputs": [],
   "source": [
    "# %load_ext autoreload\n",
    "# %autoreload 2\n",
    "\n",
    "import os,sys\n",
    "import h5py  \n",
    "import numpy as np\n",
    "import math,cmath\n",
    "from matplotlib.backends.backend_pdf import PdfPages\n",
    "from scipy.optimize import curve_fit\n",
    "import matplotlib as mpl\n",
    "import matplotlib.pyplot as plt\n",
    "mpl.rcParams['figure.facecolor'] = 'white'\n",
    "mpl.rcParams.update({\"axes.grid\" : True})\n",
    "\n",
    "if not os.path.abspath('../util') in sys.path:\n",
    "    sys.path.append(os.path.abspath('../util'))\n",
    "import util as yu\n",
    "\n",
    "ens='cA211.53.24'\n",
    "lat=yu.LatticeEnsemble(ens)"
   ]
  },
  {
   "cell_type": "code",
   "execution_count": null,
   "metadata": {},
   "outputs": [],
   "source": [
    "path='/p/project/pines/li47/code/projectData/discNJN/cC211.06.80/data_post/0104_r1/N.h5_twop_nucl_srcs650'\n",
    "with h5py.File(path) as f:\n",
    "    moms=f['mvec']\n",
    "    momDic={}\n",
    "    for i,mom in enumerate(moms):\n",
    "        momDic[tuple(mom[:3])]=i\n",
    "\n",
    "    print(f['data'].keys())\n",
    "\n",
    "    src='sx0sy14sz18st123'\n",
    "    \n",
    "    print(f['data'][src]['N1,N1'][:6,momDic[(0,0,1)],0])\n",
    "\n",
    "    print(f['data'][src]['N1,N1'][:6,momDic[(0,0,-1)],0])\n",
    "\n",
    "    print(f['data'][src]['N1,N1'][:6,momDic[(0,1,0)],0])\n",
    "\n",
    "    print(f['data'][src]['N1,N1'][:6,momDic[(1,0,0)],0])"
   ]
  },
  {
   "cell_type": "code",
   "execution_count": null,
   "metadata": {},
   "outputs": [],
   "source": [
    "path='/p/project/pines/li47/code/projectData/discNJN/cD211.054.96/data_post/0004_r0/N.h5_twop_129srcs'\n",
    "with h5py.File(path) as f:\n",
    "    moms=f['mvec']\n",
    "    momDic={}\n",
    "    for i,mom in enumerate(moms):\n",
    "        momDic[tuple(mom[:3])]=i\n",
    "    \n",
    "    print(f['data']['sx10sy13sz71st93']['N1,N1'][:6,momDic[(0,0,1)],0])\n",
    "\n",
    "    print(f['data']['sx10sy13sz71st93']['N1,N1'][:6,momDic[(0,0,-1)],0])\n",
    "\n",
    "    print(f['data']['sx10sy13sz71st93']['N1,N1'][:6,momDic[(0,1,0)],0])\n",
    "\n",
    "    print(f['data']['sx10sy13sz71st93']['N1,N1'][:6,momDic[(1,0,0)],0])"
   ]
  },
  {
   "cell_type": "code",
   "execution_count": null,
   "metadata": {},
   "outputs": [],
   "source": [
    "path='/project/s1174/lyan/code/projectData/nucleon_sigma_term/cA211.53.24/NJNpi_GEVP/templateFiles/templateMomList.h5'\n",
    "with h5py.File(path) as f:\n",
    "    momList=f['D1ii'][()]\n",
    "    print(momList.shape)\n",
    "\n",
    "momDic={}\n",
    "for i,ele in enumerate(momList[:,3:]):\n",
    "    momDic[tuple(ele)]=i\n",
    "\n",
    "momD1ii=momDic[tuple([0,0,0,0,0,1])]"
   ]
  },
  {
   "cell_type": "code",
   "execution_count": null,
   "metadata": {},
   "outputs": [],
   "source": [
    "# PLEGMA output\n",
    "path='/project/s1174/lyan/code/scratch/run/nucleon_sigma_term/cA211.53.24/QuarkLoops_pi0_insertion/data_out/0000/'\n",
    "\n",
    "src='sx00sy00sz00st00'; mom=13; Gc=5\n",
    "pi2Str='pi2=0_0_0'\n",
    "\n",
    "with h5py.File(path+'Diagram0000_pi0Loop.h5') as f:\n",
    "    print(f[src]['mvec'][mom])\n",
    "    print(f[src]['stoc1226512417id0_1']['up'][:10,mom,0])\n",
    "\n",
    "with h5py.File(path+'Diagram0000_insertLoop.h5') as f:\n",
    "    print(f[src]['mvec'][mom])\n",
    "    print(f[src]['stoc806304992id0_1']['up'][:10,mom,Gc])\n"
   ]
  },
  {
   "cell_type": "code",
   "execution_count": null,
   "metadata": {},
   "outputs": [],
   "source": [
    "# postProduction\n",
    "\n",
    "path='/project/s1174/lyan/code/projectData/nucleon_sigma_term/cA211.53.24/QuarkLoops_pi0_insertion/data_post/0000/'\n",
    "\n",
    "with h5py.File(path+'Diagram0000_pi0Loop.h5') as f:\n",
    "    print(-1j*f['0000']['pi0Loop'][:10,mom,0])\n",
    "\n",
    "with h5py.File(path+'Diagram0000_insertLoop.h5') as f:\n",
    "    print(f['0000']['u-d'][:10,mom,Gc])"
   ]
  },
  {
   "cell_type": "code",
   "execution_count": null,
   "metadata": {},
   "outputs": [],
   "source": [
    "# avg\n",
    "path='/project/s1174/lyan/code/projectData/nucleon_sigma_term/cA211.53.24/NJNpi_GEVP/avg-merge/'\n",
    "\n",
    "\n",
    "with h5py.File(path+'N_2pt-pi0i.h5') as f:\n",
    "    t = np.mean([-1j*f[cfg]['12'][pi2Str]['p_p'][:10,mom,0,0] for cfg in f.keys()],axis=0)\n",
    "    print(t) \n",
    "\n",
    "with h5py.File(path+'N_2pt-pi0f.h5') as f:\n",
    "    t = np.mean([-1j*f[cfg]['12']['pi2=0_0_0']['p_p'][:10,momD1ii,0,0]  for cfg in f.keys()],axis=0)\n",
    "    print(t)\n",
    "\n",
    "with h5py.File(path+'N_2pt-j.h5') as f:\n",
    "    t = np.mean([f[cfg]['p_p_j-_deltat_10'][:10,mom,Gc,0]  for cfg in f.keys()],axis=0)\n",
    "    print(t)"
   ]
  },
  {
   "cell_type": "code",
   "execution_count": null,
   "metadata": {},
   "outputs": [],
   "source": [
    "with h5py.File(path+'N_2pt-pi0i.h5') as f:\n",
    "    t = np.mean([f[cfg]['12'][pi2Str]['p_p'][:10,mom,0,0] for cfg in f.keys()],axis=0)\n",
    "    print(t)\n",
    "\n",
    "with h5py.File(path+'N_2pt-pi0f.h5') as f:\n",
    "    t = np.mean([f[cfg]['12']['pi2=0_0_0']['p_p'][:10,momD1ii,0,0]  for cfg in f.keys()],axis=0)\n",
    "    print(t)"
   ]
  }
 ],
 "metadata": {
  "kernelspec": {
   "display_name": "Python 3",
   "language": "python",
   "name": "python3"
  },
  "language_info": {
   "codemirror_mode": {
    "name": "ipython",
    "version": 3
   },
   "file_extension": ".py",
   "mimetype": "text/x-python",
   "name": "python",
   "nbconvert_exporter": "python",
   "pygments_lexer": "ipython3",
   "version": "3.6.8"
  },
  "orig_nbformat": 4
 },
 "nbformat": 4,
 "nbformat_minor": 2
}
