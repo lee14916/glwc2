{
 "cells": [
  {
   "cell_type": "code",
   "execution_count": null,
   "metadata": {},
   "outputs": [],
   "source": [
    "import os\n",
    "\n",
    "with open('cfgs_all','r') as f:\n",
    "    cfgs_all=f.read().splitlines()\n",
    "with open('cfgs_remove','r') as f:\n",
    "    cfgs_remove=f.read().splitlines()\n",
    "    cfgs_remove=[cfg[:5] for cfg in cfgs_remove]\n",
    "\n",
    "cfgs_run=[]\n",
    "for cfg in cfgs_all:\n",
    "    if cfg not in cfgs_remove:\n",
    "        cfgs_run.append(cfg)\n",
    "        \n",
    "with open('cfgs_run','w') as f:\n",
    "    f.write('\\n'.join(cfgs_run))\n",
    "    \n",
    "for cfg in cfgs_remove:\n",
    "    for base in os.listdir('../'):\n",
    "        if not base.startswith('data'):\n",
    "            continue\n",
    "        path='../'+base+'/'+cfg+'/'\n",
    "        if os.path.exists(path):\n",
    "            for file in os.listdir(path):\n",
    "                os.remove(path+file)\n",
    "            os.rmdir(path)"
   ]
  },
  {
   "cell_type": "code",
   "execution_count": null,
   "metadata": {},
   "outputs": [],
   "source": [
    "with open('cfgs_all', 'r') as f:\n",
    "    cfgs_all=f.read().splitlines()\n",
    "cfgs_run=list(os.listdir('../data_post'))\n",
    "    \n",
    "cfgs_delete=set(cfgs_all)-set(cfgs_run)\n",
    "cfgs_delete"
   ]
  }
 ],
 "metadata": {
  "kernelspec": {
   "display_name": "Python 3",
   "language": "python",
   "name": "python3"
  },
  "language_info": {
   "codemirror_mode": {
    "name": "ipython",
    "version": 3
   },
   "file_extension": ".py",
   "mimetype": "text/x-python",
   "name": "python",
   "nbconvert_exporter": "python",
   "pygments_lexer": "ipython3",
   "version": "3.6.15"
  }
 },
 "nbformat": 4,
 "nbformat_minor": 2
}
