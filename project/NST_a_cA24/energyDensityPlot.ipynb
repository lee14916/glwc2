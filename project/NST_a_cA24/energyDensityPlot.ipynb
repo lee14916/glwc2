{
 "cells": [
  {
   "cell_type": "code",
   "execution_count": 1,
   "metadata": {},
   "outputs": [],
   "source": [
    "%load_ext autoreload\n",
    "%autoreload 2\n",
    "\n",
    "import os,sys\n",
    "import h5py  \n",
    "import numpy as np\n",
    "import math,cmath\n",
    "from matplotlib.backends.backend_pdf import PdfPages\n",
    "from scipy.optimize import curve_fit\n",
    "import matplotlib as mpl\n",
    "import matplotlib.pyplot as plt\n",
    "mpl.style.use('default')\n",
    "mpl.rcParams['figure.facecolor'] = 'white'\n",
    "mpl.rcParams['figure.titlesize'] = 20\n",
    "mpl.rcParams['figure.figsize'] = [6.4*1.2,4.8*1.2]\n",
    "mpl.rcParams['axes.labelsize'] = 30\n",
    "mpl.rcParams['axes.titlesize'] = 30\n",
    "mpl.rcParams['lines.marker'] = 's'\n",
    "mpl.rcParams['lines.linestyle'] = ''\n",
    "mpl.rcParams['lines.markersize'] = 12\n",
    "mpl.rcParams['errorbar.capsize'] = 12\n",
    "mpl.rcParams['xtick.labelsize'] = mpl.rcParams['ytick.labelsize'] = 22\n",
    "mpl.rcParams['legend.fontsize'] = 24\n",
    "\n",
    "mpl.rcParams.update({\"axes.grid\" : True})\n",
    "import util as yu\n",
    "\n",
    "yu.flag_fast=True\n"
   ]
  },
  {
   "cell_type": "code",
   "execution_count": 54,
   "metadata": {},
   "outputs": [],
   "source": [
    "pts=range(3+1)\n",
    "enss=['cA24','cA48']\n",
    "\n",
    "fig, axs = yu.getFigAxs(len(pts),2,sharex=True,sharey=True)\n",
    "yu.addRowHeader(axs,['n2_ptot={}'.format(pt) for pt in pts])\n",
    "yu.addColHeader(axs,enss)\n",
    "\n",
    "Npis=[\n",
    "    [(1,1),(2,2),(3,3)],\n",
    "    [(1,0),(0,1),(2,1),(1,2),(3,2),(2,3)],\n",
    "    [(2,0),(1,1),(0,2),(3,1),(1,3)],\n",
    "    [(3,0),(2,1),(1,2),(0,3)],\n",
    "]\n",
    "colors=['r','g','b','purple','cyan','orange']\n",
    "\n",
    "\n",
    "for irow,pt in enumerate(pts):\n",
    "    for icol,ens in enumerate(enss):\n",
    "        ensemble={'cA24':'cA211.530.24','cA48':'cA2.09.48'}[ens]\n",
    "        lat=yu.LatticeEnsemble(ensemble)\n",
    "        Ls=np.arange(2,5,0.1)\n",
    "        axs[irow,icol].axvline(x=lat.L, color='black', linestyle='-')\n",
    "        \n",
    "        E0=lat.getaEN(pt)*lat.aInv+[0]*len(Ls)\n",
    "        # print(pt,ens,E0)\n",
    "        axs[irow,icol].plot(Ls,E0,'-',color='black')\n",
    "        \n",
    "        for iLvl,Npi in enumerate(Npis[pt]):\n",
    "            (n2_N,n2_pi)=Npi\n",
    "            En=[(np.sqrt(lat.mN**2+((2*math.pi)/(L*lat.hbarc))**2*n2_N)+np.sqrt(lat.mpi**2+((2*math.pi)/(L*lat.hbarc))**2*n2_pi))  for L in Ls]\n",
    "            axs[irow,icol].plot(Ls,En,'-',color=colors[iLvl])\n",
    "         \n",
    "plt.savefig('fig/En.pdf')\n",
    "plt.close()\n",
    "    "
   ]
  }
 ],
 "metadata": {
  "kernelspec": {
   "display_name": ".venv",
   "language": "python",
   "name": "python3"
  },
  "language_info": {
   "codemirror_mode": {
    "name": "ipython",
    "version": 3
   },
   "file_extension": ".py",
   "mimetype": "text/x-python",
   "name": "python",
   "nbconvert_exporter": "python",
   "pygments_lexer": "ipython3",
   "version": "3.9.12"
  }
 },
 "nbformat": 4,
 "nbformat_minor": 2
}
