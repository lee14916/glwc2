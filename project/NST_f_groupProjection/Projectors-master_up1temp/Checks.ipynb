{
 "cells": [
  {
   "cell_type": "code",
   "execution_count": 1,
   "metadata": {},
   "outputs": [],
   "source": [
    "%load_ext autoreload\n",
    "%autoreload 2"
   ]
  },
  {
   "cell_type": "code",
   "execution_count": 2,
   "metadata": {},
   "outputs": [],
   "source": [
    "import numpy as np\n",
    "import pandas as pd\n",
    "import sys,os,re\n",
    "import sympy as sp\n",
    "import math\n",
    "from itertools import product"
   ]
  },
  {
   "cell_type": "code",
   "execution_count": 15,
   "metadata": {},
   "outputs": [],
   "source": [
    "from Groups import GroupOhD, NUM_ELEMENTS\n",
    "from Functions import extract_repr, rec_dd\n",
    "from Init import init_S, init_R, init_G"
   ]
  },
  {
   "cell_type": "code",
   "execution_count": 9,
   "metadata": {},
   "outputs": [],
   "source": [
    "#initialize group\n",
    "group_2Oh = GroupOhD()\n",
    "\n",
    "#spin1212 matrix\n",
    "S = extract_repr( group_2Oh, init_S )\n",
    "\n",
    "#spin1 matrix\n",
    "Rot3d = extract_repr( group_2Oh, init_R )\n",
    "\n",
    "#irrep G1g\n",
    "Gamma = extract_repr( group_2Oh, init_G['2Oh']['G1g'] )"
   ]
  },
  {
   "cell_type": "markdown",
   "metadata": {},
   "source": [
    "# Check 1: Elements in $O_h^D$"
   ]
  },
  {
   "cell_type": "markdown",
   "metadata": {},
   "source": [
    "A map between the convention used in Basak paper (hep-lat/0506029) and the numeration from Bernard paper (0806.4495) can be found in NUM_ELEMENTS for all the proper rotations."
   ]
  },
  {
   "cell_type": "code",
   "execution_count": 3,
   "metadata": {},
   "outputs": [],
   "source": [
    "### Read F output #\n",
    "###################\n",
    "\n",
    "def read_showline(line):\n",
    "    if re.match(\"(\\w+)_(\\w+) <- list\\(\\)\",line):\n",
    "        return None\n",
    "    head = r\"r\\w*_\\w+\\[\\[\\s*(\\d+)\\]\\] <- array\\(dim = c\\((\\d+)\\s*,\\s*(\\d+)\\)\\)\"\n",
    "    normalline = r\"r\\w*_\\w+\\[\\[\\s*(\\d+)\\]\\]\\[(\\d+),(\\d+)\\] <-\\s+(.+) \\+\\s+(.+)\\*1\\.i\"\n",
    "\n",
    "    obj_m = re.match(head,line)\n",
    "    if obj_m:\n",
    "        key, dim_r, dim_c = obj_m.groups()\n",
    "        return key, dim_r, dim_c# \n",
    "    else:\n",
    "        obj_m = re.match(normalline,line)\n",
    "        if obj_m:\n",
    "            key, dim_r, dim_c, n_re, n_im = obj_m.groups()\n",
    "            return key, dim_r, dim_c, n_re, n_im\n",
    "        else:\n",
    "            print(line,'not recognized')\n",
    "            return None"
   ]
  },
  {
   "cell_type": "code",
   "execution_count": 4,
   "metadata": {},
   "outputs": [
    {
     "name": "stdout",
     "output_type": "stream",
     "text": [
      "skip line  0\n",
      "skip line  0\n",
      "skip line  0\n",
      "skip line  0\n",
      "skip line  0\n",
      "skip line  0\n"
     ]
    }
   ],
   "source": [
    "## read matrix from Ferenc output\n",
    "file_matrix='little_group_projector_0.show'\n",
    "\n",
    "R_F = {}\n",
    "S_F = {}\n",
    "G_F = {}\n",
    "for lab in ['R','IR']:\n",
    "    #select only rotations (not IR)\n",
    "    !grep rp_$lab $file_matrix >> tmp_R.show\n",
    "    !grep rspin0_$lab $file_matrix >> tmp_S.show\n",
    "    !grep rtarget_$lab $file_matrix >> tmp_G.show\n",
    "    \n",
    "    for _file,_dict in zip(['tmp_R.show','tmp_S.show','tmp_G.show'],[R_F,S_F,G_F]):\n",
    "        _dict[lab] = {}\n",
    "        \n",
    "\n",
    "        #read lines\n",
    "        with open(_file,'r') as reader:\n",
    "            for iline,line in enumerate(reader.readlines()):\n",
    "                out = read_showline(line)\n",
    "                if out is None:\n",
    "                    print('skip line ',iline)\n",
    "                    continue\n",
    "                elif len(out)==3:\n",
    "                    k, dr, dc = out\n",
    "                    assert(k not in _dict[lab]),k+' line %d: '%(iline)+str(line)\n",
    "                    _dict[lab][k] = np.empty((int(dr),int(dc)),dtype=np.complex)\n",
    "                else:\n",
    "                    k, i, j, vre, vim = out\n",
    "                    _dict[lab][k][int(i)-1,int(j)-1] = float(vre) +1j*float(vim)\n",
    "        #delete tmp file\n",
    "        !rm $_file\n",
    "        #convert to sympy matrices\n",
    "        _dict[lab] = { k:(sp.Matrix(x)).applyfunc(sp.nsimplify) for k,x in _dict[lab].items()}"
   ]
  },
  {
   "cell_type": "code",
   "execution_count": 12,
   "metadata": {},
   "outputs": [],
   "source": [
    "#check R 3x3 (spin 1)\n",
    "for R_name, R_number in NUM_ELEMENTS.items(): #elements of double-cover of Oh without inversion\n",
    "    #R\n",
    "    assert(Rot3d[R_name]==R_F['R'][str(R_number)]),R_name+' differs'\n",
    "    \n",
    "    #IR\n",
    "    IR_name = 'I_s'+R_name\n",
    "    assert(Rot3d[IR_name]==R_F['IR'][str(R_number)]),IR_name+' differs'"
   ]
  },
  {
   "cell_type": "code",
   "execution_count": 13,
   "metadata": {},
   "outputs": [],
   "source": [
    "#check S 4x4 (spin1212)\n",
    "for R_name, R_number in NUM_ELEMENTS.items(): #elements of double-cover of Oh without inversion\n",
    "    #R\n",
    "    assert(S[R_name]==S_F['R'][str(R_number)]),R_name+' differs'\n",
    "    \n",
    "    #IR\n",
    "    IR_name = 'I_s'+R_name\n",
    "    assert((S[IR_name]).applyfunc(sp.nsimplify)==S_F['IR'][str(R_number)]),IR_name+' differs'"
   ]
  },
  {
   "cell_type": "code",
   "execution_count": 14,
   "metadata": {},
   "outputs": [],
   "source": [
    "#check G 2x2 (G1g irrep)\n",
    "for R_name, R_number in NUM_ELEMENTS.items(): #elements of double-cover of Oh without inversion\n",
    "    #R\n",
    "    assert((Gamma[R_name]).applyfunc(sp.nsimplify)==G_F['R'][str(R_number)]),R_name+' differs'\n",
    "    \n",
    "    #IR\n",
    "    IR_name = 'I_s'+R_name\n",
    "    assert((Gamma[IR_name]).applyfunc(sp.nsimplify)==G_F['IR'][str(R_number)]),IR_name+' differs'"
   ]
  },
  {
   "cell_type": "markdown",
   "metadata": {},
   "source": [
    "# Check 2: check Delta coeff with Marcus out"
   ]
  },
  {
   "cell_type": "code",
   "execution_count": 17,
   "metadata": {},
   "outputs": [],
   "source": [
    "def readoutMarcus(line):\n",
    "    header=\"# \\[\\w+\\] lg\\s+(\\w+)\\sirrep\\s+(\\w+) mu\\s+(\\d+) beta\\s+(\\d+)\"\n",
    "    normalline=\"annihilation (.+)\\s+(\\d+)\\s+(\\d+)\\s+(\\d+)\\s+(\\d+)\\s+(.+)\\s+(.+)\"\n",
    "    obj_m = re.match(header,line)\n",
    "    if obj_m:\n",
    "        lg, irrep, mu, beta = obj_m.groups()\n",
    "        return lg, irrep, int(mu), int(beta), None\n",
    "    else:\n",
    "        obj_m = re.match(normalline,line)\n",
    "        if obj_m:\n",
    "            _type, ig, _is, jg, js, vre, vim = obj_m.groups()\n",
    "            vre=0 if abs(float(vre))<1e-12 else float(vre)\n",
    "            vim=0 if abs(float(vim))<1e-12 else float(vim)\n",
    "            return _type, int(ig)*4+int(_is), int(jg)*4+int(js), vre+1j*vim\n",
    "        else:\n",
    "            return None"
   ]
  },
  {
   "cell_type": "code",
   "execution_count": 18,
   "metadata": {},
   "outputs": [],
   "source": [
    "Marcus_p = rec_dd()\n",
    "\n",
    "for iline,line in enumerate(open('out','r').readlines()):\n",
    "    content = readoutMarcus(line)\n",
    "    if content is None:\n",
    "        continue\n",
    "    elif len(content)==5:\n",
    "        lg, irrep, mu, beta, _ = content\n",
    "#         print(iline,'--',mu,beta)\n",
    "        Marcus_p[lg][irrep]['%d%d'%(mu,beta)]['P'] = sp.zeros(12,dtype=complex) \n",
    "        Marcus_p[lg][irrep]['%d%d'%(mu,beta)]['P_ONB'] = sp.zeros(12,dtype=complex) \n",
    "        Marcus_p[lg][irrep]['%d%d'%(mu,beta)]['R_ONB'] = sp.zeros(12,dtype=complex) \n",
    "        writer = Marcus_p[lg][irrep]['%d%d'%(mu,beta)] \n",
    "    elif len(content)==4:\n",
    "#         print('data')\n",
    "        _type, i, j, val = content\n",
    "        _type = '_'.join(_type.split())\n",
    "        writer[_type][i,j] = val\n",
    "Marcus_p = Marcus_p.todict()"
   ]
  }
 ],
 "metadata": {
  "kernelspec": {
   "display_name": "Python 3",
   "language": "python",
   "name": "python3"
  },
  "language_info": {
   "codemirror_mode": {
    "name": "ipython",
    "version": 3
   },
   "file_extension": ".py",
   "mimetype": "text/x-python",
   "name": "python",
   "nbconvert_exporter": "python",
   "pygments_lexer": "ipython3",
   "version": "3.8.3"
  }
 },
 "nbformat": 4,
 "nbformat_minor": 4
}
