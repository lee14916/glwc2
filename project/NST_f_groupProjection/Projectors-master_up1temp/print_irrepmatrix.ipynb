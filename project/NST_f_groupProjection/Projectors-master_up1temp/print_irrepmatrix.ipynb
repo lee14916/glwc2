{
 "cells": [
  {
   "cell_type": "code",
   "execution_count": null,
   "metadata": {},
   "outputs": [],
   "source": [
    "%load_ext autoreload\n",
    "%autoreload 2"
   ]
  },
  {
   "cell_type": "code",
   "execution_count": 12,
   "metadata": {},
   "outputs": [
    {
     "name": "stdout",
     "output_type": "stream",
     "text": [
      "The autoreload extension is already loaded. To reload it, use:\n",
      "  %reload_ext autoreload\n"
     ]
    }
   ],
   "source": [
    "import numpy as np\n",
    "import sympy as sp\n",
    "from itertools import product\n",
    "\n",
    "from Init import init_S, init_R, init_G\n",
    "from Groups import GroupOhD, NUM_ELEMENTS \n",
    "from Functions import *"
   ]
  },
  {
   "cell_type": "markdown",
   "metadata": {},
   "source": [
    "## Constants"
   ]
  },
  {
   "cell_type": "code",
   "execution_count": 2,
   "metadata": {},
   "outputs": [],
   "source": [
    "IRREPS  = {'2Oh' : ['G1g','G1u','Hg','Hu'],\n",
    "           '2C4v': ['G1','G2'],\n",
    "           '2C2v': ['G'],\n",
    "           '2C3v': ['G','F1','F2']}\n",
    "PREFS   = {'2Oh' : (0,0,0), \n",
    "           '2C4v': list(init_G['2C4v'].keys())[0], #0,0,1\n",
    "           '2C2v': list(init_G['2C2v'].keys())[0], #0,1,1\n",
    "           '2C3v': list(init_G['2C3v'].keys())[0],}#1,1,1"
   ]
  },
  {
   "cell_type": "markdown",
   "metadata": {},
   "source": [
    "## Matrix representations"
   ]
  },
  {
   "cell_type": "code",
   "execution_count": 3,
   "metadata": {},
   "outputs": [],
   "source": [
    "#initialize group\n",
    "group_2Oh = GroupOhD()\n",
    "\n",
    "#spin1212 matrix\n",
    "S = extract_repr(group_2Oh,init_S)\n",
    "\n",
    "#spin1 matrix\n",
    "Rot3d = extract_repr(group_2Oh,init_R)"
   ]
  },
  {
   "cell_type": "markdown",
   "metadata": {},
   "source": [
    "### Irrep matrix"
   ]
  },
  {
   "cell_type": "code",
   "execution_count": 4,
   "metadata": {},
   "outputs": [],
   "source": [
    "#irreps 2Oh\n",
    "irrep_2Oh  = { I : extract_repr(group_2Oh,init_G['2Oh'][I]) for I in IRREPS['2Oh']}\n",
    "\n",
    "#irreps 2C4v\n",
    "group_2C4v = group_2Oh.little_group(Rot3d,sp.Matrix(PREFS['2C4v']))\n",
    "irrep_2C4v = { I : extract_repr(group_2C4v,init_G['2C4v'][PREFS['2C4v']][I]) for I in IRREPS['2C4v']}\n",
    "\n",
    "#irreps 2C3v\n",
    "group_2C3v = group_2Oh.little_group(Rot3d,sp.Matrix(PREFS['2C3v']))\n",
    "irrep_2C3v = { I : extract_repr(group_2C3v,init_G['2C3v'][PREFS['2C3v']][I]) for I in IRREPS['2C3v']}\n",
    "\n",
    "#irreps 2C2v\n",
    "group_2C2v = group_2Oh.little_group(Rot3d,sp.Matrix(PREFS['2C2v']))\n",
    "irrep_2C2v = { I : extract_repr(group_2C2v,init_G['2C2v'][PREFS['2C2v']][I]) for I in IRREPS['2C2v']}"
   ]
  },
  {
   "cell_type": "code",
   "execution_count": 31,
   "metadata": {},
   "outputs": [],
   "source": [
    "irrepsG    = { '2Oh':irrep_2Oh, '2C4v':irrep_2C4v, '2C3v':irrep_2C3v, '2C2v':irrep_2C2v }\n",
    "GROUPS     = { '2Oh':group_2Oh, '2C4v':group_2C4v, '2C3v':group_2C3v, '2C2v':group_2C2v }"
   ]
  },
  {
   "cell_type": "markdown",
   "metadata": {},
   "source": [
    "## Print irrepsG"
   ]
  },
  {
   "cell_type": "code",
   "execution_count": 62,
   "metadata": {},
   "outputs": [],
   "source": [
    "tofile={}\n",
    "listR = sorted(NUM_ELEMENTS,key=lambda x:NUM_ELEMENTS[x])\n",
    "\n",
    "#for each group\n",
    "for G, Ilist in IRREPS.items():\n",
    "    #for each irrep\n",
    "    for I in Ilist:\n",
    "        #first line\n",
    "        tofile[(G,I)]=[r'# rot_mat_table group '+G+'\\tirrep '+I+'\\tptot '+'_'.join(map(str,PREFS[G]))+'\\tsize'+str(irrepsG[G][I]['E'].shape)]\n",
    "        iR=0\n",
    "        #for element in double cover of cubic group (no I)\n",
    "        for Rname in listR:\n",
    "            #if element non in little group, skip\n",
    "            if Rname not in GROUPS[G].list_elements():\n",
    "                continue\n",
    "            #number convention used in Marcus code. dictionary\n",
    "            Rnum = NUM_ELEMENTS[Rname]\n",
    "            irlab= 'R'\n",
    "            # R $Rnum\n",
    "            tofile[(G,I)].append('# [rot_mat_table] '+irlab+' %d'%(Rnum-1))\n",
    "            #print each element\n",
    "            for irow,row in enumerate(irrepsG[G][I][Rname].tolist()):\n",
    "                for jcol, col in enumerate(row):\n",
    "                    entry = complex(col)\n",
    "                    re_e, im_e = entry.real, entry.imag\n",
    "                    tofile[(G,I)].append(\"rot_mat_table_\"+irlab+\"[[%2d]][%d,%d] <-\\t%.16e +\\t%.16e*1.i\"%(iR+1,irow+1,jcol+1,re_e,im_e))\n",
    "            #append space for readibility\n",
    "            tofile[(G,I)].append(\" \")\n",
    "            #increment counter \n",
    "            iR+=1\n",
    "        iR=0\n",
    "        \n",
    "        #the same for I+R\n",
    "        for Rname in listR:\n",
    "            if 'I_s'+Rname not in GROUPS[G].list_elements():\n",
    "                continue\n",
    "            Rnum = NUM_ELEMENTS[Rname]\n",
    "            irlab= 'IR'\n",
    "            tofile[(G,I)].append('# [rot_mat_table] '+irlab+' %d'%(Rnum-1))\n",
    "            for irow,row in enumerate(irrepsG[G][I]['I_s'+Rname].tolist()):\n",
    "                for jcol, col in enumerate(row):\n",
    "                    entry = complex(col)\n",
    "                    re_e, im_e = entry.real, entry.imag\n",
    "                    tofile[(G,I)].append(\"rot_mat_table_\"+irlab+\"[[%2d]][%d,%d] <-\\t%.16e +\\t%.16e*1.i\"%(iR+1,irow+1,jcol+1,re_e,im_e))\n",
    "            tofile[(G,I)].append(\" \")\n",
    "            iR+=1\n",
    "            "
   ]
  },
  {
   "cell_type": "code",
   "execution_count": 63,
   "metadata": {},
   "outputs": [],
   "source": [
    "for (G,I), filecontent in tofile.items():\n",
    "    with open('rot_mat_table_'+G+'_'+I+'_p'+'_'.join(map(str,PREFS[G]))+'.txt','w') as writer:\n",
    "        for line in tofile[(G,I)]:\n",
    "            writer.write(line+'\\n')"
   ]
  }
 ],
 "metadata": {
  "kernelspec": {
   "display_name": "Python 3",
   "language": "python",
   "name": "python3"
  },
  "language_info": {
   "codemirror_mode": {
    "name": "ipython",
    "version": 3
   },
   "file_extension": ".py",
   "mimetype": "text/x-python",
   "name": "python",
   "nbconvert_exporter": "python",
   "pygments_lexer": "ipython3",
   "version": "3.8.3"
  }
 },
 "nbformat": 4,
 "nbformat_minor": 4
}
