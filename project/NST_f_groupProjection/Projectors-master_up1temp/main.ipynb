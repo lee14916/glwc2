{
 "cells": [
  {
   "cell_type": "code",
   "execution_count": 1,
   "metadata": {},
   "outputs": [],
   "source": [
    "%load_ext autoreload\n",
    "%autoreload 2\n",
    "\n",
    "import numpy as np\n",
    "import sympy as sp\n",
    "from itertools import product\n",
    "\n",
    "from Init import init_S, init_R, init_G\n",
    "from Groups import GroupOhD\n",
    "from Functions import *\n",
    "from Interpolators import momenta_1p,  momenta_2p, interpolator_1p, interpolator_2p, computeR\n",
    "\n",
    "\n",
    "#====constants\n",
    "\n",
    "IRREPS  = {'2Oh' : ['G1g','G1u','Hg','Hu'],\n",
    "           '2C4v': ['G1','G2'],\n",
    "           '2C2v': ['G'],\n",
    "           '2C3v': ['G','F1','F2']}\n",
    "IRREPS  = {'2Oh' : ['G1g','G1u','Hg','Hu'],\n",
    "           '2C4v': ['G1','G2'],\n",
    "           '2C2v': [],\n",
    "           '2C3v': []}\n",
    "PREFS   = {'2Oh' : (0,0,0), \n",
    "           '2C4v': list(init_G['2C4v'].keys())[0], #0,0,1\n",
    "           '2C2v': list(init_G['2C2v'].keys())[0], #0,1,1\n",
    "           '2C3v': list(init_G['2C3v'].keys())[0],}#1,1,1\n",
    "\n",
    "#====Matrix representations\n",
    "\n",
    "#initialize group\n",
    "group_2Oh = GroupOhD()\n",
    "\n",
    "#spin1212 matrix\n",
    "S = extract_repr(group_2Oh,init_S)\n",
    "\n",
    "#spin1 matrix\n",
    "Rot3d = extract_repr(group_2Oh,init_R)\n",
    "\n",
    "#==== Irrep matrix\n",
    "\n",
    "#irreps 2Oh\n",
    "irrep_2Oh  = { I : extract_repr(group_2Oh,init_G['2Oh'][I]) for I in IRREPS['2Oh']}\n",
    "\n",
    "#irreps 2C4v\n",
    "group_2C4v = group_2Oh.little_group(Rot3d,sp.Matrix(PREFS['2C4v']))\n",
    "irrep_2C4v = { I : extract_repr(group_2C4v,init_G['2C4v'][PREFS['2C4v']][I]) for I in IRREPS['2C4v']}\n",
    "\n",
    "#irreps 2C3v\n",
    "group_2C3v = group_2Oh.little_group(Rot3d,sp.Matrix(PREFS['2C3v']))\n",
    "irrep_2C3v = { I : extract_repr(group_2C3v,init_G['2C3v'][PREFS['2C3v']][I]) for I in IRREPS['2C3v']}\n",
    "\n",
    "#irreps 2C2v\n",
    "group_2C2v = group_2Oh.little_group(Rot3d,sp.Matrix(PREFS['2C2v']))\n",
    "irrep_2C2v = { I : extract_repr(group_2C2v,init_G['2C2v'][PREFS['2C2v']][I]) for I in IRREPS['2C2v']}\n",
    "\n",
    "# other_PREFS = { G:compute_otherPref( PREFS[G], Rot3d ) for G in ['2C4v','2C3v','2C2v']}\n",
    "# other_PREFS['2Oh'] = {}\n",
    "other_PREFS = { '2Oh' :{},\n",
    "               '2C4v':{(0,0,-1):'C_2a',\n",
    "                       (0,-1,0):'C_4x',\n",
    "                       (0,1,0):'C_4x^i',\n",
    "                       (1,0,0) :'C_4y',\n",
    "                       (-1,0,0) :'C_4y^i', },\n",
    "              '2C2v':{(0,1,-1):'C_4x^i',\n",
    "                      (0,-1,1):'C_4x',\n",
    "                      (0,-1,-1):'C_2f',\n",
    "                      \n",
    "                      (1,0,1) :'C_4z^i',\n",
    "                      (-1,0,-1):'C_2b',\n",
    "                      (1,0,-1):'C_2a',\n",
    "                      (-1,0,1) :'C_4z',\n",
    "                      \n",
    "                      (1,1,0) :'C_4y',\n",
    "                      (-1,-1,0) :'C_2d',\n",
    "                      (1,-1,0):'C_2c',\n",
    "                      (-1,1,0):'C_4y^i'},\n",
    "              '2C3v':{(1,1,-1) :'C_4y',\n",
    "                     (1,-1,1) :'C_4x',\n",
    "                     (-1,1,1):'C_4y^i',\n",
    "                     (1,-1,-1):'C_2x',\n",
    "                     (-1,1,-1):'C_2y',\n",
    "                     (-1,-1,1):'C_2z',\n",
    "                     (-1,-1,-1):'C_2b',\n",
    "                     }}\n",
    "\n",
    "other_PREFS = { '2Oh' :{},\n",
    "               '2C4v':{(0,0,-1):'C_2y',\n",
    "                       (0,-1,0):'C_4x',\n",
    "                       (0,1,0):'C_4x^i',\n",
    "                       (1,0,0) :'C_4y',\n",
    "                       (-1,0,0) :'C_4y^i', },\n",
    "               }\n",
    "\n",
    "GROUPS      = { '2Oh':group_2Oh, '2C4v':group_2C4v, '2C3v':group_2C3v, '2C2v':group_2C2v }\n",
    "irrepsG     = { '2Oh':irrep_2Oh, '2C4v':irrep_2C4v, '2C3v':irrep_2C3v, '2C2v':irrep_2C2v }"
   ]
  },
  {
   "attachments": {},
   "cell_type": "markdown",
   "metadata": {},
   "source": [
    "## Interpolators"
   ]
  },
  {
   "attachments": {},
   "cell_type": "markdown",
   "metadata": {},
   "source": [
    "* Delta interpolator:\n",
    "$$\\text{snk}\\qquad\\Delta^i_\\gamma(x) \\propto \\epsilon_{abc}\\;\\;q^{1,T}_{a\\alpha}(x)\\: (\\Gamma^{\\Delta}_i)_{\\alpha\\beta}\\: q^2_{b\\beta}(x)\\;\\; q^3_{c\\gamma}(x) $$\n",
    "$$\\text{src}\\qquad\\bar{\\Delta}^i_\\gamma(x) \\propto \\epsilon_{abc}\\;\\;\\bar{q}^{2,T}_{a\\alpha}(x)\\: (\\bar{\\Gamma}^{\\Delta}_i)_{\\alpha\\beta}\\: \\bar{q}^1_{b\\beta}(x)\\;\\; \\bar{q}^3_{c\\gamma}(x) $$"
   ]
  },
  {
   "attachments": {},
   "cell_type": "markdown",
   "metadata": {},
   "source": [
    "* Nucleon interpolator:\n",
    "$$\\text{snk}\\qquad N_\\gamma(x) \\propto \\epsilon_{abc}\\;\\;q^{1,T}_{a\\alpha}(x)\\: (\\Gamma^{N})_{\\alpha\\beta}\\: q^2_{b\\beta}(x)\\;\\; q^3_{c\\gamma}(x) $$\n",
    "$$\\text{src}\\qquad\\bar{N}_\\gamma(x) \\propto \\epsilon_{abc}\\;\\;\\bar{q}^{2,T}_{a\\alpha}(x)\\: (\\bar{\\Gamma}^{N})_{\\alpha\\beta}\\: \\bar{q}^1_{b\\beta}(x)\\;\\; \\bar{q}^3_{c\\gamma}(x) $$"
   ]
  },
  {
   "attachments": {},
   "cell_type": "markdown",
   "metadata": {},
   "source": [
    "* Meson interpolator:\n",
    "$$\\text{snk}\\qquad\\Pi(x) \\propto \\bar{q}^{1}_{a\\alpha}(x)\\: (\\Gamma^{\\Pi})_{\\alpha\\beta}\\: q^2_{a\\beta}(x) $$\n",
    "$$\\text{src}\\qquad\\bar{\\Pi}(x) \\propto \\bar{q}^{2}_{a\\alpha}(x)\\: (\\bar{\\Gamma}^{\\Pi})_{\\alpha\\beta}\\: q^1_{a\\beta}(x) $$\n",
    "up to minus signs coming from the adjoint, and where $\\bar{\\Gamma}=\\gamma_4\\Gamma^{\\dagger}\\gamma_4$"
   ]
  },
  {
   "cell_type": "code",
   "execution_count": 8,
   "metadata": {},
   "outputs": [
    {
     "name": "stdout",
     "output_type": "stream",
     "text": [
      "dict_keys(['C_4y', 'C_4z', 'I_sE', 'C_2y', 'C_3delta', 'I_sC_4y', 'C_3gamma^i', 'C_2z', 'I_sC_4z', 'E', '\\\\bar{C}_4y^i', 'C_2a', 'I_sC_2y', 'C_2e', 'C_2c', 'I_sC_3delta', '\\\\bar{C}_2b', 'I_sC_3gamma^i', 'C_2d', '\\\\bar{C}_4z^i', 'I_sC_2z', '\\\\bar{E}', '\\\\bar{C}_3alfa', 'I_s\\\\bar{C}_4y^i', '\\\\bar{C}_3delta^i', 'C_2x', 'I_sC_2a', '\\\\bar{C}_3gamma', 'I_sC_2e', '\\\\bar{C}_3beta', 'I_sC_2c', '\\\\bar{C}_3beta^i', 'I_s\\\\bar{C}_2b', '\\\\bar{C}_2x', 'I_sC_2d', '\\\\bar{C}_3alfa^i', 'I_s\\\\bar{C}_4z^i', '\\\\bar{C}_4y', '\\\\bar{C}_4z', 'I_s\\\\bar{E}', '\\\\bar{C}_4x^i', '\\\\bar{C}_2d', 'I_s\\\\bar{C}_3alfa', 'I_s\\\\bar{C}_3delta^i', 'C_2b', 'I_sC_2x', '\\\\bar{C}_4x', 'I_s\\\\bar{C}_3gamma', '\\\\bar{C}_2f', 'I_s\\\\bar{C}_3beta', 'C_2f', 'I_s\\\\bar{C}_3beta^i', '\\\\bar{C}_2c', 'I_s\\\\bar{C}_2x', '\\\\bar{C}_2a', 'I_s\\\\bar{C}_3alfa^i', '\\\\bar{C}_2y', '\\\\bar{C}_3delta', 'I_s\\\\bar{C}_4y', '\\\\bar{C}_3gamma^i', '\\\\bar{C}_2z', 'I_s\\\\bar{C}_4z', 'I_s\\\\bar{C}_4x^i', 'C_3gamma', 'I_s\\\\bar{C}_2d', 'C_3beta^i', 'I_sC_2b', 'I_s\\\\bar{C}_4x', 'C_3alfa', 'I_s\\\\bar{C}_2f', 'C_3alfa^i', 'I_sC_2f', 'C_3beta', 'I_s\\\\bar{C}_2c', 'C_3delta^i', 'I_s\\\\bar{C}_2a', 'C_4y^i', 'I_s\\\\bar{C}_2y', '\\\\bar{C}_2e', 'I_s\\\\bar{C}_3delta', 'I_s\\\\bar{C}_3gamma^i', 'C_4z^i', 'I_s\\\\bar{C}_2z', 'C_4x', 'I_sC_3gamma', 'I_sC_3beta^i', 'C_4x^i', 'I_sC_3alfa', 'I_sC_3alfa^i', 'I_sC_3beta', 'I_sC_3delta^i', 'I_sC_4y^i', 'I_s\\\\bar{C}_2e', 'I_sC_4z^i', 'I_sC_4x', 'I_sC_4x^i'])\n"
     ]
    },
    {
     "data": {
      "text/latex": [
       "$\\displaystyle \\left[\\begin{matrix}\\frac{\\sqrt{2}}{2} - \\frac{\\sqrt{2} i}{2} & 0 & 0 & 0\\\\0 & \\frac{\\sqrt{2}}{2} + \\frac{\\sqrt{2} i}{2} & 0 & 0\\\\0 & 0 & \\frac{\\sqrt{2}}{2} - \\frac{\\sqrt{2} i}{2} & 0\\\\0 & 0 & 0 & \\frac{\\sqrt{2}}{2} + \\frac{\\sqrt{2} i}{2}\\end{matrix}\\right]$"
      ],
      "text/plain": [
       "Matrix([\n",
       "[sqrt(2)/2 - sqrt(2)*I/2,                       0,                       0,                       0],\n",
       "[                      0, sqrt(2)/2 + sqrt(2)*I/2,                       0,                       0],\n",
       "[                      0,                       0, sqrt(2)/2 - sqrt(2)*I/2,                       0],\n",
       "[                      0,                       0,                       0, sqrt(2)/2 + sqrt(2)*I/2]])"
      ]
     },
     "execution_count": 8,
     "metadata": {},
     "output_type": "execute_result"
    }
   ],
   "source": [
    "key='C_4z'\n",
    "# key='I_sC_2y'\n",
    "print(Rot3d.keys())\n",
    "Rot3d[key]\n",
    "S[key]\n"
   ]
  },
  {
   "cell_type": "code",
   "execution_count": 2,
   "metadata": {},
   "outputs": [],
   "source": [
    "#functions for describing how the spin1212 rep acts on \\Gamma of the interpolator.\n",
    "u_diquark = lambda x,y: (y*x*y.T).applyfunc(sp.nsimplify)     # y = S^-1 if snk, S^T if src\n",
    "u_meson   = lambda x,y: ((y.T**-1)*x*y.T).applyfunc(sp.nsimplify) # y = S^-1 \n",
    "# Yan: I don't think this is correct, but it is trivial for meson and nucleon cases. \n",
    "\n",
    "#interpolators at snk\n",
    "list_interpsD  = list_interps(['cg1','cg2','cg3'])\n",
    "list_interpsN  = list_interps(['cg5'])\n",
    "list_interpsP  = list_interps(['g5'])"
   ]
  },
  {
   "attachments": {},
   "cell_type": "markdown",
   "metadata": {},
   "source": [
    "## Compute coefficients"
   ]
  },
  {
   "cell_type": "code",
   "execution_count": 3,
   "metadata": {},
   "outputs": [
    {
     "name": "stdout",
     "output_type": "stream",
     "text": [
      "2Oh ['G1g', 'G1u', 'Hg', 'Hu']\n",
      "2C4v ['G1', 'G2']\n",
      "2C2v []\n",
      "2C3v []\n"
     ]
    }
   ],
   "source": [
    "def do_1p(name,interps, addtodict=None):\n",
    "    proj_N, coeff_N = rec_dd(), rec_dd()\n",
    "    output   = copy_dict(addtodict) if addtodict is not None else rec_dd()\n",
    "    printout = []\n",
    "    for LG,Ilist in IRREPS.items():\n",
    "        print(LG,Ilist)\n",
    "        # if LG != '2Oh':\n",
    "        #     continue\n",
    "        #p_ref\n",
    "        p0 = PREFS[LG]\n",
    "\n",
    "        #define 1p interpolator obj\n",
    "        nucleon = interpolator_1p(name,[list(p0),],'gs',interps)\n",
    "\n",
    "        #define U matrix for Nucleon\n",
    "        UN = { R:nucleon.Wt(Rot3d[R],S[R]**-1,f_i=u_diquark) for R in GROUPS[LG].list_elements() }\n",
    "        \n",
    "        #For  all the irreps\n",
    "        for I in Ilist:\n",
    "            # if I !='G1g':\n",
    "            #     continue\n",
    "            #compute coeff for p_ref\n",
    "            proj_N[LG][I][p0], coeff_N[LG][I][p0] = computeProjs(irrepsG[LG][I],UN,0)\n",
    "            #if zero, i.e. this irrep does not appear \n",
    "            if coeff_N[LG][I][p0]['l1']==sp.zeros(0,0):\n",
    "                del coeff_N[LG][I][p0]['l1']\n",
    "                del coeff_N[LG][I][p0]\n",
    "                del coeff_N[LG][I]\n",
    "                continue\n",
    "            #write in output for p_ref\n",
    "            for l in coeff_N[LG][I][p0]: \n",
    "                nsize = coeff_N[LG][I][p0][l].shape[0]\n",
    "                for n in range(nsize):\n",
    "                    repl    = chr(ord('`')+n+1)\n",
    "                    aux_str = 'out[%s][%s][%s][%s][%s]'%(LG,I,l,p0,repl)\n",
    "                    l_arr, l_str = add_out(coeff_N[LG][I][p0][l].row(n), interps['list'])\n",
    "                    for k,v in l_arr.items():\n",
    "                        output[LG][I][l][p0][repl][k]=v\n",
    "                    for s in l_str:\n",
    "                        printout.append(aux_str+s)\n",
    "                        \n",
    "            #compute coeffs for other p_refs\n",
    "            for p,Rprime in other_PREFS[LG].items():\n",
    "                psprime, UN_Rpr = nucleon.apply_outR( Rot3d[Rprime], S[Rprime]**-1, u_diquark )\n",
    "                #for each row\n",
    "                for r in coeff_N[LG][I][p0]:\n",
    "                    #not sure about that!!\n",
    "                    coeff_N[LG][I][p][r] = coeff_N[LG][I][p0][r]*UN_Rpr\n",
    "\n",
    "                    #write in output for p_ref\n",
    "                    nsize = coeff_N[LG][I][p][r].shape[0]\n",
    "                    for n in range(nsize):\n",
    "                        repl    = chr(ord('`')+n+1)\n",
    "                        aux_str = 'out[%s][%s][%s][%s][%s]'%(LG,I,r,p,repl)\n",
    "                        l_arr, l_str = add_out(coeff_N[LG][I][p][r].row(n), interps['list'])\n",
    "                        for k,v in l_arr.items():\n",
    "                            output[LG][I][r][p][repl][k]=v\n",
    "                        for s in l_str:\n",
    "                            printout.append(aux_str+s)\n",
    "           \n",
    "    proj_N  = proj_N.todict()\n",
    "    coeff_N = coeff_N.todict()\n",
    "    if addtodict is None:\n",
    "        output = output.todict()\n",
    "    return proj_N, coeff_N, output, printout\n",
    "\n",
    "proj_N, coeff_N, ctosave, printout = do_1p('N',list_interpsN)\n",
    "#same also for ['cg5g4']\n",
    "ctosave_1 = dict_repl(ctosave,{'cg5':'cg5g4'})\n",
    "ctosave_m = merge_dicts(ctosave,ctosave_1)\n",
    "\n",
    "write_pickle(ctosave_m,'coeffsN.pkl')"
   ]
  },
  {
   "cell_type": "code",
   "execution_count": 4,
   "metadata": {},
   "outputs": [],
   "source": [
    "avgDirection={}\n",
    "for gp in other_PREFS.keys():\n",
    "    # pref=','.join([str(ele) for ele in PREFS[gp]])\n",
    "    # print(pref)\n",
    "    for p,rot in other_PREFS[gp].items():\n",
    "        # print(gp,p,rot)\n",
    "        pt=','.join([str(ele) for ele in p])\n",
    "        avgDirection[pt]={'rot_ele':rot,'irrep_row':np.array(irrep_2Oh['G1g'][rot]**-1,dtype=complex),'gamma_i':np.array(Rot3d[rot]**-1,dtype=complex),'spin':np.array(S[rot]**-1,dtype=complex)}\n",
    "\n",
    "gt=group_2Oh.group_table()\n",
    "def mul(ele1,ele2):\n",
    "    return gt[ele1][ele2]\n",
    "def inv(ele):\n",
    "    for inv in gt[ele].keys():\n",
    "        if gt[ele][inv]=='E':\n",
    "            return inv\n",
    "\n",
    "avgDirection['P']={}\n",
    "for p,pP in [('0,0,1','0,0,-1'),('0,1,0','0,-1,0'),('1,0,0','-1,0,0')]:\n",
    "    rot=avgDirection[p]['rot_ele'] if p!='0,0,1' else 'E'\n",
    "    rotP=avgDirection[pP]['rot_ele']\n",
    "    \n",
    "    b=mul(rot,mul(inv(rotP),'I_sE'))\n",
    "    bP=mul(rotP,mul(inv(rot),'I_sE'))\n",
    "\n",
    "    b=np.array(irrep_2C4v['G1'][b]**-1,dtype=complex)\n",
    "    bP=np.array(irrep_2C4v['G1'][bP]**-1,dtype=complex)\n",
    "    # print(p)\n",
    "    # print(b)\n",
    "    # print()\n",
    "    # print(pP)\n",
    "    # print(bP)\n",
    "    # print()\n",
    "    \n",
    "    assert(b[0,0]==b[1,1]==bP[0,0]==bP[1,1]==0)\n",
    "    \n",
    "    avgDirection['P'][p]={'l1':b[0,1],'l2':b[1,0]}\n",
    "    avgDirection['P'][pP]={'l1':bP[0,1],'l2':bP[1,0]}\n",
    "\n",
    "import pickle\n",
    "with open('avgDirection.pkl','wb') as f:\n",
    "    pickle.dump(avgDirection,f)\n",
    "\n",
    "# avgDirection"
   ]
  },
  {
   "cell_type": "code",
   "execution_count": 6,
   "metadata": {},
   "outputs": [
    {
     "name": "stderr",
     "output_type": "stream",
     "text": [
      "<>:12: SyntaxWarning: invalid escape sequence '\\p'\n",
      "<>:12: SyntaxWarning: invalid escape sequence '\\p'\n",
      "C:\\Users\\yan14\\AppData\\Local\\Temp\\ipykernel_400\\1845408211.py:12: SyntaxWarning: invalid escape sequence '\\p'\n",
      "  mom_lists = { 'N%d\\pi%d'%(i,j) : momenta_2p(p0,i,j) for i,j in product(range(4),range(4))\n"
     ]
    },
    {
     "name": "stdout",
     "output_type": "stream",
     "text": [
      "2Oh  --  G1g \\tp:  N0\\pi0\n",
      "2Oh  --  G1u \\tp:  N0\\pi0\n",
      "2Oh  --  Hg \\tp:  N0\\pi0\n",
      "2Oh  --  Hu \\tp:  N0\\pi0\n",
      "2Oh  --  G1g \\tp:  N1\\pi1\n",
      "2Oh  --  G1u \\tp:  N1\\pi1\n",
      "2Oh  --  Hg \\tp:  N1\\pi1\n",
      "2Oh  --  Hu \\tp:  N1\\pi1\n",
      "2Oh  --  G1g \\tp:  N2\\pi2\n",
      "2Oh  --  G1u \\tp:  N2\\pi2\n",
      "2Oh  --  Hg \\tp:  N2\\pi2\n",
      "2Oh  --  Hu \\tp:  N2\\pi2\n"
     ]
    },
    {
     "name": "stderr",
     "output_type": "stream",
     "text": [
      "C:\\Users\\yan14\\AppData\\Local\\Temp\\ipykernel_400\\1845408211.py:12: SyntaxWarning: invalid escape sequence '\\p'\n",
      "  mom_lists = { 'N%d\\pi%d'%(i,j) : momenta_2p(p0,i,j) for i,j in product(range(4),range(4))\n"
     ]
    },
    {
     "ename": "KeyboardInterrupt",
     "evalue": "",
     "output_type": "error",
     "traceback": [
      "\u001b[1;31m---------------------------------------------------------------------------\u001b[0m",
      "\u001b[1;31mKeyboardInterrupt\u001b[0m                         Traceback (most recent call last)",
      "Cell \u001b[1;32mIn[6], line 79\u001b[0m\n\u001b[0;32m     76\u001b[0m         output \u001b[38;5;241m=\u001b[39m output\u001b[38;5;241m.\u001b[39mtodict()\n\u001b[0;32m     77\u001b[0m     \u001b[38;5;28;01mreturn\u001b[39;00m proj_2p, coeff_2p, output, printout\n\u001b[1;32m---> 79\u001b[0m proj_Npi, coeff_Npi, ctosave, printout \u001b[38;5;241m=\u001b[39m \u001b[43mdo_2p\u001b[49m\u001b[43m(\u001b[49m\u001b[43m \u001b[49m\u001b[43m[\u001b[49m\u001b[38;5;124;43m'\u001b[39;49m\u001b[38;5;124;43mN\u001b[39;49m\u001b[38;5;124;43m'\u001b[39;49m\u001b[43m,\u001b[49m\u001b[38;5;124;43m'\u001b[39;49m\u001b[38;5;130;43;01m\\\\\u001b[39;49;00m\u001b[38;5;124;43mpi\u001b[39;49m\u001b[38;5;124;43m'\u001b[39;49m\u001b[43m]\u001b[49m\u001b[43m,\u001b[49m\u001b[43m \u001b[49m\u001b[43m[\u001b[49m\u001b[43mlist_interpsN\u001b[49m\u001b[43m,\u001b[49m\u001b[43mlist_interpsP\u001b[49m\u001b[43m]\u001b[49m\u001b[43m \u001b[49m\u001b[43m)\u001b[49m\n\u001b[0;32m     80\u001b[0m \u001b[38;5;66;03m#same also for ['cg5g4']\u001b[39;00m\n\u001b[0;32m     81\u001b[0m ctosave_1 \u001b[38;5;241m=\u001b[39m dict_repl(ctosave,{\u001b[38;5;124m'\u001b[39m\u001b[38;5;124mcg5;g5\u001b[39m\u001b[38;5;124m'\u001b[39m:\u001b[38;5;124m'\u001b[39m\u001b[38;5;124mcg5g4;g5\u001b[39m\u001b[38;5;124m'\u001b[39m})\n",
      "Cell \u001b[1;32mIn[6], line 29\u001b[0m, in \u001b[0;36mdo_2p\u001b[1;34m(names, interps, addtodict)\u001b[0m\n\u001b[0;32m     27\u001b[0m \u001b[38;5;28mprint\u001b[39m(LG,\u001b[38;5;124m'\u001b[39m\u001b[38;5;124m -- \u001b[39m\u001b[38;5;124m'\u001b[39m,I,\u001b[38;5;124m'\u001b[39m\u001b[38;5;130;01m\\\\\u001b[39;00m\u001b[38;5;124mtp: \u001b[39m\u001b[38;5;124m'\u001b[39m,labNP)\n\u001b[0;32m     28\u001b[0m \u001b[38;5;66;03m#compute coeff for p_ref\u001b[39;00m\n\u001b[1;32m---> 29\u001b[0m proj_2p[LG][I][p0][labNP], coeff_2p[LG][I][p0][labNP] \u001b[38;5;241m=\u001b[39m \u001b[43mcomputeProjs\u001b[49m\u001b[43m(\u001b[49m\u001b[43mirrepsG\u001b[49m\u001b[43m[\u001b[49m\u001b[43mLG\u001b[49m\u001b[43m]\u001b[49m\u001b[43m[\u001b[49m\u001b[43mI\u001b[49m\u001b[43m]\u001b[49m\u001b[43m,\u001b[49m\u001b[43mUNP\u001b[49m\u001b[43m,\u001b[49m\u001b[38;5;241;43m0\u001b[39;49m\u001b[43m)\u001b[49m\n\u001b[0;32m     31\u001b[0m \u001b[38;5;66;03m#if zero, i.e. this irrep does not appear \u001b[39;00m\n\u001b[0;32m     32\u001b[0m \u001b[38;5;28;01mif\u001b[39;00m coeff_2p[LG][I][p0][labNP][\u001b[38;5;124m'\u001b[39m\u001b[38;5;124ml1\u001b[39m\u001b[38;5;124m'\u001b[39m]\u001b[38;5;241m==\u001b[39msp\u001b[38;5;241m.\u001b[39mzeros(\u001b[38;5;241m0\u001b[39m,\u001b[38;5;241m0\u001b[39m):\n",
      "File \u001b[1;32mc:\\Users\\yan14\\OneDrive\\sync\\coding\\python\\research\\GroupProjection\\Projectors-master_up1temp\\Functions.py:213\u001b[0m, in \u001b[0;36mcomputeProjs\u001b[1;34m(Gammas, Us, beta, conj, trans)\u001b[0m\n\u001b[0;32m    211\u001b[0m     \u001b[38;5;28;01melse\u001b[39;00m:\n\u001b[0;32m    212\u001b[0m         tmp_coll \u001b[38;5;241m=\u001b[39m [ (Gammas[G][a,b]\u001b[38;5;241m*\u001b[39mUs[G])\u001b[38;5;241m.\u001b[39mdoit()\u001b[38;5;241m.\u001b[39mexpand() \u001b[38;5;28;01mfor\u001b[39;00m G \u001b[38;5;129;01min\u001b[39;00m Gammas ]\n\u001b[1;32m--> 213\u001b[0m     projs[\u001b[38;5;124m'\u001b[39m\u001b[38;5;124ml\u001b[39m\u001b[38;5;132;01m%d\u001b[39;00m\u001b[38;5;124m'\u001b[39m\u001b[38;5;241m%\u001b[39m(lamda\u001b[38;5;241m+\u001b[39m\u001b[38;5;241m1\u001b[39m)] \u001b[38;5;241m=\u001b[39m \u001b[43m(\u001b[49m\u001b[38;5;28;43msum\u001b[39;49m\u001b[43m(\u001b[49m\u001b[43m \u001b[49m\u001b[43mtmp_coll\u001b[49m\u001b[43m,\u001b[49m\u001b[43m \u001b[49m\u001b[43msp\u001b[49m\u001b[38;5;241;43m.\u001b[39;49m\u001b[43mzeros\u001b[49m\u001b[43m(\u001b[49m\u001b[38;5;241;43m*\u001b[39;49m\u001b[43mUs\u001b[49m\u001b[43m[\u001b[49m\u001b[38;5;124;43m'\u001b[39;49m\u001b[38;5;124;43mE\u001b[39;49m\u001b[38;5;124;43m'\u001b[39;49m\u001b[43m]\u001b[49m\u001b[38;5;241;43m.\u001b[39;49m\u001b[43mshape\u001b[49m\u001b[43m)\u001b[49m\u001b[43m \u001b[49m\u001b[43m)\u001b[49m\u001b[38;5;241;43m*\u001b[39;49m\u001b[43mdim_I\u001b[49m\u001b[38;5;241;43m/\u001b[39;49m\u001b[38;5;28;43mlen\u001b[39;49m\u001b[43m(\u001b[49m\u001b[43mtmp_coll\u001b[49m\u001b[43m)\u001b[49m\u001b[43m)\u001b[49m\u001b[38;5;241;43m.\u001b[39;49m\u001b[43mapplyfunc\u001b[49m\u001b[43m(\u001b[49m\u001b[43msp\u001b[49m\u001b[38;5;241;43m.\u001b[39;49m\u001b[43mnsimplify\u001b[49m\u001b[43m)\u001b[49m\n\u001b[0;32m    215\u001b[0m coeff \u001b[38;5;241m=\u001b[39m {\u001b[38;5;124m'\u001b[39m\u001b[38;5;124ml\u001b[39m\u001b[38;5;132;01m%d\u001b[39;00m\u001b[38;5;124m'\u001b[39m\u001b[38;5;241m%\u001b[39m(beta\u001b[38;5;241m+\u001b[39m\u001b[38;5;241m1\u001b[39m):orth_rows(projs[\u001b[38;5;124m'\u001b[39m\u001b[38;5;124ml\u001b[39m\u001b[38;5;132;01m%d\u001b[39;00m\u001b[38;5;124m'\u001b[39m\u001b[38;5;241m%\u001b[39m(beta\u001b[38;5;241m+\u001b[39m\u001b[38;5;241m1\u001b[39m)])}\n\u001b[0;32m    216\u001b[0m \u001b[38;5;28;01mfor\u001b[39;00m mu \u001b[38;5;129;01min\u001b[39;00m \u001b[38;5;28mrange\u001b[39m(dim_I):\n",
      "File \u001b[1;32mc:\\Users\\yan14\\AppData\\Local\\Programs\\Python\\Python312\\Lib\\site-packages\\sympy\\matrices\\matrixbase.py:2110\u001b[0m, in \u001b[0;36mMatrixBase.applyfunc\u001b[1;34m(self, f)\u001b[0m\n\u001b[0;32m   2107\u001b[0m \u001b[38;5;28;01mif\u001b[39;00m \u001b[38;5;129;01mnot\u001b[39;00m \u001b[38;5;28mcallable\u001b[39m(f):\n\u001b[0;32m   2108\u001b[0m     \u001b[38;5;28;01mraise\u001b[39;00m \u001b[38;5;167;01mTypeError\u001b[39;00m(\u001b[38;5;124m\"\u001b[39m\u001b[38;5;124m`f` must be callable.\u001b[39m\u001b[38;5;124m\"\u001b[39m)\n\u001b[1;32m-> 2110\u001b[0m \u001b[38;5;28;01mreturn\u001b[39;00m \u001b[38;5;28;43mself\u001b[39;49m\u001b[38;5;241;43m.\u001b[39;49m\u001b[43m_eval_applyfunc\u001b[49m\u001b[43m(\u001b[49m\u001b[43mf\u001b[49m\u001b[43m)\u001b[49m\n",
      "File \u001b[1;32mc:\\Users\\yan14\\AppData\\Local\\Programs\\Python\\Python312\\Lib\\site-packages\\sympy\\matrices\\matrixbase.py:2042\u001b[0m, in \u001b[0;36mMatrixBase._eval_applyfunc\u001b[1;34m(self, f)\u001b[0m\n\u001b[0;32m   2039\u001b[0m size \u001b[38;5;241m=\u001b[39m \u001b[38;5;28mself\u001b[39m\u001b[38;5;241m.\u001b[39mrows\u001b[38;5;241m*\u001b[39m\u001b[38;5;28mself\u001b[39m\u001b[38;5;241m.\u001b[39mcols\n\u001b[0;32m   2041\u001b[0m dok \u001b[38;5;241m=\u001b[39m \u001b[38;5;28mself\u001b[39m\u001b[38;5;241m.\u001b[39mtodok()\n\u001b[1;32m-> 2042\u001b[0m valmap \u001b[38;5;241m=\u001b[39m {v: \u001b[43mf\u001b[49m\u001b[43m(\u001b[49m\u001b[43mv\u001b[49m\u001b[43m)\u001b[49m \u001b[38;5;28;01mfor\u001b[39;00m v \u001b[38;5;129;01min\u001b[39;00m dok\u001b[38;5;241m.\u001b[39mvalues()}\n\u001b[0;32m   2044\u001b[0m \u001b[38;5;28;01mif\u001b[39;00m \u001b[38;5;28mlen\u001b[39m(dok) \u001b[38;5;241m<\u001b[39m size \u001b[38;5;129;01mand\u001b[39;00m ((fzero \u001b[38;5;241m:=\u001b[39m f(S\u001b[38;5;241m.\u001b[39mZero)) \u001b[38;5;129;01mis\u001b[39;00m \u001b[38;5;129;01mnot\u001b[39;00m S\u001b[38;5;241m.\u001b[39mZero):\n\u001b[0;32m   2045\u001b[0m     out_flat \u001b[38;5;241m=\u001b[39m [fzero]\u001b[38;5;241m*\u001b[39msize\n",
      "File \u001b[1;32mc:\\Users\\yan14\\AppData\\Local\\Programs\\Python\\Python312\\Lib\\site-packages\\sympy\\simplify\\simplify.py:1504\u001b[0m, in \u001b[0;36mnsimplify\u001b[1;34m(expr, constants, tolerance, full, rational, rational_conversion)\u001b[0m\n\u001b[0;32m   1502\u001b[0m \u001b[38;5;28;01mtry\u001b[39;00m:\n\u001b[0;32m   1503\u001b[0m     \u001b[38;5;28;01mif\u001b[39;00m re:\n\u001b[1;32m-> 1504\u001b[0m         re \u001b[38;5;241m=\u001b[39m \u001b[43mnsimplify_real\u001b[49m\u001b[43m(\u001b[49m\u001b[43mre\u001b[49m\u001b[43m)\u001b[49m\n\u001b[0;32m   1505\u001b[0m     \u001b[38;5;28;01mif\u001b[39;00m im:\n\u001b[0;32m   1506\u001b[0m         im \u001b[38;5;241m=\u001b[39m nsimplify_real(im)\n",
      "File \u001b[1;32mc:\\Users\\yan14\\AppData\\Local\\Programs\\Python\\Python312\\Lib\\site-packages\\sympy\\simplify\\simplify.py:1492\u001b[0m, in \u001b[0;36mnsimplify.<locals>.nsimplify_real\u001b[1;34m(x)\u001b[0m\n\u001b[0;32m   1490\u001b[0m \u001b[38;5;28;01mif\u001b[39;00m full:\n\u001b[0;32m   1491\u001b[0m     newexpr \u001b[38;5;241m=\u001b[39m newexpr[\u001b[38;5;241m0\u001b[39m]\n\u001b[1;32m-> 1492\u001b[0m expr \u001b[38;5;241m=\u001b[39m \u001b[43msympify\u001b[49m\u001b[43m(\u001b[49m\u001b[43mnewexpr\u001b[49m\u001b[43m)\u001b[49m\n\u001b[0;32m   1493\u001b[0m \u001b[38;5;28;01mif\u001b[39;00m x \u001b[38;5;129;01mand\u001b[39;00m \u001b[38;5;129;01mnot\u001b[39;00m expr:  \u001b[38;5;66;03m# don't let x become 0\u001b[39;00m\n\u001b[0;32m   1494\u001b[0m     \u001b[38;5;28;01mraise\u001b[39;00m \u001b[38;5;167;01mValueError\u001b[39;00m\n",
      "File \u001b[1;32mc:\\Users\\yan14\\AppData\\Local\\Programs\\Python\\Python312\\Lib\\site-packages\\sympy\\core\\sympify.py:481\u001b[0m, in \u001b[0;36msympify\u001b[1;34m(a, locals, convert_xor, strict, rational, evaluate)\u001b[0m\n\u001b[0;32m    479\u001b[0m \u001b[38;5;28;01mtry\u001b[39;00m:\n\u001b[0;32m    480\u001b[0m     a \u001b[38;5;241m=\u001b[39m a\u001b[38;5;241m.\u001b[39mreplace(\u001b[38;5;124m'\u001b[39m\u001b[38;5;130;01m\\n\u001b[39;00m\u001b[38;5;124m'\u001b[39m, \u001b[38;5;124m'\u001b[39m\u001b[38;5;124m'\u001b[39m)\n\u001b[1;32m--> 481\u001b[0m     expr \u001b[38;5;241m=\u001b[39m \u001b[43mparse_expr\u001b[49m\u001b[43m(\u001b[49m\u001b[43ma\u001b[49m\u001b[43m,\u001b[49m\u001b[43m \u001b[49m\u001b[43mlocal_dict\u001b[49m\u001b[38;5;241;43m=\u001b[39;49m\u001b[38;5;28;43mlocals\u001b[39;49m\u001b[43m,\u001b[49m\u001b[43m \u001b[49m\u001b[43mtransformations\u001b[49m\u001b[38;5;241;43m=\u001b[39;49m\u001b[43mtransformations\u001b[49m\u001b[43m,\u001b[49m\u001b[43m \u001b[49m\u001b[43mevaluate\u001b[49m\u001b[38;5;241;43m=\u001b[39;49m\u001b[43mevaluate\u001b[49m\u001b[43m)\u001b[49m\n\u001b[0;32m    482\u001b[0m \u001b[38;5;28;01mexcept\u001b[39;00m (TokenError, \u001b[38;5;167;01mSyntaxError\u001b[39;00m) \u001b[38;5;28;01mas\u001b[39;00m exc:\n\u001b[0;32m    483\u001b[0m     \u001b[38;5;28;01mraise\u001b[39;00m SympifyError(\u001b[38;5;124m'\u001b[39m\u001b[38;5;124mcould not parse \u001b[39m\u001b[38;5;132;01m%r\u001b[39;00m\u001b[38;5;124m'\u001b[39m \u001b[38;5;241m%\u001b[39m a, exc)\n",
      "File \u001b[1;32mc:\\Users\\yan14\\AppData\\Local\\Programs\\Python\\Python312\\Lib\\site-packages\\sympy\\parsing\\sympy_parser.py:1054\u001b[0m, in \u001b[0;36mparse_expr\u001b[1;34m(s, local_dict, transformations, global_dict, evaluate)\u001b[0m\n\u001b[0;32m   1051\u001b[0m global_dict \u001b[38;5;241m=\u001b[39m {}\n\u001b[0;32m   1052\u001b[0m exec(\u001b[38;5;124m'\u001b[39m\u001b[38;5;124mfrom sympy import *\u001b[39m\u001b[38;5;124m'\u001b[39m, global_dict)\n\u001b[1;32m-> 1054\u001b[0m builtins_dict \u001b[38;5;241m=\u001b[39m \u001b[38;5;28;43mvars\u001b[39;49m\u001b[43m(\u001b[49m\u001b[43mbuiltins\u001b[49m\u001b[43m)\u001b[49m\n\u001b[0;32m   1055\u001b[0m \u001b[38;5;28;01mfor\u001b[39;00m name, obj \u001b[38;5;129;01min\u001b[39;00m builtins_dict\u001b[38;5;241m.\u001b[39mitems():\n\u001b[0;32m   1056\u001b[0m     \u001b[38;5;28;01mif\u001b[39;00m \u001b[38;5;28misinstance\u001b[39m(obj, types\u001b[38;5;241m.\u001b[39mBuiltinFunctionType):\n",
      "\u001b[1;31mKeyboardInterrupt\u001b[0m: "
     ]
    }
   ],
   "source": [
    "def do_2p(names,interps, addtodict=None ):\n",
    "    proj_2p, coeff_2p = rec_dd(), rec_dd()\n",
    "    output   = copy_dict(addtodict) if addtodict is not None else rec_dd()\n",
    "    printout = []\n",
    "    \n",
    "    for LG,Ilist in IRREPS.items():\n",
    "        # if LG != '2C3v':\n",
    "        #     continue\n",
    "        #p_ref\n",
    "        p0 = PREFS[LG]\n",
    "\n",
    "        mom_lists = { 'N%d\\pi%d'%(i,j) : momenta_2p(p0,i,j) for i,j in product(range(4),range(4)) \n",
    "                    if len(momenta_2p(p0,i,j)[0])!=0 }\n",
    "        for labNP in mom_lists:\n",
    "            # if labNP != 'N2\\pi1':\n",
    "            #     continue\n",
    "            #define 2p interpolator obj\n",
    "            Npi = interpolator_2p(names,mom_lists[labNP],['gs','g'],interps)\n",
    "           \n",
    "            #define U matrix for Npi basis\n",
    "            UNP = { R:Npi.Wt(Rot3d[R],S[R]**(-1),u_diquark,u_meson) for R in GROUPS[LG].list_elements() }\n",
    "\n",
    "            #For  all the irreps\n",
    "            for I in Ilist:\n",
    "                # if I != 'F1':\n",
    "                #     continue\n",
    "                print(LG,' -- ',I,'\\tp: ',labNP)\n",
    "                #compute coeff for p_ref\n",
    "                proj_2p[LG][I][p0][labNP], coeff_2p[LG][I][p0][labNP] = computeProjs(irrepsG[LG][I],UNP,0)\n",
    "                                \n",
    "                #if zero, i.e. this irrep does not appear \n",
    "                if coeff_2p[LG][I][p0][labNP]['l1']==sp.zeros(0,0):\n",
    "                    del coeff_2p[LG][I][p0][labNP]['l1']\n",
    "                    del coeff_2p[LG][I][p0][labNP]\n",
    "                    if len(coeff_2p[LG][I][p0])==0:\n",
    "                        del coeff_2p[LG][I][p0]\n",
    "                        del coeff_2p[LG][I]\n",
    "                    continue\n",
    "                #write in output for p_ref\n",
    "                for l in coeff_2p[LG][I][p0][labNP]: \n",
    "                    nsize = coeff_2p[LG][I][p0][labNP][l].shape[0]\n",
    "                    for n in range(nsize):\n",
    "                        repl    = chr(ord('`')+n+1)\n",
    "                        aux_str = 'out[%s][%s][%s][%s][%s][%s]'%(LG,I,l,p0,labNP,repl)\n",
    "                        l_arr, l_str = add_out2p(coeff_2p[LG][I][p0][labNP][l].row(n), Npi)\n",
    "                        for mom,tmp in l_arr.items():\n",
    "                            for g,v in tmp.items():\n",
    "                                output[LG][I][l][p0][labNP][repl][mom][g]=v\n",
    "                        for s in l_str:\n",
    "                            printout.append(aux_str+s)\n",
    "                \n",
    "                #compute coeffs for other p_refs\n",
    "                for p,Rprime in other_PREFS[LG].items():\n",
    "                    psprime, UNP_Rpr = Npi.apply_outR( Rot3d[Rprime], S[Rprime]**(-1), u_diquark, u_meson )\n",
    "                    rotNpi = Npi.rotate_moms(Rot3d[Rprime])\n",
    "                    #for each row\n",
    "                    for r in coeff_2p[LG][I][p0][labNP]:\n",
    "                        #not sure about that!!\n",
    "                        coeff_2p[LG][I][p][labNP][r] = coeff_2p[LG][I][p0][labNP][r]*UNP_Rpr\n",
    "\n",
    "                        #write in output \n",
    "                        nsize = coeff_2p[LG][I][p][labNP][r].shape[0]\n",
    "                        for n in range(nsize):\n",
    "                            repl    = chr(ord('`')+n+1)\n",
    "                            aux_str = 'out[%s][%s][%s][%s][%s][%s]'%(LG,I,r,p,labNP,repl)\n",
    "                            l_arr, l_str = add_out2p(coeff_2p[LG][I][p][labNP][r].row(n), rotNpi)\n",
    "                            for mom,tmp in l_arr.items():\n",
    "                                for g,v in tmp.items():\n",
    "                                    output[LG][I][r][p][labNP][repl][mom][g]=v\n",
    "                            for s in l_str:\n",
    "                                printout.append(aux_str+s)\n",
    "\n",
    "    proj_2p  = proj_2p.todict()\n",
    "    coeff_2p = coeff_2p.todict()\n",
    "    if addtodict is None:\n",
    "        output = output.todict()\n",
    "    return proj_2p, coeff_2p, output, printout\n",
    "\n",
    "proj_Npi, coeff_Npi, ctosave, printout = do_2p( ['N','\\pi'], [list_interpsN,list_interpsP] )\n",
    "#same also for ['cg5g4']\n",
    "ctosave_1 = dict_repl(ctosave,{'cg5;g5':'cg5g4;g5'})\n",
    "ctosave_m = merge_dicts(ctosave,ctosave_1)\n",
    "\n",
    "write_pickle(ctosave_m,'coeffsNpi.pkl')"
   ]
  },
  {
   "cell_type": "code",
   "execution_count": null,
   "metadata": {},
   "outputs": [],
   "source": [
    "# test\n",
    "LG = '2Oh'\n",
    "I  = 'G1g'\n",
    "p0 = (0,0,0)\n",
    "\n",
    "mom_list = momenta_2p(p0,1,1) \n",
    "\n",
    "Npi   = interpolator_2p(['N','\\\\pi'],mom_list,['gs','g'],[list_interpsN,list_interpsP])\n",
    "delta = interpolator_1p('\\Delta',[p0,],'gs',list_interpsD)\n",
    "            \n",
    "    \n",
    "#define U matrix for Npi basis\n",
    "UNP = { R:Npi.Wt(Rot3d[R],S[R]**(-1),u_diquark,u_meson) for R in GROUPS[LG].list_elements() }\n",
    "UD  = { R:delta.Wt(Rot3d[R],S[R]**(-1),f_i=u_diquark) for R in GROUPS[LG].list_elements() }\n",
    "\n",
    "#projs, coeff = computeProjs(irrepsG[LG][I],UD,0)\n",
    "projs, coeff = computeProjs(irrepsG[LG][I],UNP,0)"
   ]
  },
  {
   "cell_type": "code",
   "execution_count": null,
   "metadata": {},
   "outputs": [],
   "source": [
    "Npi.components;"
   ]
  },
  {
   "cell_type": "code",
   "execution_count": null,
   "metadata": {},
   "outputs": [],
   "source": [
    "coeff['l1']"
   ]
  },
  {
   "cell_type": "code",
   "execution_count": null,
   "metadata": {},
   "outputs": [],
   "source": [
    "projs['l1']"
   ]
  },
  {
   "attachments": {},
   "cell_type": "markdown",
   "metadata": {},
   "source": [
    "## Do nucleon"
   ]
  },
  {
   "cell_type": "code",
   "execution_count": 23,
   "metadata": {},
   "outputs": [],
   "source": [
    "proj_N, coeff_N, ctosave, printout = do_1p('N',list_interpsN)\n",
    "#same also for ['cg5g4']\n",
    "ctosave_1 = dict_repl(ctosave,{'cg5':'cg5g4'})\n",
    "ctosave_m = merge_dicts(ctosave,ctosave_1)"
   ]
  },
  {
   "cell_type": "code",
   "execution_count": 24,
   "metadata": {},
   "outputs": [],
   "source": [
    "write_pickle(ctosave_m,'coeffsN.pkl')"
   ]
  },
  {
   "cell_type": "code",
   "execution_count": 25,
   "metadata": {},
   "outputs": [],
   "source": [
    "with open('coeffsNucleon.txt','w') as writer:\n",
    "    writer.write(\"#out[Irrep][Row][Ptot][replica][interpolator][spin] = coeff\\n\")\n",
    "    for line in printout:\n",
    "        if not complex(line.split('=')[1])==0+1j*0:\n",
    "            writer.write(line+'\\n')"
   ]
  },
  {
   "attachments": {},
   "cell_type": "markdown",
   "metadata": {},
   "source": [
    "## Do Delta"
   ]
  },
  {
   "cell_type": "code",
   "execution_count": 26,
   "metadata": {},
   "outputs": [],
   "source": [
    "proj_D, coeff_D, ctosave, printout = do_1p('\\Delta',list_interpsD)\n",
    "#same also for ['cg1g4g5-g5','cg2g4g5-g5','cg3g4g5-g5']\n",
    "ctosave_1 = dict_repl(ctosave,{'cg1':'cg1g4g5-g5','cg2':'cg2g4g5-g5','cg3':'cg3g4g5-g5'})\n",
    "ctosave_m = merge_dicts(ctosave,ctosave_1)"
   ]
  },
  {
   "cell_type": "code",
   "execution_count": 27,
   "metadata": {},
   "outputs": [],
   "source": [
    "write_pickle(ctosave_m,'coeffsDelta.pkl')"
   ]
  },
  {
   "cell_type": "code",
   "execution_count": 28,
   "metadata": {},
   "outputs": [],
   "source": [
    "with open('coeffsDelta.txt','w') as writer:\n",
    "    writer.write(\"#out[Irrep][Row][Ptot][replica][interpolator][spin] = coeff\\n\")\n",
    "    for line in printout:\n",
    "        if not complex(line.split('=')[1])==0+1j*0:\n",
    "            writer.write(line+'\\n')"
   ]
  },
  {
   "attachments": {},
   "cell_type": "markdown",
   "metadata": {},
   "source": [
    "## Do piN"
   ]
  },
  {
   "cell_type": "code",
   "execution_count": 29,
   "metadata": {
    "scrolled": true
   },
   "outputs": [
    {
     "name": "stdout",
     "output_type": "stream",
     "text": [
      "2Oh  --  G1g \tp:  N0\\pi0\n",
      "2Oh  --  G1u \tp:  N0\\pi0\n",
      "2Oh  --  Hg \tp:  N0\\pi0\n",
      "2Oh  --  Hu \tp:  N0\\pi0\n",
      "2Oh  --  G1g \tp:  N1\\pi1\n",
      "2Oh  --  G1u \tp:  N1\\pi1\n",
      "2Oh  --  Hg \tp:  N1\\pi1\n",
      "2Oh  --  Hu \tp:  N1\\pi1\n",
      "2Oh  --  G1g \tp:  N2\\pi2\n",
      "2Oh  --  G1u \tp:  N2\\pi2\n",
      "2Oh  --  Hg \tp:  N2\\pi2\n",
      "2Oh  --  Hu \tp:  N2\\pi2\n",
      "2Oh  --  G1g \tp:  N3\\pi3\n",
      "2Oh  --  G1u \tp:  N3\\pi3\n",
      "2Oh  --  Hg \tp:  N3\\pi3\n",
      "2Oh  --  Hu \tp:  N3\\pi3\n",
      "2C4v  --  G1 \tp:  N0\\pi1\n",
      "2C4v  --  G2 \tp:  N0\\pi1\n",
      "2C4v  --  G1 \tp:  N1\\pi0\n",
      "2C4v  --  G2 \tp:  N1\\pi0\n",
      "2C4v  --  G1 \tp:  N1\\pi2\n",
      "2C4v  --  G2 \tp:  N1\\pi2\n",
      "2C4v  --  G1 \tp:  N2\\pi1\n",
      "2C4v  --  G2 \tp:  N2\\pi1\n",
      "2C4v  --  G1 \tp:  N2\\pi3\n",
      "2C4v  --  G2 \tp:  N2\\pi3\n",
      "2C4v  --  G1 \tp:  N3\\pi2\n",
      "2C4v  --  G2 \tp:  N3\\pi2\n",
      "2C2v  --  G \tp:  N0\\pi2\n",
      "2C2v  --  G \tp:  N1\\pi1\n",
      "2C2v  --  G \tp:  N1\\pi3\n",
      "2C2v  --  G \tp:  N2\\pi0\n",
      "2C2v  --  G \tp:  N2\\pi2\n",
      "2C2v  --  G \tp:  N3\\pi1\n",
      "2C3v  --  G \tp:  N0\\pi3\n",
      "2C3v  --  F1 \tp:  N0\\pi3\n",
      "2C3v  --  F2 \tp:  N0\\pi3\n",
      "2C3v  --  G \tp:  N1\\pi2\n",
      "2C3v  --  F1 \tp:  N1\\pi2\n",
      "2C3v  --  F2 \tp:  N1\\pi2\n",
      "2C3v  --  G \tp:  N2\\pi1\n",
      "2C3v  --  F1 \tp:  N2\\pi1\n",
      "2C3v  --  F2 \tp:  N2\\pi1\n",
      "2C3v  --  G \tp:  N3\\pi0\n",
      "2C3v  --  F1 \tp:  N3\\pi0\n",
      "2C3v  --  F2 \tp:  N3\\pi0\n"
     ]
    }
   ],
   "source": [
    "proj_Npi, coeff_Npi, ctosave, printout = do_2p( ['N','\\pi'], [list_interpsN,list_interpsP] )\n",
    "#same also for ['cg5g4']\n",
    "ctosave_1 = dict_repl(ctosave,{'cg5;g5':'cg5g4;g5'})\n",
    "ctosave_m = merge_dicts(ctosave,ctosave_1)"
   ]
  },
  {
   "cell_type": "code",
   "execution_count": 30,
   "metadata": {},
   "outputs": [],
   "source": [
    "write_pickle(ctosave_m,'coeffsNpi.pkl')"
   ]
  },
  {
   "cell_type": "code",
   "execution_count": 32,
   "metadata": {},
   "outputs": [],
   "source": [
    "with open('coeffsNpi.txt','w') as writer:\n",
    "    writer.write(\"#out[Irrep][Row][Ptot][N<|p_N|^2>P<|p_pi|^2>][replica][p_N,p_pi][interpolator][spin] = coeff\\n\")\n",
    "    for line in printout:\n",
    "        if not complex(line.split('=')[1])==0+1j*0:\n",
    "            writer.write(line+'\\n')"
   ]
  }
 ],
 "metadata": {
  "kernelspec": {
   "display_name": "Python 3",
   "language": "python",
   "name": "python3"
  },
  "language_info": {
   "codemirror_mode": {
    "name": "ipython",
    "version": 3
   },
   "file_extension": ".py",
   "mimetype": "text/x-python",
   "name": "python",
   "nbconvert_exporter": "python",
   "pygments_lexer": "ipython3",
   "version": "3.12.4"
  }
 },
 "nbformat": 4,
 "nbformat_minor": 4
}
