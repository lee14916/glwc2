{
 "cells": [
  {
   "cell_type": "code",
   "execution_count": null,
   "metadata": {},
   "outputs": [],
   "source": [
    "import h5py\n",
    "import numpy as np\n",
    "\n",
    "path='/project/s1174/lyan/code/projectData/NST_f/data/'\n",
    "\n",
    "with h5py.File(path+'NST_f_cA2.09.48_scattering12.h5','w') as fw,\\\n",
    "    h5py.File(path+'NST_d_cA2.09.48_tensor.h5') as f1, h5py.File(path+'NST_d_cA2.09.48_pion2pt.h5') as f2:\n",
    "        assert(np.all(f1['cfgs'][:]==f2['cfgs'][:]))\n",
    "        fw.copy(f1['cfgs'],fw,name='cfgs')\n",
    "        fw.copy(f1['VEV/pi0f'],fw,name='VEV/pi0f')\n",
    "        fw.create_dataset('diags/P/data/pi+_pi+',data=f2['data/piC'])\n",
    "        fw.create_dataset('diags/P/data/pi0_pi0',data=f2['data/pi0_conn'])\n",
    "        fw.create_dataset('diags/pi0f-pi0i/data/pi0_pi0',data=f2['data/pi0_disc'])\n",
    "        fw.create_dataset('diags/P/opabs',data=['t;0,0,0;pi_t;0,0,0;pi','t;0,0,1;pi_t;0,0,1;pi'])\n",
    "        fw.create_dataset('diags/pi0f-pi0i/opabs',data=['t;0,0,0;pi_t;0,0,0;pi','t;0,0,1;pi_t;0,0,1;pi'])\n",
    "        \n",
    "        # fw.create_dataset('')\n",
    "        for diag in f1['diags'].keys():\n",
    "            if 'j' in diag or 'NJN' in diag or '3pt' in diag or 'PJP' in diag:\n",
    "                continue\n",
    "            fw.copy(f1[f'diags/{diag}'],fw,name=f'diags/{diag}')\n"
   ]
  }
 ],
 "metadata": {
  "kernelspec": {
   "display_name": ".venv",
   "language": "python",
   "name": "python3"
  },
  "language_info": {
   "codemirror_mode": {
    "name": "ipython",
    "version": 3
   },
   "file_extension": ".py",
   "mimetype": "text/x-python",
   "name": "python",
   "nbconvert_exporter": "python",
   "pygments_lexer": "ipython3",
   "version": "3.9.12"
  }
 },
 "nbformat": 4,
 "nbformat_minor": 2
}
