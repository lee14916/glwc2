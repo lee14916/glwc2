{
 "cells": [
  {
   "cell_type": "code",
   "execution_count": null,
   "metadata": {},
   "outputs": [],
   "source": [
    "import os\n",
    "\n",
    "path='/project/s1174/fpittler/nsigma_threepoint/'\n",
    "\n",
    "cfgsa=['a'+cfg for cfg in os.listdir(path+'cA211a5324/')]\n",
    "cfgsb=['b'+cfg for cfg in os.listdir(path+'cA211b5324/')]\n",
    "cfgsab=list(set(cfgsa+cfgsb))\n",
    "cfgsab.sort()\n",
    "\n",
    "with open('others/cfgs_all') as f:\n",
    "    cfgs=f.read().splitlines()\n",
    "    \n",
    "print(len(cfgs),len(cfgsab))\n",
    "print(len(set(cfgs)-set(cfgsab)),len(set(cfgsab)-set(cfgs)))\n",
    "print()\n",
    "cfgs_diff=list(set(cfgsab)-set(cfgs))\n",
    "cfgs_diff.sort()\n",
    "for cfg in cfgs_diff:\n",
    "    print(cfg)"
   ]
  }
 ],
 "metadata": {
  "kernelspec": {
   "display_name": ".venv",
   "language": "python",
   "name": "python3"
  },
  "language_info": {
   "codemirror_mode": {
    "name": "ipython",
    "version": 3
   },
   "file_extension": ".py",
   "mimetype": "text/x-python",
   "name": "python",
   "nbconvert_exporter": "python",
   "pygments_lexer": "ipython3",
   "version": "3.9.12"
  }
 },
 "nbformat": 4,
 "nbformat_minor": 2
}
