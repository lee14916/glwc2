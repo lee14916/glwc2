{
 "cells": [
  {
   "cell_type": "code",
   "execution_count": 43,
   "metadata": {},
   "outputs": [
    {
     "name": "stdout",
     "output_type": "stream",
     "text": [
      "NJN True\n",
      "NJN-pi0i True\n",
      "NJN-pi0f False\n",
      "NJN-P False\n",
      "NJN-pi0f-pi0i False\n"
     ]
    }
   ],
   "source": [
    "# import os, click, h5py, re\n",
    "# import numpy as np\n",
    "# import aux\n",
    "\n",
    "# path='data_merge/NST_ad.h5'\n",
    "# patha='/project/s1174/lyan/code/projectData/NST_a/cA211.530.24/data_merge/cA211.530.24_NST_a_daint.h5'\n",
    "# pathd='data_merge/NST_d.h5'\n",
    "\n",
    "# with h5py.File(path,'w') as fw, h5py.File(patha) as fa, h5py.File(pathd) as fd:\n",
    "#     fw.copy(fd['VEV'],fw,name='VEV')\n",
    "#     fw.copy(fd['cfgs'],fw,name='cfgs')\n",
    "    \n",
    "#     for i,diag in enumerate(aux.diags_main):\n",
    "#         # print(diag,i,len(aux.diags_main),end='\\t\\t\\t\\r')\n",
    "#         key='diags/'+diag\n",
    "#         (base,apps)=aux.diag2baps[diag]\n",
    "#         # if base in ['N','T','B2pt','W2pt','Z2pt','B3pt','W3pt','Z3pt']:\n",
    "#         #     fw.copy(fd[key],fw,name=key)\n",
    "#         if base in ['NJN']:\n",
    "#             print(diag,diag in fa['diags'])"
   ]
  },
  {
   "cell_type": "code",
   "execution_count": 35,
   "metadata": {},
   "outputs": [
    {
     "name": "stdout",
     "output_type": "stream",
     "text": [
      "96 \t N.h5_N-a-Nsrc32*3\n",
      "16 \t N.h5_NJN-a-Nsrc16\n",
      "4 \t N.h5_NJN-b-Nsrc1*4-tensor\n",
      "9 \t N.h5_NJNpi-a-Nsrc3*3\n",
      "3 \t N.h5_NJNpi-b-Nsrc3*1-tensor\n",
      "128 N d\n",
      "96 \t N.h5_N-a-Nsrc32*3\n",
      "16 \t N.h5_NJN-a-Nsrc16\n",
      "9 \t N.h5_NJNpi-a-Nsrc3*3\n",
      "121 N a\n",
      "\n",
      "3 \t T.h5_NJNpi-b-Nsrc3*1-tensor\n",
      "96 \t T.h5_T-a-Nsrc32*3\n",
      "99 T d\n",
      "96 \t T.h5_T-a-Nsrc32*3\n",
      "96 T a\n",
      "\n",
      "3 \t B2pt.h5_NJNpi-b-Nsrc3*1-tensor\n",
      "3 B2pt d\n",
      "9 \t B2pt.h5_NJNpi-a-Nsrc3*3\n",
      "9 B2pt a\n",
      "\n",
      "3 \t W2pt.h5_NJNpi-b-Nsrc3*1-tensor\n",
      "3 W2pt d\n",
      "9 \t W2pt.h5_NJNpi-a-Nsrc3*3\n",
      "9 W2pt a\n",
      "\n",
      "3 \t Z2pt.h5_NJNpi-b-Nsrc3*1-tensor\n",
      "3 Z2pt d\n",
      "9 \t Z2pt.h5_NJNpi-a-Nsrc3*3\n",
      "9 Z2pt a\n",
      "\n",
      "4 \t NJN.h5_NJN-b-Nsrc1*4-tensor\n",
      "4 NJN d\n",
      "16 \t NJN.h5_NJN-a-Nsrc16\n",
      "16 NJN a\n",
      "\n",
      "3 \t B3pt.h5_NJNpi-b-Nsrc3*1-tensor\n",
      "3 B3pt d\n",
      "9 \t B3pt.h5_NJNpi-a-Nsrc3*3\n",
      "9 B3pt a\n",
      "\n",
      "3 \t W3pt.h5_NJNpi-b-Nsrc3*1-tensor\n",
      "3 W3pt d\n",
      "9 \t W3pt.h5_NJNpi-a-Nsrc3*3\n",
      "9 W3pt a\n",
      "\n",
      "3 \t Z3pt.h5_NJNpi-b-Nsrc3*1-tensor\n",
      "3 Z3pt d\n",
      "9 \t Z3pt.h5_NJNpi-a-Nsrc3*3\n",
      "9 Z3pt a\n",
      "\n"
     ]
    }
   ],
   "source": [
    "# checking Nsrc\n",
    "\n",
    "import os, click, h5py, re\n",
    "import numpy as np\n",
    "import aux\n",
    "\n",
    "path='data_merge/NST_ad.h5'\n",
    "patha='/project/s1174/lyan/code/projectData/NST_a/cA211.530.24/data_merge/cA211.530.24_NST_a_daint.h5'\n",
    "pathd='data_merge/NST_d.h5'\n",
    "\n",
    "with h5py.File(path,'w') as fw, h5py.File(patha) as fa, h5py.File(pathd) as fd:\n",
    "    fw.copy(fd['VEV'],fw,name='VEV')\n",
    "    fw.copy(fd['cfgs'],fw,name='cfgs')\n",
    "    \n",
    "    for diag in aux.diags_main:\n",
    "        (base,apps)=aux.diag2baps[diag]\n",
    "        if len(apps)==0:\n",
    "            Nsrc=0\n",
    "            for key in fd['diags'][diag]['srcs'].keys():\n",
    "                t=fd['diags'][diag]['srcs'][key].shape[1]\n",
    "                print(t,'\\t',key)\n",
    "                Nsrc+=t\n",
    "            print(Nsrc,diag,'d')\n",
    "            \n",
    "            Nsrc=0\n",
    "            for key in fa['diags'][diag]['srcs'].keys():\n",
    "                t=fa['diags'][diag]['srcs'][key].shape[1]\n",
    "                print(t,'\\t',key)\n",
    "                Nsrc+=t\n",
    "            print(Nsrc,diag,'a')\n",
    "            \n",
    "            print()"
   ]
  }
 ],
 "metadata": {
  "kernelspec": {
   "display_name": ".venv",
   "language": "python",
   "name": "python3"
  },
  "language_info": {
   "codemirror_mode": {
    "name": "ipython",
    "version": 3
   },
   "file_extension": ".py",
   "mimetype": "text/x-python",
   "name": "python",
   "nbconvert_exporter": "python",
   "pygments_lexer": "ipython3",
   "version": "3.9.12"
  }
 },
 "nbformat": 4,
 "nbformat_minor": 2
}
