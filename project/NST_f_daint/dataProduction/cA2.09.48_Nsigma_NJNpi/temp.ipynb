{
 "cells": [
  {
   "cell_type": "code",
   "execution_count": 9,
   "metadata": {},
   "outputs": [],
   "source": [
    "import os\n",
    "\n",
    "with open('data_aux/cfgs_run') as f:\n",
    "    cfgs=f.read().splitlines()\n",
    "    cfgs.sort()\n",
    "\n",
    "for cfg in cfgs:\n",
    "    path=f'/project/s1174/fpittler/nsigma_threepoint/cA211{cfg[0]}5324/{cfg[1:]}'\n",
    "    files=os.listdir(path)\n",
    "    # print(len(files))\n",
    "    if len(files) !=56:\n",
    "        print(cfg,path)\n",
    "    # break"
   ]
  }
 ],
 "metadata": {
  "kernelspec": {
   "display_name": ".venv",
   "language": "python",
   "name": "python3"
  },
  "language_info": {
   "codemirror_mode": {
    "name": "ipython",
    "version": 3
   },
   "file_extension": ".py",
   "mimetype": "text/x-python",
   "name": "python",
   "nbconvert_exporter": "python",
   "pygments_lexer": "ipython3",
   "version": "3.9.12"
  }
 },
 "nbformat": 4,
 "nbformat_minor": 2
}
