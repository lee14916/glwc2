{
 "cells": [
  {
   "cell_type": "code",
   "execution_count": 3,
   "metadata": {},
   "outputs": [
    {
     "name": "stdout",
     "output_type": "stream",
     "text": [
      "The autoreload extension is already loaded. To reload it, use:\n",
      "  %reload_ext autoreload\n"
     ]
    }
   ],
   "source": [
    "%load_ext autoreload\n",
    "%autoreload 2\n",
    "\n",
    "import os,sys,warnings\n",
    "import h5py, pandas\n",
    "import numpy as np\n",
    "np.seterr(invalid=['ignore','warn'][0])\n",
    "import math,cmath,pickle\n",
    "from matplotlib.backends.backend_pdf import PdfPages\n",
    "from scipy.optimize import curve_fit,fsolve\n",
    "import matplotlib as mpl\n",
    "import matplotlib.pyplot as plt\n",
    "mpl.style.use('default')\n",
    "mpl.rcParams['figure.facecolor'] = 'white'\n",
    "mpl.rcParams['figure.titlesize'] = 20\n",
    "mpl.rcParams['figure.figsize'] = [6.4*1.2,4.8*1.2]\n",
    "mpl.rcParams['axes.labelsize'] = 30\n",
    "mpl.rcParams['axes.titlesize'] = 30\n",
    "mpl.rcParams['lines.marker'] = 's'\n",
    "mpl.rcParams['lines.linestyle'] = ''\n",
    "mpl.rcParams['lines.markersize'] = 12\n",
    "mpl.rcParams['errorbar.capsize'] = 12\n",
    "mpl.rcParams['xtick.labelsize'] = mpl.rcParams['ytick.labelsize'] = 22\n",
    "mpl.rcParams['xtick.major.size'] = mpl.rcParams['ytick.major.size'] = 10\n",
    "mpl.rcParams['xtick.top']=mpl.rcParams['ytick.right']=True\n",
    "mpl.rcParams['xtick.direction']=mpl.rcParams['ytick.direction']='in'\n",
    "mpl.rcParams['legend.fontsize'] = 24\n",
    "plt.rcParams[\"font.family\"] = \"serif\"\n",
    "plt.rcParams[\"mathtext.fontset\"] = \"dejavuserif\"\n",
    "\n",
    "# mpl.rcParams.update({\"axes.grid\" : True})\n",
    "import util as yu\n",
    "yu.flag_fast=False\n",
    "\n",
    "def fsolve2(func,x0):\n",
    "    with warnings.catch_warnings():\n",
    "        warnings.simplefilter(\"ignore\")\n",
    "        res=fsolve(func, x0)[0]\n",
    "    return res if res!=x0 else np.NaN"
   ]
  },
  {
   "cell_type": "code",
   "execution_count": 4,
   "metadata": {},
   "outputs": [
    {
     "name": "stdout",
     "output_type": "stream",
     "text": [
      "Ncfg=2467\n",
      "Njk=77\n"
     ]
    }
   ],
   "source": [
    "# path='/project/s1174/lyan/code/projectData/NST_f/cA211.53.24/data_merge/NST_f_meson2pt.h5'\n",
    "path='/project/s1174/lyan/code/projectData/NST_f/cA2.09.48/data_merge/NST_f_meson2pt.h5'\n",
    "    \n",
    "data={}\n",
    "with h5py.File(path) as f:\n",
    "    Ncfg=len(f['cfgs'])\n",
    "    print('Ncfg={}'.format(Ncfg))\n",
    "    \n",
    "    for ky in f.keys():\n",
    "        if ky not in ['VEV','diags']:\n",
    "            continue\n",
    "        data[ky]={}\n",
    "        for diag in f[ky].keys():\n",
    "            data[ky][diag]={}\n",
    "            for fla in f[ky][diag]['data'].keys():\n",
    "                data[ky][diag][fla]=yu.jackknife(f[ky][diag]['data'][fla][:],d=32)\n",
    "\n",
    "totalT=data[ky][diag][fla].shape[1]\n",
    "Njk=len(data[ky][diag][fla])\n",
    "print(f'Njk={Njk}')\n",
    "\n",
    "# VEV subtraction\n",
    "def flab2sign(fla): # gtCj={'id':1,'g5':-1,'g5gt':1} & (-1) for pi conj\n",
    "    if 'sgm' in fla:\n",
    "        return 1\n",
    "    if 'A' in fla:\n",
    "        return 0\n",
    "    return 1\n",
    "\n",
    "ky='diags'; diag='pi0f-pi0i'\n",
    "for fla in data[ky][diag].keys():\n",
    "    if 'A' in fla:\n",
    "        continue\n",
    "    flaa,flab=fla.split('_')\n",
    "    t=np.zeros([Njk,2])*1j\n",
    "    t[:,0]=data['VEV']['pi0f'][flaa] * data['VEV']['pi0f'][flab] * flab2sign(flab)\n",
    "    data[ky][diag][fla] -= t[:,None,:]\n",
    "    "
   ]
  },
  {
   "cell_type": "code",
   "execution_count": 11,
   "metadata": {},
   "outputs": [],
   "source": [
    "ens='a'\n",
    "# enss=['a','b']\n",
    "ens2full={'a24':'cA211.53.24','a':'cA2.09.48','b':'B64','c':'C80','d':'D96'}\n",
    "ens2label={'a24':'A24','a':'A48','b':'B64','c':'C80','d':'D96'}\n",
    "ens2a={'a24':0.0908,'a':0.0938,'b':0.07957,'c':0.06821,'d':0.05692} # fm\n",
    "ens2N={'a24':24,'a':48,'b':64,'c':80,'d':96}\n",
    "ens2N_T={'a24':24*2,'a':48*2,'b':64*2,'c':80*2,'d':96*2}\n",
    "\n",
    "hbarc = 1/197.3\n",
    "ens2aInv={ens:1/(ens2a[ens]*hbarc) for ens in enss} # MeV\n",
    "\n",
    "def get2pt(opab,imom=0,diags=['P','pi0f-pi0i']):\n",
    "    # diags=['P']\n",
    "    opa,opb=opab.split('_')\n",
    "    opabF=opb+'_'+opa\n",
    "    \n",
    "    t=0\n",
    "    for diag in diags:\n",
    "        if opab in data['diags'][diag].keys() and opabF in data['diags'][diag].keys():\n",
    "            t+= ( data['diags'][diag][opab] + np.conj(data['diags'][diag][opabF]) )/2\n",
    "        elif opab in data['diags'][diag].keys():\n",
    "            t+= data['diags'][diag][opab]\n",
    "        elif opabF in data['diags'][diag].keys():\n",
    "            t+= data['diags'][diag][opabF]\n",
    "\n",
    "    t=t[:,:,imom]\n",
    "    \n",
    "    if True: # symmetrize\n",
    "        func=lambda t:(t+np.roll(np.flip(t,axis=1),1,axis=1))/2\n",
    "        t=func(t)\n",
    "        \n",
    "    return t"
   ]
  },
  {
   "cell_type": "code",
   "execution_count": 6,
   "metadata": {},
   "outputs": [
    {
     "name": "stdout",
     "output_type": "stream",
     "text": [
      "sgmL_sgmL             \r"
     ]
    }
   ],
   "source": [
    "tfunc_C=lambda m,t:np.exp(-m*t)+np.exp(-m*(totalT-t))\n",
    "tau=1\n",
    "def C2pt2meff(C2pt):\n",
    "    t=C2pt # dim=time\n",
    "    t=(np.roll(t,-tau,axis=0))/(t)\n",
    "    t=np.array([fsolve2(lambda m:((tfunc_C(m,xt+tau))/(tfunc_C(m,xt)))-ele, 0.0593) for xt,ele in enumerate(t)])\n",
    "    return t\n",
    "\n",
    "dic_mEff_jk={}\n",
    "\n",
    "ops=['pi+','pi+A','pi+L','pi+AL']\n",
    "for opa in ops:\n",
    "    for opb in ops:\n",
    "        if opa!=opb:\n",
    "            continue\n",
    "        opab=opa+'_'+opb\n",
    "        dic_mEff_jk[opab]=[C2pt2meff(C2pt) for C2pt in np.real(get2pt(opab))]\n",
    "        print(opab,end='           \\r')\n",
    "\n",
    "ops=['pi0','pi0A','sgm','pi0L','pi0AL','sgmL']\n",
    "for opa in ops:\n",
    "    for opb in ops:\n",
    "        if opa!=opb:\n",
    "            continue\n",
    "        opab=opa+'_'+opb\n",
    "        dic_mEff_jk[opab]=[C2pt2meff(C2pt) for C2pt in np.real(get2pt(opab))]\n",
    "        print(opab,end='           \\r')"
   ]
  },
  {
   "cell_type": "code",
   "execution_count": 13,
   "metadata": {},
   "outputs": [],
   "source": [
    "fig, axs = yu.getFigAxs(1,2,scale=1.5,sharex=True,sharey=True)\n",
    "\n",
    "\n",
    "yunit=ens2aInv[ens]\n",
    "\n",
    "for SorL,mfc in zip(['L',''],['white',None]):\n",
    "    ax=axs[0,{'':0,'L':1}[SorL]]\n",
    "    # ax=axs[0,0]\n",
    "    for op,color in zip(['pi+','pi+A','pi0','pi0A','sgm'],['r','purple','b','cyan','orange']):\n",
    "        if False:\n",
    "            if op not in ['pi+','pi+A']:\n",
    "                continue\n",
    "        \n",
    "        mEff_jk=dic_mEff_jk[f'{op}{SorL}_{op}{SorL}']\n",
    "        \n",
    "        tmean,terr=yu.jackme(mEff_jk)\n",
    "        plt_x=range(len(tmean)); plt_y=tmean*yunit; plt_yerr=terr*yunit\n",
    "        ax.errorbar(plt_x,plt_y,plt_yerr,color=color,mfc=mfc,label=f'{op}{SorL}')\n",
    "    ax.set_ylim(0,500)\n",
    "    ax.legend(fontsize=15)\n",
    "    \n",
    "plt.tight_layout()\n",
    "plt.savefig('fig/pion2pt.pdf')\n",
    "plt.close()"
   ]
  }
 ],
 "metadata": {
  "kernelspec": {
   "display_name": ".venv",
   "language": "python",
   "name": "python3"
  },
  "language_info": {
   "codemirror_mode": {
    "name": "ipython",
    "version": 3
   },
   "file_extension": ".py",
   "mimetype": "text/x-python",
   "name": "python",
   "nbconvert_exporter": "python",
   "pygments_lexer": "ipython3",
   "version": "3.9.12"
  }
 },
 "nbformat": 4,
 "nbformat_minor": 2
}
