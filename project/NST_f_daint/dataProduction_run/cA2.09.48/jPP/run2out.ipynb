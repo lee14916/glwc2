{
 "cells": [
  {
   "cell_type": "code",
   "execution_count": null,
   "metadata": {},
   "outputs": [],
   "source": [
    "import h5py\n",
    "import numpy as np\n",
    "\n",
    "path='/project/s1174/lyan/code/scratch/run/NST_f/cA2.09.48/jPP/run/a0250/'\n",
    "patht='/project/s1174/lyan/code/scratch/run/NST_f/cA2.09.48/jPP/run/a0250_test/'\n",
    "\n",
    "with h5py.File(path+'backup1_Diagram_0250_jPP.h5') as f1, h5py.File(patht+'backup1_Diagram_0250_jPP.h5') as ft1,\\\n",
    "    h5py.File(path+'backup2_Diagram_0250_jPP.h5') as f2, h5py.File(patht+'backup2_Diagram_0250_jPP.h5') as ft2,\\\n",
    "    h5py.File(path+'backup3_Diagram_0250_jPP.h5') as f3, h5py.File(patht+'backup3_Diagram_0250_jPP.h5') as ft3:\n",
    "\n",
    "    ky='sx00sy00sz00st00/PhiPhi/pi=0_0_0/q1q2=uu/sisf=LL/i_gi=1'\n",
    "    tmin=0; tmax=4; mom=3; gm=1; ri=0\n",
    "    print('no smearing')\n",
    "    print('MG_BLK_SIZE: 0 6 6 3 3')\n",
    "    print(f1[ky][tmin:tmax,mom,gm,ri],'iterations:~200')\n",
    "    print(f2[ky][tmin:tmax,mom,gm,ri],'iterations:~30')\n",
    "    print(f3[ky][tmin:tmax,mom,gm,ri],'iterations:~30')\n",
    "    print(f2[ky][tmin:tmax,mom,gm,ri]-f3[ky][tmin:tmax,mom,gm,ri],'')\n",
    "    print('MG_BLK_SIZE: 0 6 3 3 3')\n",
    "    print(ft1[ky][tmin:tmax,mom,gm,ri],'iterations:~60')\n",
    "    print(ft2[ky][tmin:tmax,mom,gm,ri],'iterations:~20') \n",
    "    print(ft3[ky][tmin:tmax,mom,gm,ri],'iterations:~20')\n",
    "    print(f2[ky][tmin:tmax,mom,gm,ri]-ft3[ky][tmin:tmax,mom,gm,ri])\n",
    "    "
   ]
  },
  {
   "cell_type": "code",
   "execution_count": null,
   "metadata": {},
   "outputs": [],
   "source": [
    "import os\n",
    "\n",
    "path='runAux/cfgs_run1'\n",
    "with open(path) as f:\n",
    "    t=f.readlines()\n",
    "    cfgs=[ele.strip('\\n') for ele in t]\n",
    "\n",
    "for cfg in cfgs:\n",
    "    path='run/'+cfg+'/'\n",
    "    if 'flagFinish' in os.listdir(path):\n",
    "        pass\n",
    "    else:\n",
    "        # print(cfg)\n",
    "        print(cfg, os.listdir(path))\n",
    "        # for file in os. listdir(path):\n",
    "        #     if file.endswith('.h5'):\n",
    "        #         print(cfg)\n",
    "        #         os.remove(path+file)"
   ]
  }
 ],
 "metadata": {
  "kernelspec": {
   "display_name": ".venv",
   "language": "python",
   "name": "python3"
  },
  "language_info": {
   "codemirror_mode": {
    "name": "ipython",
    "version": 3
   },
   "file_extension": ".py",
   "mimetype": "text/x-python",
   "name": "python",
   "nbconvert_exporter": "python",
   "pygments_lexer": "ipython3",
   "version": "3.9.12"
  }
 },
 "nbformat": 4,
 "nbformat_minor": 2
}
