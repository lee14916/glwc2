{
 "cells": [
  {
   "cell_type": "code",
   "execution_count": null,
   "metadata": {},
   "outputs": [],
   "source": [
    "import h5py\n",
    "import numpy as np\n",
    "\n",
    "'''\n",
    "Does it also happen for 24 with small number of nodes?\n",
    "'''\n",
    "\n",
    "\n",
    "path='/project/s1174/lyan/code/scratch/run/NST_f/cA2.09.48/loop/run/a0846/'\n",
    "\n",
    "with h5py.File(path+'backup1_Diagram_0846_loopS.h5') as f1, h5py.File(path+'backup2_Diagram_0846_loopS.h5') as f2,\\\n",
    "    h5py.File(path+'backup3_Diagram_0846_loopS.h5') as f3, h5py.File(path+'backup4_Diagram_0846_loopS.h5') as f4:\n",
    "    ky='sx00sy00sz00st00/PhiPhi/seed=1000846/id=0/up'\n",
    "    tmin=0; tmax=4; gm=0; ri=0\n",
    "    print(f1[ky][tmin:tmax,0,gm,ri]) # ~200 iters ~10 secs  # nid0[3100-3103,3550-3561]\n",
    "    print(f2[ky][tmin:tmax,0,gm,ri]) # ~100 iters ~5 secs  # nid0[2589-2604]\n",
    "    print(f3[ky][tmin:tmax,0,gm,ri]) # ~30 iters ~1.5 secs  # nid0[2589-2604]\n",
    "    print(f4[ky][tmin:tmax,0,gm,ri]) # ~30 iters ~1.5 secs  # nid0[2589-2604]\n",
    "    "
   ]
  },
  {
   "cell_type": "code",
   "execution_count": null,
   "metadata": {},
   "outputs": [],
   "source": [
    "import os\n",
    "\n",
    "path='runAux/cfgs_run1'\n",
    "with open(path) as f:\n",
    "    t=f.readlines()\n",
    "    cfgs=[ele.strip('\\n') for ele in t]\n",
    "\n",
    "for cfg in cfgs:\n",
    "    path='run/'+cfg+'/'\n",
    "    if 'flagFinish' in os.listdir(path):\n",
    "        pass\n",
    "    else:\n",
    "        # print(cfg)\n",
    "        print(cfg, os.listdir(path))\n",
    "        # for file in os. listdir(path):\n",
    "        #     if file.endswith('.h5'):\n",
    "        #         print(cfg)\n",
    "        #         os.remove(path+file)"
   ]
  }
 ],
 "metadata": {
  "kernelspec": {
   "display_name": ".venv",
   "language": "python",
   "name": "python3"
  },
  "language_info": {
   "codemirror_mode": {
    "name": "ipython",
    "version": 3
   },
   "file_extension": ".py",
   "mimetype": "text/x-python",
   "name": "python",
   "nbconvert_exporter": "python",
   "pygments_lexer": "ipython3",
   "version": "3.9.12"
  }
 },
 "nbformat": 4,
 "nbformat_minor": 2
}
