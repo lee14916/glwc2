{
 "cells": [
  {
   "cell_type": "code",
   "execution_count": null,
   "metadata": {},
   "outputs": [],
   "source": [
    "# import os\n",
    "\n",
    "# path='runAux/cfgs_run0'\n",
    "# with open(path) as f:\n",
    "#     t=f.readlines()\n",
    "#     cfgs=[ele.strip('\\n') for ele in t]\n",
    "\n",
    "# for cfg in cfgs:\n",
    "#     path='run/'+cfg+'/'\n",
    "#     flag=False\n",
    "#     if 'Yan_flagFinish' in os.listdir(path):\n",
    "#         flag=True\n",
    "\n",
    "#     if not flag:\n",
    "#         print(cfg)        "
   ]
  },
  {
   "cell_type": "code",
   "execution_count": null,
   "metadata": {},
   "outputs": [],
   "source": [
    "import h5py,os,re,pickle\n",
    "import numpy as np\n",
    "\n",
    "path0='/project/s1174/lyan/code/projectData/NST_d/cA211.530.24/data_post/a0026/P.h5_jPP-b-tensor'\n",
    "path='/project/s1174/lyan/code/scratch/run/NST_f/cA211.53.24/jPP/out/a0026/jPP.h5'\n",
    "with h5py.File(path) as f, h5py.File(path0) as f0:\n",
    "    st='st000'\n",
    "    tf=47; mom0=25; mom=23; \n",
    "    print(f0['moms'][mom0])\n",
    "    print(f['moms'][mom])\n",
    "    print(f['data'][st]['uBdS_uBdS'][tf,mom,5,1])\n",
    "    print(f0['data'][st]['pi-_pi-'][tf,mom0])\n",
    "    \n",
    "    print((f['data'][st]['uBuS_uBuS'][tf,mom,5,1]+f['data'][st]['dBdS_dBdS'][tf,mom,5,1])/2)\n",
    "    print(f0['data'][st]['pi0_pi0'][tf,mom0])\n",
    "    \n",
    "    \n",
    "path0='/project/s1174/lyan/code/projectData/NST_d/cA211.530.24/data_post/a0026/jPi.h5_jPP-b-tensor'\n",
    "path='/project/s1174/lyan/code/scratch/run/NST_f/cA211.53.24/jPP/out/a0026/jPP.h5'\n",
    "with h5py.File(path) as f, h5py.File(path0) as f0:\n",
    "    st='st000'\n",
    "    tf=47; mom0=0; mom=0; gm=15\n",
    "    print(f['moms'][mom])\n",
    "    tu=f['data'][st]['uBuL_uBuS'][tf,mom,gm,1] *(-1j)/np.sqrt(2)\n",
    "    td=f['data'][st]['dBdL_dBdS'][tf,mom,gm,1] *(-1j)/np.sqrt(2)\n",
    "    print(tu-td)\n",
    "    print(f0['data'][st]['j+_pi0'][tf,mom0,gm])\n",
    "    \n",
    "    print(tu+td)\n",
    "    print(f0['data'][st]['j-_pi0'][tf,mom0,gm])\n",
    "    \n",
    "    \n",
    "path='/project/s1174/lyan/code/scratch/run/NST_f/cA211.53.24/jPP/out/a0026/jPP.h5'\n",
    "with h5py.File(path) as f:\n",
    "    st='st000'\n",
    "    tf=47; mom1=23; mom2=25; Gf=5; Gi=1\n",
    "    print(f['moms'][mom1],f['moms'][mom2])\n",
    "    t1=f['data'][st]['uBuL_uBuS'][tf,mom1,Gf,Gi]\n",
    "    t2=np.conj(f['data'][st]['dBdL_dBdS'][tf,mom2,Gf,Gi])\n",
    "    print(t1)\n",
    "    print(t2)\n",
    "    \n",
    "    st='st000'\n",
    "    tf=47; mom1=23; mom2=25; Gf=5; Gi=1\n",
    "    print(f['moms'][mom1],f['moms'][mom2])\n",
    "    t1=f['data'][st]['uBdL_uBdL'][tf,mom1,Gf,Gi]\n",
    "    t2=np.conj(f['data'][st]['uBdL_uBdL'][tf,mom2,Gf,Gi])\n",
    "    print(t1)\n",
    "    print(t2)"
   ]
  }
 ],
 "metadata": {
  "kernelspec": {
   "display_name": ".venv",
   "language": "python",
   "name": "python3"
  },
  "language_info": {
   "codemirror_mode": {
    "name": "ipython",
    "version": 3
   },
   "file_extension": ".py",
   "mimetype": "text/x-python",
   "name": "python",
   "nbconvert_exporter": "python",
   "pygments_lexer": "ipython3",
   "version": "3.9.12"
  }
 },
 "nbformat": 4,
 "nbformat_minor": 2
}
