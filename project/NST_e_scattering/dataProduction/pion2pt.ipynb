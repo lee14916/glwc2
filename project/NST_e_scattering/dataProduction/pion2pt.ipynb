{
 "cells": [
  {
   "cell_type": "code",
   "execution_count": 13,
   "metadata": {},
   "outputs": [
    {
     "name": "stdout",
     "output_type": "stream",
     "text": [
      "<HDF5 dataset \"cfgs\": shape (1228,), type \"|O\">\n",
      "<HDF5 group \"/data\" (3 members)>\n",
      "<HDF5 dataset \"moms\": shape (2, 3), type \"<i8\">\n"
     ]
    }
   ],
   "source": [
    "import h5py\n",
    "import numpy as np\n",
    "\n",
    "\n",
    "path='/p/project/pines/li47/code/projectData/NST_e-scattering/pion2pt/cA2.09.48.h5'\n",
    "with h5py.File(path,'w') as fw:\n",
    "    path='/p/project/pines/li47/code/projectData/NST_d-tensor/data/NST_d_cA2.09.48_pion2pt.h5'\n",
    "    with h5py.File(path) as f:\n",
    "        for key in f.keys():\n",
    "            fw.copy(f[key],fw,name=key)\n",
    "            print(fw[key])\n",
    "    \n",
    "    path='/p/project/pines/li47/code/projectData/NST_d-tensor/data/NST_d_cA2.09.48_tensor.h5'\n",
    "    with h5py.File(path) as f:\n",
    "        t=f['VEV']['pi0f']['data']['pi0'][:]\n",
    "        fw.copy(f['VEV']['pi0f']['data']['pi0'],fw,name='data/vev')"
   ]
  },
  {
   "cell_type": "code",
   "execution_count": 111,
   "metadata": {},
   "outputs": [
    {
     "name": "stdout",
     "output_type": "stream",
     "text": [
      "751 65\n",
      "400 81\n",
      "373 97\n"
     ]
    }
   ],
   "source": [
    "cfg2new=lambda cfg:{'0':'a','1':'b','2':'c','3':'d'}[cfg[-1]]+cfg[:4]\n",
    "symExpand=lambda dat:np.concatenate([dat,np.flip(dat,axis=1)[:,1:-1]],axis=1)\n",
    "\n",
    "for ens in ['B64','C80','D96']:\n",
    "    path=f'/p/project/pines/li47/code/projectData/NST_e-scattering/pion2pt/{ens}.h5'\n",
    "    with h5py.File(path,'w') as fw:\n",
    "        path=f'/p/project/pines/li47/code/temp/{ens}.txt'\n",
    "        with open(path,'r') as f:\n",
    "            t=f.read()\n",
    "            n=54\n",
    "            data={}\n",
    "            cfgs=[]; times=[]\n",
    "            for i in range(len(t)//n):\n",
    "                tt=t[i*n:(i+1)*n-1]\n",
    "                tt=tt.split(' ')\n",
    "                cfg=cfg2new(tt[0]); cfgs.append(cfg)\n",
    "                time=int(tt[-4]); times.append(time)\n",
    "                data[(cfg,time)]=tt[-3:]\n",
    "        cfgs=list(set(cfgs)); times=list(set(times))\n",
    "        cfgs.sort(); times.sort()\n",
    "        print(len(cfgs),len(times))\n",
    "        fw.create_dataset('cfgs',data=cfgs)\n",
    "        fw.create_dataset('moms',data=[[0,0,0]])\n",
    "        \n",
    "        t=np.array([[np.float64(data[(cfg,time)][0]) for time in times]  for cfg in cfgs])\n",
    "        t=t[:,:,None]; t=symExpand(t)\n",
    "        fw.create_dataset('data/pi0_disc',data=t)\n",
    "        \n",
    "        t=np.array([[np.float64(data[(cfg,time)][1]) for time in times]  for cfg in cfgs])\n",
    "        t=t[:,:,None]; t=symExpand(t)\n",
    "        fw.create_dataset('data/pi0_conn',data=t)\n",
    "        \n",
    "        t=np.array([[np.float64(data[(cfg,time)][2]) for time in times]  for cfg in cfgs])\n",
    "        t=t[:,:,None]; t=symExpand(t)\n",
    "        fw.create_dataset('data/piC',data=t)\n",
    "        \n",
    "        fw.create_dataset('data/vev',data=np.zeros(len(cfgs)))\n",
    "            "
   ]
  }
 ],
 "metadata": {
  "kernelspec": {
   "display_name": "Python 3",
   "language": "python",
   "name": "python3"
  },
  "language_info": {
   "codemirror_mode": {
    "name": "ipython",
    "version": 3
   },
   "file_extension": ".py",
   "mimetype": "text/x-python",
   "name": "python",
   "nbconvert_exporter": "python",
   "pygments_lexer": "ipython3",
   "version": "3.6.8"
  }
 },
 "nbformat": 4,
 "nbformat_minor": 2
}
