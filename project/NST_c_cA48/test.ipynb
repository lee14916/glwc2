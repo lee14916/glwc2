{
 "cells": [
  {
   "cell_type": "code",
   "execution_count": null,
   "metadata": {},
   "outputs": [],
   "source": [
    "%load_ext autoreload\n",
    "%autoreload 2\n",
    "\n",
    "import os,sys\n",
    "import h5py  \n",
    "import numpy as np\n",
    "import math,cmath\n",
    "from matplotlib.backends.backend_pdf import PdfPages\n",
    "from scipy.optimize import curve_fit\n",
    "import matplotlib as mpl\n",
    "import matplotlib.pyplot as plt\n",
    "mpl.style.use('default')\n",
    "mpl.rcParams['figure.facecolor'] = 'white'\n",
    "mpl.rcParams['figure.titlesize'] = 20\n",
    "mpl.rcParams['figure.figsize'] = [6.4*1.2,4.8*1.2]\n",
    "mpl.rcParams['axes.labelsize'] = 30\n",
    "mpl.rcParams['axes.titlesize'] = 30\n",
    "mpl.rcParams['lines.marker'] = 's'\n",
    "mpl.rcParams['lines.linestyle'] = ''\n",
    "mpl.rcParams['lines.markersize'] = 12\n",
    "mpl.rcParams['errorbar.capsize'] = 12\n",
    "mpl.rcParams['xtick.labelsize'] = mpl.rcParams['ytick.labelsize'] = 22\n",
    "mpl.rcParams['legend.fontsize'] = 24\n",
    "\n",
    "mpl.rcParams.update({\"axes.grid\" : True})\n",
    "import util as yu\n",
    "\n",
    "yu.flag_fast=True"
   ]
  },
  {
   "cell_type": "code",
   "execution_count": null,
   "metadata": {},
   "outputs": [],
   "source": [
    "# cA2.09.48\n",
    "mul=0.0009\n",
    "mpcac=6.23798e-05 \n",
    "ZA=0.791\n",
    "\n",
    "# # cD96\n",
    "# mul=0.00054\n",
    "# mpcac=mul*0.1\n",
    "# ZA=0.7824\n",
    "\n",
    "print(mpcac/mul)\n",
    "\n",
    "omega=np.arctan(mul/(mpcac*ZA))\n",
    "(np.cos(omega),np.sin(omega))\n"
   ]
  }
 ],
 "metadata": {
  "kernelspec": {
   "display_name": "Python 3",
   "language": "python",
   "name": "python3"
  },
  "language_info": {
   "codemirror_mode": {
    "name": "ipython",
    "version": 3
   },
   "file_extension": ".py",
   "mimetype": "text/x-python",
   "name": "python",
   "nbconvert_exporter": "python",
   "pygments_lexer": "ipython3",
   "version": "3.6.8"
  }
 },
 "nbformat": 4,
 "nbformat_minor": 2
}
