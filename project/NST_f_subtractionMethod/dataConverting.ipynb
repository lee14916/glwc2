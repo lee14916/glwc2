{
 "cells": [
  {
   "cell_type": "code",
   "execution_count": 3,
   "metadata": {},
   "outputs": [
    {
     "name": "stdout",
     "output_type": "stream",
     "text": [
      "[b'g;0,0,0;G1g;a;l1;N_g;0,0,0;G1g;a;l1;N'\n",
      " b'g;0,0,0;G1g;a;l2;N_g;0,0,0;G1g;a;l2;N'\n",
      " b'g;0,0,1;G1;a;l1;N_g;0,0,1;G1;a;l1;N'\n",
      " b'g;0,0,1;G1;a;l2;N_g;0,0,1;G1;a;l2;N']\n",
      "<HDF5 dataset \"p_p\": shape (1228, 24, 4), type \"<c8\">\n",
      "<KeysViewHDF5 ['data', 'inserts', 'opabs', 'srcs']>\n",
      "[b'g5' b'g5gx' b'g5gy' b'g5gz' b'g5gt']\n",
      "[b'g;0,0,0;G1g;a;l1;N_g;0,0,1;G1;a;l1;N'\n",
      " b'g;0,0,0;G1g;a;l1;N_g;0,0,1;G1;a;l2;N'\n",
      " b'g;0,0,0;G1g;a;l2;N_g;0,0,1;G1;a;l1;N'\n",
      " b'g;0,0,0;G1g;a;l2;N_g;0,0,1;G1;a;l2;N']\n"
     ]
    }
   ],
   "source": [
    "import numpy as np \n",
    "import h5py\n",
    "import pickle\n",
    "\n",
    "import util as yu\n",
    "yu.flag_fast=False\n",
    "\n",
    "\n",
    "infile='/capstor/store/cscs/userlab/s1174/lyan/code/projectData/NST_f/data/NST_f_cA2.09.48_Nsgm.h5'\n",
    "# infile='/capstor/store/cscs/userlab/s1174/lyan/code/projectData/NST_f/data/NST_c_cA2.09.48.h5'\n",
    "outfile='/capstor/store/cscs/userlab/s1174/lyan/code/projectData/NST_f/data_subtractionMethod/cA2.09.48.pkl'\n",
    "\n",
    "data={}\n",
    "\n",
    "with h5py.File(infile) as fr:\n",
    "    print(fr[f'diags/N/opabs'][:])\n",
    "    print(fr[f'diags/N/data/p_p'])\n",
    "    data['twop_mom0']=np.real( yu.jackknife((fr[f'diags/N/data/p_p'][:,:,0]+fr[f'diags/N/data/p_p'][:,:,1])/2,d=2) )\n",
    "    data['twop_mom1']=np.real( yu.jackknife((fr[f'diags/N/data/p_p'][:,:,2]+fr[f'diags/N/data/p_p'][:,:,3])/2,d=2) )\n",
    "    \n",
    "    print(fr['diags/NJN'].keys())\n",
    "    print(fr['diags/NJN/inserts'][[5,6,7,8,9]])\n",
    "    print(fr['diags/NJN/opabs'][[2,3,6,7]])\n",
    "    \n",
    "    # print(fr['diags/N-j/'].keys())\n",
    "\n",
    "    data['G0_mom1']={}\n",
    "    data['GA_mom1_momi0']={}\n",
    "    data['GA_mom1_momi1']={}\n",
    "    data['G5_mom1']={}\n",
    "    for tf in [10,12,14]:\n",
    "        t=yu.jackknife(fr[f'diags/NJN/data/p_j-_p_deltat_{tf}'],d=2)\n",
    "        \n",
    "        data['G0_mom1'][f'dt{tf}']=np.real( (t[:,:,2,9]-t[:,:,7,9]) ) \n",
    "        data['GA_mom1_momi0'][f'dt{tf}']=np.real( 1j*(t[:,:,3,6]+t[:,:,6,6]) -  (t[:,:,3,7]-t[:,:,6,7]) )/2\n",
    "        data['GA_mom1_momi1'][f'dt{tf}']=np.real( 1j*(t[:,:,2,8]-t[:,:,7,8]) )\n",
    "        data['G5_mom1'][f'dt{tf}']=np.real( (t[:,:,2,5]-t[:,:,7,5]) )\n",
    "        \n",
    "        \n",
    "    data['G0_mom1_disc']={}\n",
    "    data['GA_mom1_momi0_disc']={}\n",
    "    data['GA_mom1_momi1_disc']={}\n",
    "    data['G5_mom1_disc']={}\n",
    "    for tf in [10,12,14]:\n",
    "        t=yu.jackknife(fr[f'diags/N-j/data/p_j-_p_deltat_{tf}'],d=2)\n",
    "        \n",
    "        data['G0_mom1_disc'][f'dt{tf}']=np.real( (t[:,:,2,9]-t[:,:,7,9]) ) \n",
    "        data['GA_mom1_momi0_disc'][f'dt{tf}']=np.real( 1j*(t[:,:,3,6]+t[:,:,6,6]) )\n",
    "        data['GA_mom1_momi1_disc'][f'dt{tf}']=np.real( 1j*(t[:,:,2,8]-t[:,:,7,8]) )\n",
    "        data['G5_mom1_disc'][f'dt{tf}']=np.real( (t[:,:,2,5]-t[:,:,7,5]) )\n",
    "\n",
    "with open(outfile,'wb') as f:\n",
    "    pickle.dump(data,f) \n",
    "    \n",
    "    "
   ]
  },
  {
   "cell_type": "code",
   "execution_count": 7,
   "metadata": {},
   "outputs": [
    {
     "name": "stdout",
     "output_type": "stream",
     "text": [
      "750\n",
      "401\n",
      "496\n"
     ]
    }
   ],
   "source": [
    "import numpy as np \n",
    "import h5py\n",
    "import pickle\n",
    "\n",
    "import util as yu\n",
    "yu.flag_fast=False\n",
    "\n",
    "enss=['b','c','d']\n",
    "for ens in enss:\n",
    "    t={'a':'cA2.09.48','b':'B72.64_6','c':'C60.80_6','d':'D54.96_6'}[ens]\n",
    "    path=f'/capstor/store/cscs/userlab/s1174/lyan/code/projectData/NST_f/data_subtractionMethod/{t}.pkl'\n",
    "    t=pickle.load(open(path,'rb'))\n",
    "    \n",
    "    cfgs=t['confs']\n",
    "    \n",
    "    \n",
    "    print(len(cfgs))"
   ]
  }
 ],
 "metadata": {
  "kernelspec": {
   "display_name": ".venv",
   "language": "python",
   "name": "python3"
  },
  "language_info": {
   "codemirror_mode": {
    "name": "ipython",
    "version": 3
   },
   "file_extension": ".py",
   "mimetype": "text/x-python",
   "name": "python",
   "nbconvert_exporter": "python",
   "pygments_lexer": "ipython3",
   "version": "3.11.10"
  }
 },
 "nbformat": 4,
 "nbformat_minor": 2
}
