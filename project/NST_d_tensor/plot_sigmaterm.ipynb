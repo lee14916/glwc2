{
 "cells": [
  {
   "cell_type": "code",
   "execution_count": 1,
   "metadata": {},
   "outputs": [],
   "source": [
    "%load_ext autoreload\n",
    "%autoreload 2\n",
    "\n",
    "import os,sys\n",
    "import h5py  \n",
    "import numpy as np\n",
    "np.seterr(invalid=['ignore','warn'][0])\n",
    "import math,cmath,pickle\n",
    "from matplotlib.backends.backend_pdf import PdfPages\n",
    "from scipy.optimize import curve_fit\n",
    "import matplotlib as mpl\n",
    "import matplotlib.pyplot as plt\n",
    "mpl.style.use('default')\n",
    "mpl.rcParams['figure.facecolor'] = 'white'\n",
    "mpl.rcParams['figure.titlesize'] = 20\n",
    "mpl.rcParams['figure.figsize'] = [6.4*1.2,4.8*1.2]\n",
    "mpl.rcParams['axes.labelsize'] = 30\n",
    "mpl.rcParams['axes.titlesize'] = 30\n",
    "mpl.rcParams['lines.marker'] = 's'\n",
    "mpl.rcParams['lines.linestyle'] = ''\n",
    "mpl.rcParams['lines.markersize'] = 12\n",
    "mpl.rcParams['errorbar.capsize'] = 12\n",
    "mpl.rcParams['xtick.labelsize'] = mpl.rcParams['ytick.labelsize'] = 22\n",
    "mpl.rcParams['xtick.major.size'] = mpl.rcParams['ytick.major.size'] = 10\n",
    "mpl.rcParams['xtick.top']=mpl.rcParams['ytick.right']=True\n",
    "mpl.rcParams['xtick.direction']=mpl.rcParams['ytick.direction']='in'\n",
    "mpl.rcParams['legend.fontsize'] = 24\n",
    "plt.rcParams[\"font.family\"] = \"serif\"\n",
    "plt.rcParams[\"mathtext.fontset\"] = \"dejavuserif\"\n",
    "\n",
    "# mpl.rcParams.update({\"axes.grid\" : True})\n",
    "import util_new as yu"
   ]
  },
  {
   "cell_type": "code",
   "execution_count": null,
   "metadata": {},
   "outputs": [],
   "source": [
    "sgm={\n",
    "    # Phe (old)\n",
    "    'Gasser:1990ce'\n",
    "    # Phe (new)\n",
    "    'Hoferichter:2023ptl': (59.0,3.5),\n",
    "    # Lat (FH)\n",
    "    # Lat (Direct)\n",
    "    'Agadjanov:2023efe': (43.7,np.sqrt(1.2**2+3.4**2))\n",
    "}"
   ]
  }
 ],
 "metadata": {
  "kernelspec": {
   "display_name": "Python 3",
   "language": "python",
   "name": "python3"
  },
  "language_info": {
   "codemirror_mode": {
    "name": "ipython",
    "version": 3
   },
   "file_extension": ".py",
   "mimetype": "text/x-python",
   "name": "python",
   "nbconvert_exporter": "python",
   "pygments_lexer": "ipython3",
   "version": "3.6.8"
  }
 },
 "nbformat": 4,
 "nbformat_minor": 2
}
