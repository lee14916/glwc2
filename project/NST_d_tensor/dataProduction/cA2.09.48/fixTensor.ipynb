{
 "cells": [
  {
   "cell_type": "code",
   "execution_count": 23,
   "metadata": {},
   "outputs": [
    {
     "name": "stdout",
     "output_type": "stream",
     "text": [
      "1227 1228 a2704                 \r"
     ]
    }
   ],
   "source": [
    "import h5py, os\n",
    "import numpy as np\n",
    "import shutil\n",
    "\n",
    "inpath='data_avgsrc_backup/'\n",
    "outpath='data_avgsrc/'\n",
    "\n",
    "cfgs=os.listdir(inpath)\n",
    "cfgs.sort()\n",
    "\n",
    "for i,cfg in enumerate(cfgs):\n",
    "    os.makedirs(outpath+cfg,exist_ok=True)\n",
    "    for file in os.listdir(inpath+cfg):\n",
    "        if '-j' not in file:\n",
    "            shutil.copy2(inpath+cfg+'/'+file,outpath+cfg+'/'+file)\n",
    "            continue\n",
    "        with h5py.File(inpath+cfg+'/'+file) as fr, h5py.File(outpath+cfg+'/'+file,'w') as fw:\n",
    "            for key in fr.keys():\n",
    "                if key != 'data':\n",
    "                    fw.copy(fr[key],key)\n",
    "                    continue\n",
    "                for fla in fr['data'].keys():\n",
    "                    t=fr['data'][fla][:]\n",
    "                    temp_order=np.array([0,1,2,3,4, 5,6,7,8,9, 11,10,12,13,14, 15])\n",
    "                    temp_sign=np.array([1,1,1,1,1, 1,1,1,1,1, -1,-1,1,1,1, 1])\n",
    "                    t=t[:,:,temp_order]\n",
    "                    t=t*temp_sign[None,None,:]\n",
    "                    fw.create_dataset('data/'+fla,data=t.astype('complex64'))\n",
    "    \n",
    "    print(i,len(cfgs),cfg,end='                 \\r')\n",
    "    # break"
   ]
  }
 ],
 "metadata": {
  "kernelspec": {
   "display_name": "Python 3",
   "language": "python",
   "name": "python3"
  },
  "language_info": {
   "codemirror_mode": {
    "name": "ipython",
    "version": 3
   },
   "file_extension": ".py",
   "mimetype": "text/x-python",
   "name": "python",
   "nbconvert_exporter": "python",
   "pygments_lexer": "ipython3",
   "version": "3.6.8"
  }
 },
 "nbformat": 4,
 "nbformat_minor": 2
}
