{
 "cells": [
  {
   "cell_type": "code",
   "execution_count": 2,
   "metadata": {},
   "outputs": [],
   "source": [
    "import h5py, os\n",
    "import numpy as np\n",
    "\n",
    "path1='data_merge/NST_d.h5_N-PJP'\n",
    "path2='/p/project/pines/li47/code/projectData/NST_d-tensor/data/'\n",
    "\n",
    "file='NST_c_cA2.09.48.h5'\n",
    "file='NST_d_cA2.09.48_tensor.h5'\n",
    "\n",
    "inpath=path2+'backup/'+file\n",
    "outpath=path2+file\n",
    "\n",
    "with h5py.File(path1) as f, h5py.File(inpath) as fr, h5py.File(outpath,'w') as fw:\n",
    "    for key in fr.keys():\n",
    "        fw.copy(fr[key],key)\n",
    "    fw.copy(f['diags/N-PJP'],'diags/N-PJP')"
   ]
  }
 ],
 "metadata": {
  "kernelspec": {
   "display_name": "Python 3",
   "language": "python",
   "name": "python3"
  },
  "language_info": {
   "codemirror_mode": {
    "name": "ipython",
    "version": 3
   },
   "file_extension": ".py",
   "mimetype": "text/x-python",
   "name": "python",
   "nbconvert_exporter": "python",
   "pygments_lexer": "ipython3",
   "version": "3.6.8"
  }
 },
 "nbformat": 4,
 "nbformat_minor": 2
}
