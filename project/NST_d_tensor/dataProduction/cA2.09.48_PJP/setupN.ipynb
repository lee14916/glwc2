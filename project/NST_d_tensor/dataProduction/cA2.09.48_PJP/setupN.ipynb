{
 "cells": [
  {
   "cell_type": "code",
   "execution_count": 1,
   "metadata": {},
   "outputs": [],
   "source": [
    "import h5py, os\n",
    "import numpy as np\n",
    "\n",
    "path='others/N4PJP.h5'\n",
    "with h5py.File(path) as f:\n",
    "    for cfg in f.keys():\n",
    "        if cfg in ['moms']:\n",
    "            continue\n",
    "        outpath='data_post/'+cfg+'/'\n",
    "        os.makedirs(outpath,exist_ok=True)\n",
    "        with h5py.File(outpath+'N.h5_N4PJP','w') as fw, h5py.File(outpath+'N_bw.h5_N4PJP','w') as fw_bw:\n",
    "            fw.copy(f['moms'],'moms')\n",
    "            fw_bw.copy(f['moms'],'moms')\n",
    "            for key in f[cfg].keys():\n",
    "                if not key.startswith('bw_'):\n",
    "                    fw.copy(f[cfg][key],'data/'+key)\n",
    "                else:\n",
    "                    fw_bw.copy(f[cfg][key],'data/'+key[3:])\n",
    "        # break"
   ]
  }
 ],
 "metadata": {
  "kernelspec": {
   "display_name": "Python 3",
   "language": "python",
   "name": "python3"
  },
  "language_info": {
   "codemirror_mode": {
    "name": "ipython",
    "version": 3
   },
   "file_extension": ".py",
   "mimetype": "text/x-python",
   "name": "python",
   "nbconvert_exporter": "python",
   "pygments_lexer": "ipython3",
   "version": "3.6.8"
  }
 },
 "nbformat": 4,
 "nbformat_minor": 2
}
