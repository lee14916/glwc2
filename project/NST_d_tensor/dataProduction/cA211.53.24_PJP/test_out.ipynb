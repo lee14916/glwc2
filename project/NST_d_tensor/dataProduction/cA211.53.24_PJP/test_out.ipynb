{
 "cells": [
  {
   "cell_type": "code",
   "execution_count": 4,
   "metadata": {},
   "outputs": [],
   "source": [
    "# NJN\n",
    "\n",
    "import os, shutil, click, h5py, re\n",
    "import numpy as np\n",
    "\n",
    "Nsrc=4\n",
    "def cfg2path(cfg):\n",
    "    path = '/project/s1174/fpittler/code/projectData/nucleon_sigma_term/cA211'+cfg[0]+'.53.24/NJN/outputdata_sinkMom_GOOD_sigma/'+cfg[1:]+'/'\n",
    "    return path \n",
    "    \n",
    "with open('others/cfgs_all') as f:\n",
    "    cfgs=f.read().splitlines()\n",
    "    \n",
    "for cfg in cfgs:\n",
    "    t=len(os.listdir(cfg2path(cfg)) if os.path.exists(cfg2path(cfg)) else [])/7\n",
    "    if t!= Nsrc:\n",
    "        print(cfg,t)"
   ]
  },
  {
   "cell_type": "code",
   "execution_count": 19,
   "metadata": {},
   "outputs": [],
   "source": [
    "# NJNpi\n",
    "\n",
    "import os, shutil, click, h5py, re\n",
    "import numpy as np\n",
    "from collections import Counter\n",
    "import aux\n",
    "\n",
    "Nsrc=1\n",
    "Ndiag=15\n",
    "\n",
    "def cfg2path(cfg):\n",
    "    path = '/project/s1174/fpittler/code/projectData/nucleon_sigma_term/cA211'+cfg[0]+'.53.24/NJNpi_GEVP/outputdata_sinkMom_SIGMA/'+cfg[1:]+'/'\n",
    "    return path \n",
    "\n",
    "with open('others/cfgs_all') as f:\n",
    "    cfgs=f.read().splitlines()\n",
    "    \n",
    "for cfg in cfgs:\n",
    "    files=os.listdir(cfg2path(cfg)) if os.path.exists(cfg2path(cfg)) else []\n",
    "\n",
    "    diags=['_'.join(file.split('_')[2:]) for file in files]\n",
    "    srcs=[file.split('_')[1] for file in files]\n",
    "    for src,num in Counter(srcs).items():\n",
    "        if num!=Ndiag:\n",
    "            print('Ndiag',cfg,src,num)\n",
    "            \n",
    "    srcs=list(set(srcs))\n",
    "    srcs_new=[]\n",
    "    for src in srcs:\n",
    "        (sx,sy,sz,st)=re.search('sx([0-9]*)sy([0-9]*)sz([0-9]*)st([0-9]*)',src).groups()\n",
    "        (sx,sy,sz,st)=(int(sx),int(sy),int(sz),int(st))\n",
    "        src_new='sx{:03d}sy{:03d}sz{:03d}st{:03d}'.format(sx,sy,sz,st%(aux.Tpack))\n",
    "        srcs_new.append(src_new)\n",
    "    srcs_new=list(set(srcs_new))\n",
    "    if len(srcs_new)!=Nsrc:\n",
    "        print('Nsrc',cfg,len(srcs_new),len(srcs))\n",
    "    \n",
    "    # break"
   ]
  },
  {
   "cell_type": "code",
   "execution_count": 9,
   "metadata": {},
   "outputs": [
    {
     "name": "stdout",
     "output_type": "stream",
     "text": [
      "['b0020', 'b0022', 'b0024', 'b0026', 'b0028', 'b0354', 'b1030', 'b1068', 'b1094']\n"
     ]
    }
   ],
   "source": [
    "with open('others/cfgs_all') as f:\n",
    "    cfgs=f.read().splitlines()\n",
    "    \n",
    "with open('data_aux/cfgs_done') as f:\n",
    "    cfgs_done=f.read().splitlines()\n",
    "    \n",
    "cfgs_run=list(set(cfgs)-set(cfgs_done))\n",
    "cfgs_run.sort()\n",
    "print(cfgs_run)\n",
    "\n",
    "with open('data_aux/cfgs_run','w') as f:\n",
    "    f.write('\\n'.join(cfgs_run))"
   ]
  }
 ],
 "metadata": {
  "kernelspec": {
   "display_name": "Python 3",
   "language": "python",
   "name": "python3"
  },
  "language_info": {
   "codemirror_mode": {
    "name": "ipython",
    "version": 3
   },
   "file_extension": ".py",
   "mimetype": "text/x-python",
   "name": "python",
   "nbconvert_exporter": "python",
   "pygments_lexer": "ipython3",
   "version": "3.9.12"
  },
  "orig_nbformat": 4
 },
 "nbformat": 4,
 "nbformat_minor": 2
}
