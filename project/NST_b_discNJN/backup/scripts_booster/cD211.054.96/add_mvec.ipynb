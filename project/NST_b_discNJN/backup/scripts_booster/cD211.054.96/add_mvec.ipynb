{
 "cells": [
  {
   "cell_type": "code",
   "execution_count": null,
   "metadata": {},
   "outputs": [],
   "source": [
    "import re, shutil\n",
    "import h5py, os\n",
    "import numpy as np\n",
    "\n",
    "cfgs=os.listdir('data_post')\n",
    "cfgs.sort()\n",
    "\n",
    "for cfg in cfgs:\n",
    "    print(cfg)\n",
    "    path1='data_post/'+cfg+'/N.h5_twop_threep_3'\n",
    "    path2='data_post/'+cfg+'/N.h5_nucl_all_source'\n",
    "    outpath='data_post/'+cfg+'/N.h5_nucl_all_source_temp'\n",
    "    with h5py.File(path1) as f1, h5py.File(path2) as f2, h5py.File(outpath,'w') as fw:\n",
    "        fw.copy(f1['mvec'],fw,name='mvec')\n",
    "        fw.copy(f2['data'],fw,name='data')\n",
    "        \n",
    "    shutil.copy2(path2,path2+'_backup')\n",
    "    os.remove(path2)\n",
    "    os.rename(outpath,path2)\n",
    "    os.remove(path2+'_backup')\n",
    "    \n",
    "    print(cfg)\n",
    "    # break"
   ]
  }
 ],
 "metadata": {
  "kernelspec": {
   "display_name": "Python 3",
   "language": "python",
   "name": "python3"
  },
  "language_info": {
   "codemirror_mode": {
    "name": "ipython",
    "version": 3
   },
   "file_extension": ".py",
   "mimetype": "text/x-python",
   "name": "python",
   "nbconvert_exporter": "python",
   "pygments_lexer": "ipython3",
   "version": "3.6.8"
  },
  "orig_nbformat": 4
 },
 "nbformat": 4,
 "nbformat_minor": 2
}
