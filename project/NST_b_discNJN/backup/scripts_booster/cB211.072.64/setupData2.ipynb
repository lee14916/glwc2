{
 "cells": [
  {
   "cell_type": "code",
   "execution_count": null,
   "metadata": {},
   "outputs": [],
   "source": [
    "import re\n",
    "import h5py, os\n",
    "import numpy as np\n",
    "\n",
    "inpath='data_pre/'\n",
    "outpath='data_post/'\n",
    "\n",
    "# pf1 pf2 pc pi1 pi2\n",
    "Nmax=4\n",
    "Nmax_sq=int(np.floor(np.sqrt(Nmax))); t_range=range(-Nmax_sq,Nmax_sq+1)\n",
    "base_momList=[[x,y,z] for x in t_range for y in t_range for z in t_range if np.linalg.norm([x,y,z])**2<=Nmax]\n",
    "base_momList.sort()\n",
    "target_momList=[mom+[0,0,0]+[0,0,0]+mom+[0,0,0] for mom in base_momList]\n",
    "target_momList.sort()\n",
    "target_momList=np.array(target_momList)\n",
    "target_pf1List=target_momList[:,:3]\n",
    "target_pf2List=target_momList[:,3:6]\n",
    "target_pcList=target_momList[:,6:9]\n",
    "target_pi1List=target_momList[:,9:12]\n",
    "target_pi2List=target_momList[:,12:15]\n",
    "\n",
    "# main\n",
    "cfgs = [cfg for cfg in os.listdir(inpath)]\n",
    "cfgs.sort()\n",
    "\n",
    "for cfg in cfgs:\n",
    "    os.makedirs(outpath+cfg,exist_ok=True)\n",
    "    with h5py.File(outpath+cfg+'/N.h5', 'w') as fw:\n",
    "        fw.create_dataset('mvec',data=target_momList)\n",
    "        for file in os.listdir(inpath+cfg):\n",
    "            if not file.startswith('N.h5'):\n",
    "                continue\n",
    "            print(file)\n",
    "            with h5py.File(inpath+cfg+'/'+file) as fr:\n",
    "                moms=fr['mvec']\n",
    "                momDic={}\n",
    "                for i,mom in enumerate(moms):\n",
    "                    momDic[tuple(mom)]=i\n",
    "                momMap=np.array([momDic[tuple(mom)] for mom in target_pf1List])\n",
    "\n",
    "                for src in fr['baryons/nucl_nucl/twop_baryon_1'].keys():\n",
    "                    (sx,sy,sz,st)=re.search('sx([0-9]*)sy([0-9]*)sz([0-9]*)st([0-9]*)',src).groups()\n",
    "                    (sx,sy,sz,st)=(int(sx),int(sy),int(sz),int(st))\n",
    "                    src_new='sx'+str(sx)+'sy'+str(sy)+'sz'+str(sz)+'st'+str(st)\n",
    "\n",
    "                    for ky in ['twop_baryon_1','twop_baryon_2']:\n",
    "                        ky_new={'twop_baryon_1':'p,p','twop_baryon_2':'n,n'}[ky]\n",
    "                        tF=fr['baryons/nucl_nucl'][ky][src]\n",
    "                        t=tF[...,0]+1j*tF[...,1]\n",
    "                        t=t[:,momMap,:]\n",
    "                        fw.create_dataset('data/'+src_new+'/'+ky_new,data=t)\n",
    "    print(cfg)\n",
    "    # break"
   ]
  }
 ],
 "metadata": {
  "kernelspec": {
   "display_name": "Python 3",
   "language": "python",
   "name": "python3"
  },
  "language_info": {
   "codemirror_mode": {
    "name": "ipython",
    "version": 3
   },
   "file_extension": ".py",
   "mimetype": "text/x-python",
   "name": "python",
   "nbconvert_exporter": "python",
   "pygments_lexer": "ipython3",
   "version": "3.6.8"
  },
  "orig_nbformat": 4
 },
 "nbformat": 4,
 "nbformat_minor": 2
}
