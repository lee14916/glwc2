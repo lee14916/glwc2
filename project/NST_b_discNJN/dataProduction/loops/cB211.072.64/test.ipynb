{
 "cells": [
  {
   "cell_type": "code",
   "execution_count": 23,
   "metadata": {},
   "outputs": [
    {
     "name": "stdout",
     "output_type": "stream",
     "text": [
      "[1139698.01469868  122737.77666985]\n",
      "[3.95236024e+08 4.71815418e+03]\n"
     ]
    }
   ],
   "source": [
    "import re\n",
    "import h5py, os\n",
    "import numpy as np\n",
    "\n",
    "p=(0,0,0)\n",
    "\n",
    "path='/nvme/h/cyclamen/home/cy22yl1/code/loops_discNJN/data/cB211.072.64/data_pre/0004_r1/js.h5_stoch_D8'\n",
    "with h5py.File(path) as f:\n",
    "    moms=f['Momenta_list_xyz']\n",
    "    dic={}\n",
    "    for i,mom in enumerate(moms):\n",
    "        dic[tuple(mom)]=i\n",
    "    print(f['conf_0004/Nstoch_0001/Scalar/loop'][0,dic[p],0,:])\n",
    "    \n",
    "path='/nvme/h/cyclamen/home/cy22yl1/code/loops_discNJN/data/cB211.072.64/data_pre/0004_r1/js.h5_stoch_gen_D8_S2'\n",
    "with h5py.File(path) as f:\n",
    "    moms=f['Conf0004_r1/Ns0/localLoops/mvec']\n",
    "    dic={}\n",
    "    for i,mom in enumerate(moms):\n",
    "        dic[tuple(mom)]=i\n",
    "    print(f['Conf0004_r1/Ns0/localLoops/loop'][0,0,0,dic[p],:])"
   ]
  },
  {
   "cell_type": "code",
   "execution_count": 12,
   "metadata": {},
   "outputs": [
    {
     "name": "stdout",
     "output_type": "stream",
     "text": [
      "7.327471962526033e-15\n",
      "1.180278097479004e-12\n",
      "1.2989609388114332e-14\n",
      "1.6653345369377348e-14\n"
     ]
    }
   ],
   "source": [
    "import re\n",
    "import h5py, os\n",
    "import numpy as np\n",
    "\n",
    "t_sub=np.array([1, -1,1,-1,1, 1, 1,-1,1,-1, 1,-1,1, 1,-1,1])\n",
    "t_sub=t_sub[None,None,:]\n",
    "t_sub=t_sub[[0]*128]\n",
    "t_sub=t_sub[:,[0]*33]\n",
    "\n",
    "path1='/nvme/h/cyclamen/home/cy22yl1/code/loops_discNJN-new/data/cB211.072.64/data_post/0004_r1/j.h5'\n",
    "path2='/nvme/h/cyclamen/home/cy22yl1/code/loops_discNJN-new/data/cB211.072.64/data_post_backup/0004_r1/j.h5'\n",
    "with h5py.File(path1) as f1, h5py.File(path2) as f2:\n",
    "    for fla in f1['data'].keys(): \n",
    "        t=np.real(f1['data'][fla][:]/f2['data'][fla])\n",
    "        t=t-t_sub\n",
    "        t=np.abs(t)\n",
    "        print(np.max(t))"
   ]
  }
 ],
 "metadata": {
  "kernelspec": {
   "display_name": "Python 3",
   "language": "python",
   "name": "python3"
  },
  "language_info": {
   "codemirror_mode": {
    "name": "ipython",
    "version": 3
   },
   "file_extension": ".py",
   "mimetype": "text/x-python",
   "name": "python",
   "nbconvert_exporter": "python",
   "pygments_lexer": "ipython3",
   "version": "3.6.8"
  },
  "orig_nbformat": 4
 },
 "nbformat": 4,
 "nbformat_minor": 2
}
