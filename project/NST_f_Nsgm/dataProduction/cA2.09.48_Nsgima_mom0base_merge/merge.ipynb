{
 "cells": [
  {
   "cell_type": "code",
   "execution_count": 1,
   "metadata": {},
   "outputs": [],
   "source": [
    "import h5py,os\n",
    "import numpy as np\n",
    "\n",
    "mergecode='NST_f_cA2.09.48_Nsgm_tf=10-18.h5'\n",
    "\n",
    "basepath='/capstor/store/cscs/userlab/s1174/lyan/code/projectData/NST_f/cA2.09.48_Nsgima_mom0base_'\n",
    "tfs=['101214','16','18']\n",
    "\n",
    "flag=True\n",
    "with h5py.File(mergecode,'w') as fw:    \n",
    "    for tf in tfs[:1]:\n",
    "        files=[file for file in os.listdir(basepath+tf+'/data_merge/') if '.h5' in file]\n",
    "        assert(len(files)==1)\n",
    "        with h5py.File(basepath+tf+'/data_merge/'+files[0]) as fr:\n",
    "            for key in fr.keys():\n",
    "                fw.copy(fr[key],fw,name=key)\n",
    "    \n",
    "    for tf in tfs[1:]:\n",
    "        files=[file for file in os.listdir(basepath+tf+'/data_merge/') if '.h5' in file]\n",
    "        assert(len(files)==1)\n",
    "        with h5py.File(basepath+tf+'/data_merge/'+files[0]) as fr:\n",
    "            for diag in fr['diags'].keys():\n",
    "                if diag.split('-')[0] in ['NJN','B3pt','W3pt','Z3pt'] or\\\n",
    "                    'j' in diag.split('-') or 'jPi' in diag.split('-') or 'jPf' in diag.split('-'):\n",
    "                    for fla in fr['diags'][diag]['data'].keys():\n",
    "                        fw.create_dataset(f'diags/{diag}/data/{fla}',data=fr[f'diags/{diag}/data/{fla}'])\n",
    "                    for src in fr['diags'][diag]['srcs'].keys():\n",
    "                        if src not in fw['diags'][diag]['srcs'].keys():\n",
    "                            fw.create_dataset(f'diags/{diag}/scrs/{src}',data=fr['diags'][diag]['srcs'][src])\n"
   ]
  }
 ],
 "metadata": {
  "kernelspec": {
   "display_name": ".venv",
   "language": "python",
   "name": "python3"
  },
  "language_info": {
   "codemirror_mode": {
    "name": "ipython",
    "version": 3
   },
   "file_extension": ".py",
   "mimetype": "text/x-python",
   "name": "python",
   "nbconvert_exporter": "python",
   "pygments_lexer": "ipython3",
   "version": "3.11.10"
  }
 },
 "nbformat": 4,
 "nbformat_minor": 2
}
